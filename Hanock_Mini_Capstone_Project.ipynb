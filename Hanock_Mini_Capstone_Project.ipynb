{
  "nbformat": 4,
  "nbformat_minor": 0,
  "metadata": {
    "colab": {
      "name": "Hanock-Mini Capstone Project.ipynb",
      "provenance": [],
      "collapsed_sections": []
    },
    "kernelspec": {
      "name": "python3",
      "display_name": "Python 3"
    },
    "language_info": {
      "name": "python"
    }
  },
  "cells": [
    {
      "cell_type": "markdown",
      "source": [
        "We have been given a data set from telecom industry serving 7043 cusomers in the city California in Quarter 3.\n",
        "we need to find the results for following queries:\n",
        "Q1. Please read the file and explain data types statistically as well as how python is reading it. Please let us know if any data type is read wrong.\n",
        "\n",
        "Q2: Please apply appropriate statistical measures using python based on data types.\n",
        "\n",
        "Q3: What is the percentage of females and senior citizens in this data set? Please create appropriate plots and explain the plots.\n",
        "\n",
        "Q4:  Please create an appropriate plot to examine the distribution of the tenure month column and explain the distribution. Based on distribution, perform appropriate statistical measures. Please also explain if the variable is symmetric or skewed. Please calculate it. Explain everything as asked.\n",
        "\n",
        "Q5: Please convert all binary columns into 0 and 1 using appropriate programming constructs, not one by one.\n",
        "\n",
        "Q6: Please examine the distribution of monthly charges between males and females using box plots. Please explain the results also. \n",
        "\n",
        "Q7: Please find what is the minimum total charges for Los Angeles city. Please find which zip code has the maximum total charges.\n",
        "\n",
        "Q8: Please find which payment method has the highest churn score and which has the lowest churn score.\n",
        "\n",
        "Q9: Please create an appropriate plot to check the count of payment methods and explain it.\n",
        "\n",
        "Q10: Please create an appropriate plot to see the relationship between monthly charges and total charges."
      ],
      "metadata": {
        "id": "SdtKE0EqCL8h"
      }
    },
    {
      "cell_type": "markdown",
      "source": [
        "first we need to import libraries like pandas, numpy, seaborn and matplotlib to work on."
      ],
      "metadata": {
        "id": "_u8i67fKDnd0"
      }
    },
    {
      "cell_type": "code",
      "execution_count": 2,
      "metadata": {
        "id": "yLvRDstcbyIV"
      },
      "outputs": [],
      "source": [
        "import pandas as pd\n",
        "import numpy as np\n",
        "import seaborn as sns\n",
        "import matplotlib.pyplot as plt\n"
      ]
    },
    {
      "cell_type": "markdown",
      "source": [
        "first we need to analyse the data set given to us. so we need to read the file so that we can analyse the table. Below we can read the table and analyse for the required result."
      ],
      "metadata": {
        "id": "aCpWsFWOB-HY"
      }
    },
    {
      "cell_type": "markdown",
      "source": [
        "**Q1.Please read the file and explain data types statistically as well as how python is reading it. Please let us know if any data type is read wrong.**"
      ],
      "metadata": {
        "id": "_0KJfb6hzCXX"
      }
    },
    {
      "cell_type": "markdown",
      "source": [
        "Reading the file:"
      ],
      "metadata": {
        "id": "ahK_W9Q8AXWA"
      }
    },
    {
      "cell_type": "code",
      "source": [
        "df=pd.read_csv('Telco_customer_churn1.csv')\n",
        "\n",
        "df1=df\n",
        "\n",
        "df"
      ],
      "metadata": {
        "colab": {
          "base_uri": "https://localhost:8080/",
          "height": 748
        },
        "id": "sjBc40e4cCex",
        "outputId": "e13b8fc0-6f67-460c-c0c7-9333ae822aec"
      },
      "execution_count": 3,
      "outputs": [
        {
          "output_type": "execute_result",
          "data": {
            "text/plain": [
              "      CustomerID  Count        Country       State          City  Zip Code  \\\n",
              "0     3668-QPYBK      1  United States  California   Los Angeles     90003   \n",
              "1     9237-HQITU      1  United States  California   Los Angeles     90005   \n",
              "2     9305-CDSKC      1  United States  California   Los Angeles     90006   \n",
              "3     7892-POOKP      1  United States  California   Los Angeles     90010   \n",
              "4     0280-XJGEX      1  United States  California   Los Angeles     90015   \n",
              "...          ...    ...            ...         ...           ...       ...   \n",
              "7038  2569-WGERO      1  United States  California       Landers     92285   \n",
              "7039  6840-RESVB      1  United States  California      Adelanto     92301   \n",
              "7040  2234-XADUH      1  United States  California         Amboy     92304   \n",
              "7041  4801-JZAZL      1  United States  California  Angelus Oaks     92305   \n",
              "7042  3186-AJIEK      1  United States  California  Apple Valley     92308   \n",
              "\n",
              "                    Lat Long   Latitude   Longitude  Gender  ...  \\\n",
              "0     33.964131, -118.272783  33.964131 -118.272783    Male  ...   \n",
              "1      34.059281, -118.30742  34.059281 -118.307420  Female  ...   \n",
              "2     34.048013, -118.293953  34.048013 -118.293953  Female  ...   \n",
              "3     34.062125, -118.315709  34.062125 -118.315709  Female  ...   \n",
              "4     34.039224, -118.266293  34.039224 -118.266293    Male  ...   \n",
              "...                      ...        ...         ...     ...  ...   \n",
              "7038  34.341737, -116.539416  34.341737 -116.539416  Female  ...   \n",
              "7039  34.667815, -117.536183  34.667815 -117.536183    Male  ...   \n",
              "7040  34.559882, -115.637164  34.559882 -115.637164  Female  ...   \n",
              "7041     34.1678, -116.86433  34.167800 -116.864330  Female  ...   \n",
              "7042  34.424926, -117.184503  34.424926 -117.184503    Male  ...   \n",
              "\n",
              "            Contract Paperless Billing             Payment Method  \\\n",
              "0     Month-to-month               Yes               Mailed check   \n",
              "1     Month-to-month               Yes           Electronic check   \n",
              "2     Month-to-month               Yes           Electronic check   \n",
              "3     Month-to-month               Yes           Electronic check   \n",
              "4     Month-to-month               Yes  Bank transfer (automatic)   \n",
              "...              ...               ...                        ...   \n",
              "7038        Two year               Yes  Bank transfer (automatic)   \n",
              "7039        One year               Yes               Mailed check   \n",
              "7040        One year               Yes    Credit card (automatic)   \n",
              "7041  Month-to-month               Yes           Electronic check   \n",
              "7042        Two year               Yes  Bank transfer (automatic)   \n",
              "\n",
              "      Monthly Charges Total Charges Churn Label Churn Value Churn Score  CLTV  \\\n",
              "0               53.85        108.15         Yes           1          86  3239   \n",
              "1               70.70        151.65         Yes           1          67  2701   \n",
              "2               99.65        820.50         Yes           1          86  5372   \n",
              "3              104.80       3046.05         Yes           1          84  5003   \n",
              "4              103.70       5036.30         Yes           1          89  5340   \n",
              "...               ...           ...         ...         ...         ...   ...   \n",
              "7038            21.15       1419.40          No           0          45  5306   \n",
              "7039            84.80       1990.50          No           0          59  2140   \n",
              "7040           103.20       7362.90          No           0          71  5560   \n",
              "7041            29.60        346.45          No           0          59  2793   \n",
              "7042           105.65       6844.50          No           0          38  5097   \n",
              "\n",
              "                       Churn Reason  \n",
              "0      Competitor made better offer  \n",
              "1                             Moved  \n",
              "2                             Moved  \n",
              "3                             Moved  \n",
              "4     Competitor had better devices  \n",
              "...                             ...  \n",
              "7038                            NaN  \n",
              "7039                            NaN  \n",
              "7040                            NaN  \n",
              "7041                            NaN  \n",
              "7042                            NaN  \n",
              "\n",
              "[7043 rows x 33 columns]"
            ],
            "text/html": [
              "\n",
              "  <div id=\"df-e9f30330-6a84-4f54-8eb9-b1f1369d06c0\">\n",
              "    <div class=\"colab-df-container\">\n",
              "      <div>\n",
              "<style scoped>\n",
              "    .dataframe tbody tr th:only-of-type {\n",
              "        vertical-align: middle;\n",
              "    }\n",
              "\n",
              "    .dataframe tbody tr th {\n",
              "        vertical-align: top;\n",
              "    }\n",
              "\n",
              "    .dataframe thead th {\n",
              "        text-align: right;\n",
              "    }\n",
              "</style>\n",
              "<table border=\"1\" class=\"dataframe\">\n",
              "  <thead>\n",
              "    <tr style=\"text-align: right;\">\n",
              "      <th></th>\n",
              "      <th>CustomerID</th>\n",
              "      <th>Count</th>\n",
              "      <th>Country</th>\n",
              "      <th>State</th>\n",
              "      <th>City</th>\n",
              "      <th>Zip Code</th>\n",
              "      <th>Lat Long</th>\n",
              "      <th>Latitude</th>\n",
              "      <th>Longitude</th>\n",
              "      <th>Gender</th>\n",
              "      <th>...</th>\n",
              "      <th>Contract</th>\n",
              "      <th>Paperless Billing</th>\n",
              "      <th>Payment Method</th>\n",
              "      <th>Monthly Charges</th>\n",
              "      <th>Total Charges</th>\n",
              "      <th>Churn Label</th>\n",
              "      <th>Churn Value</th>\n",
              "      <th>Churn Score</th>\n",
              "      <th>CLTV</th>\n",
              "      <th>Churn Reason</th>\n",
              "    </tr>\n",
              "  </thead>\n",
              "  <tbody>\n",
              "    <tr>\n",
              "      <th>0</th>\n",
              "      <td>3668-QPYBK</td>\n",
              "      <td>1</td>\n",
              "      <td>United States</td>\n",
              "      <td>California</td>\n",
              "      <td>Los Angeles</td>\n",
              "      <td>90003</td>\n",
              "      <td>33.964131, -118.272783</td>\n",
              "      <td>33.964131</td>\n",
              "      <td>-118.272783</td>\n",
              "      <td>Male</td>\n",
              "      <td>...</td>\n",
              "      <td>Month-to-month</td>\n",
              "      <td>Yes</td>\n",
              "      <td>Mailed check</td>\n",
              "      <td>53.85</td>\n",
              "      <td>108.15</td>\n",
              "      <td>Yes</td>\n",
              "      <td>1</td>\n",
              "      <td>86</td>\n",
              "      <td>3239</td>\n",
              "      <td>Competitor made better offer</td>\n",
              "    </tr>\n",
              "    <tr>\n",
              "      <th>1</th>\n",
              "      <td>9237-HQITU</td>\n",
              "      <td>1</td>\n",
              "      <td>United States</td>\n",
              "      <td>California</td>\n",
              "      <td>Los Angeles</td>\n",
              "      <td>90005</td>\n",
              "      <td>34.059281, -118.30742</td>\n",
              "      <td>34.059281</td>\n",
              "      <td>-118.307420</td>\n",
              "      <td>Female</td>\n",
              "      <td>...</td>\n",
              "      <td>Month-to-month</td>\n",
              "      <td>Yes</td>\n",
              "      <td>Electronic check</td>\n",
              "      <td>70.70</td>\n",
              "      <td>151.65</td>\n",
              "      <td>Yes</td>\n",
              "      <td>1</td>\n",
              "      <td>67</td>\n",
              "      <td>2701</td>\n",
              "      <td>Moved</td>\n",
              "    </tr>\n",
              "    <tr>\n",
              "      <th>2</th>\n",
              "      <td>9305-CDSKC</td>\n",
              "      <td>1</td>\n",
              "      <td>United States</td>\n",
              "      <td>California</td>\n",
              "      <td>Los Angeles</td>\n",
              "      <td>90006</td>\n",
              "      <td>34.048013, -118.293953</td>\n",
              "      <td>34.048013</td>\n",
              "      <td>-118.293953</td>\n",
              "      <td>Female</td>\n",
              "      <td>...</td>\n",
              "      <td>Month-to-month</td>\n",
              "      <td>Yes</td>\n",
              "      <td>Electronic check</td>\n",
              "      <td>99.65</td>\n",
              "      <td>820.50</td>\n",
              "      <td>Yes</td>\n",
              "      <td>1</td>\n",
              "      <td>86</td>\n",
              "      <td>5372</td>\n",
              "      <td>Moved</td>\n",
              "    </tr>\n",
              "    <tr>\n",
              "      <th>3</th>\n",
              "      <td>7892-POOKP</td>\n",
              "      <td>1</td>\n",
              "      <td>United States</td>\n",
              "      <td>California</td>\n",
              "      <td>Los Angeles</td>\n",
              "      <td>90010</td>\n",
              "      <td>34.062125, -118.315709</td>\n",
              "      <td>34.062125</td>\n",
              "      <td>-118.315709</td>\n",
              "      <td>Female</td>\n",
              "      <td>...</td>\n",
              "      <td>Month-to-month</td>\n",
              "      <td>Yes</td>\n",
              "      <td>Electronic check</td>\n",
              "      <td>104.80</td>\n",
              "      <td>3046.05</td>\n",
              "      <td>Yes</td>\n",
              "      <td>1</td>\n",
              "      <td>84</td>\n",
              "      <td>5003</td>\n",
              "      <td>Moved</td>\n",
              "    </tr>\n",
              "    <tr>\n",
              "      <th>4</th>\n",
              "      <td>0280-XJGEX</td>\n",
              "      <td>1</td>\n",
              "      <td>United States</td>\n",
              "      <td>California</td>\n",
              "      <td>Los Angeles</td>\n",
              "      <td>90015</td>\n",
              "      <td>34.039224, -118.266293</td>\n",
              "      <td>34.039224</td>\n",
              "      <td>-118.266293</td>\n",
              "      <td>Male</td>\n",
              "      <td>...</td>\n",
              "      <td>Month-to-month</td>\n",
              "      <td>Yes</td>\n",
              "      <td>Bank transfer (automatic)</td>\n",
              "      <td>103.70</td>\n",
              "      <td>5036.30</td>\n",
              "      <td>Yes</td>\n",
              "      <td>1</td>\n",
              "      <td>89</td>\n",
              "      <td>5340</td>\n",
              "      <td>Competitor had better devices</td>\n",
              "    </tr>\n",
              "    <tr>\n",
              "      <th>...</th>\n",
              "      <td>...</td>\n",
              "      <td>...</td>\n",
              "      <td>...</td>\n",
              "      <td>...</td>\n",
              "      <td>...</td>\n",
              "      <td>...</td>\n",
              "      <td>...</td>\n",
              "      <td>...</td>\n",
              "      <td>...</td>\n",
              "      <td>...</td>\n",
              "      <td>...</td>\n",
              "      <td>...</td>\n",
              "      <td>...</td>\n",
              "      <td>...</td>\n",
              "      <td>...</td>\n",
              "      <td>...</td>\n",
              "      <td>...</td>\n",
              "      <td>...</td>\n",
              "      <td>...</td>\n",
              "      <td>...</td>\n",
              "      <td>...</td>\n",
              "    </tr>\n",
              "    <tr>\n",
              "      <th>7038</th>\n",
              "      <td>2569-WGERO</td>\n",
              "      <td>1</td>\n",
              "      <td>United States</td>\n",
              "      <td>California</td>\n",
              "      <td>Landers</td>\n",
              "      <td>92285</td>\n",
              "      <td>34.341737, -116.539416</td>\n",
              "      <td>34.341737</td>\n",
              "      <td>-116.539416</td>\n",
              "      <td>Female</td>\n",
              "      <td>...</td>\n",
              "      <td>Two year</td>\n",
              "      <td>Yes</td>\n",
              "      <td>Bank transfer (automatic)</td>\n",
              "      <td>21.15</td>\n",
              "      <td>1419.40</td>\n",
              "      <td>No</td>\n",
              "      <td>0</td>\n",
              "      <td>45</td>\n",
              "      <td>5306</td>\n",
              "      <td>NaN</td>\n",
              "    </tr>\n",
              "    <tr>\n",
              "      <th>7039</th>\n",
              "      <td>6840-RESVB</td>\n",
              "      <td>1</td>\n",
              "      <td>United States</td>\n",
              "      <td>California</td>\n",
              "      <td>Adelanto</td>\n",
              "      <td>92301</td>\n",
              "      <td>34.667815, -117.536183</td>\n",
              "      <td>34.667815</td>\n",
              "      <td>-117.536183</td>\n",
              "      <td>Male</td>\n",
              "      <td>...</td>\n",
              "      <td>One year</td>\n",
              "      <td>Yes</td>\n",
              "      <td>Mailed check</td>\n",
              "      <td>84.80</td>\n",
              "      <td>1990.50</td>\n",
              "      <td>No</td>\n",
              "      <td>0</td>\n",
              "      <td>59</td>\n",
              "      <td>2140</td>\n",
              "      <td>NaN</td>\n",
              "    </tr>\n",
              "    <tr>\n",
              "      <th>7040</th>\n",
              "      <td>2234-XADUH</td>\n",
              "      <td>1</td>\n",
              "      <td>United States</td>\n",
              "      <td>California</td>\n",
              "      <td>Amboy</td>\n",
              "      <td>92304</td>\n",
              "      <td>34.559882, -115.637164</td>\n",
              "      <td>34.559882</td>\n",
              "      <td>-115.637164</td>\n",
              "      <td>Female</td>\n",
              "      <td>...</td>\n",
              "      <td>One year</td>\n",
              "      <td>Yes</td>\n",
              "      <td>Credit card (automatic)</td>\n",
              "      <td>103.20</td>\n",
              "      <td>7362.90</td>\n",
              "      <td>No</td>\n",
              "      <td>0</td>\n",
              "      <td>71</td>\n",
              "      <td>5560</td>\n",
              "      <td>NaN</td>\n",
              "    </tr>\n",
              "    <tr>\n",
              "      <th>7041</th>\n",
              "      <td>4801-JZAZL</td>\n",
              "      <td>1</td>\n",
              "      <td>United States</td>\n",
              "      <td>California</td>\n",
              "      <td>Angelus Oaks</td>\n",
              "      <td>92305</td>\n",
              "      <td>34.1678, -116.86433</td>\n",
              "      <td>34.167800</td>\n",
              "      <td>-116.864330</td>\n",
              "      <td>Female</td>\n",
              "      <td>...</td>\n",
              "      <td>Month-to-month</td>\n",
              "      <td>Yes</td>\n",
              "      <td>Electronic check</td>\n",
              "      <td>29.60</td>\n",
              "      <td>346.45</td>\n",
              "      <td>No</td>\n",
              "      <td>0</td>\n",
              "      <td>59</td>\n",
              "      <td>2793</td>\n",
              "      <td>NaN</td>\n",
              "    </tr>\n",
              "    <tr>\n",
              "      <th>7042</th>\n",
              "      <td>3186-AJIEK</td>\n",
              "      <td>1</td>\n",
              "      <td>United States</td>\n",
              "      <td>California</td>\n",
              "      <td>Apple Valley</td>\n",
              "      <td>92308</td>\n",
              "      <td>34.424926, -117.184503</td>\n",
              "      <td>34.424926</td>\n",
              "      <td>-117.184503</td>\n",
              "      <td>Male</td>\n",
              "      <td>...</td>\n",
              "      <td>Two year</td>\n",
              "      <td>Yes</td>\n",
              "      <td>Bank transfer (automatic)</td>\n",
              "      <td>105.65</td>\n",
              "      <td>6844.50</td>\n",
              "      <td>No</td>\n",
              "      <td>0</td>\n",
              "      <td>38</td>\n",
              "      <td>5097</td>\n",
              "      <td>NaN</td>\n",
              "    </tr>\n",
              "  </tbody>\n",
              "</table>\n",
              "<p>7043 rows × 33 columns</p>\n",
              "</div>\n",
              "      <button class=\"colab-df-convert\" onclick=\"convertToInteractive('df-e9f30330-6a84-4f54-8eb9-b1f1369d06c0')\"\n",
              "              title=\"Convert this dataframe to an interactive table.\"\n",
              "              style=\"display:none;\">\n",
              "        \n",
              "  <svg xmlns=\"http://www.w3.org/2000/svg\" height=\"24px\"viewBox=\"0 0 24 24\"\n",
              "       width=\"24px\">\n",
              "    <path d=\"M0 0h24v24H0V0z\" fill=\"none\"/>\n",
              "    <path d=\"M18.56 5.44l.94 2.06.94-2.06 2.06-.94-2.06-.94-.94-2.06-.94 2.06-2.06.94zm-11 1L8.5 8.5l.94-2.06 2.06-.94-2.06-.94L8.5 2.5l-.94 2.06-2.06.94zm10 10l.94 2.06.94-2.06 2.06-.94-2.06-.94-.94-2.06-.94 2.06-2.06.94z\"/><path d=\"M17.41 7.96l-1.37-1.37c-.4-.4-.92-.59-1.43-.59-.52 0-1.04.2-1.43.59L10.3 9.45l-7.72 7.72c-.78.78-.78 2.05 0 2.83L4 21.41c.39.39.9.59 1.41.59.51 0 1.02-.2 1.41-.59l7.78-7.78 2.81-2.81c.8-.78.8-2.07 0-2.86zM5.41 20L4 18.59l7.72-7.72 1.47 1.35L5.41 20z\"/>\n",
              "  </svg>\n",
              "      </button>\n",
              "      \n",
              "  <style>\n",
              "    .colab-df-container {\n",
              "      display:flex;\n",
              "      flex-wrap:wrap;\n",
              "      gap: 12px;\n",
              "    }\n",
              "\n",
              "    .colab-df-convert {\n",
              "      background-color: #E8F0FE;\n",
              "      border: none;\n",
              "      border-radius: 50%;\n",
              "      cursor: pointer;\n",
              "      display: none;\n",
              "      fill: #1967D2;\n",
              "      height: 32px;\n",
              "      padding: 0 0 0 0;\n",
              "      width: 32px;\n",
              "    }\n",
              "\n",
              "    .colab-df-convert:hover {\n",
              "      background-color: #E2EBFA;\n",
              "      box-shadow: 0px 1px 2px rgba(60, 64, 67, 0.3), 0px 1px 3px 1px rgba(60, 64, 67, 0.15);\n",
              "      fill: #174EA6;\n",
              "    }\n",
              "\n",
              "    [theme=dark] .colab-df-convert {\n",
              "      background-color: #3B4455;\n",
              "      fill: #D2E3FC;\n",
              "    }\n",
              "\n",
              "    [theme=dark] .colab-df-convert:hover {\n",
              "      background-color: #434B5C;\n",
              "      box-shadow: 0px 1px 3px 1px rgba(0, 0, 0, 0.15);\n",
              "      filter: drop-shadow(0px 1px 2px rgba(0, 0, 0, 0.3));\n",
              "      fill: #FFFFFF;\n",
              "    }\n",
              "  </style>\n",
              "\n",
              "      <script>\n",
              "        const buttonEl =\n",
              "          document.querySelector('#df-e9f30330-6a84-4f54-8eb9-b1f1369d06c0 button.colab-df-convert');\n",
              "        buttonEl.style.display =\n",
              "          google.colab.kernel.accessAllowed ? 'block' : 'none';\n",
              "\n",
              "        async function convertToInteractive(key) {\n",
              "          const element = document.querySelector('#df-e9f30330-6a84-4f54-8eb9-b1f1369d06c0');\n",
              "          const dataTable =\n",
              "            await google.colab.kernel.invokeFunction('convertToInteractive',\n",
              "                                                     [key], {});\n",
              "          if (!dataTable) return;\n",
              "\n",
              "          const docLinkHtml = 'Like what you see? Visit the ' +\n",
              "            '<a target=\"_blank\" href=https://colab.research.google.com/notebooks/data_table.ipynb>data table notebook</a>'\n",
              "            + ' to learn more about interactive tables.';\n",
              "          element.innerHTML = '';\n",
              "          dataTable['output_type'] = 'display_data';\n",
              "          await google.colab.output.renderOutput(dataTable, element);\n",
              "          const docLink = document.createElement('div');\n",
              "          docLink.innerHTML = docLinkHtml;\n",
              "          element.appendChild(docLink);\n",
              "        }\n",
              "      </script>\n",
              "    </div>\n",
              "  </div>\n",
              "  "
            ]
          },
          "metadata": {},
          "execution_count": 3
        }
      ]
    },
    {
      "cell_type": "markdown",
      "source": [
        "we can get the data type information of the dataframe as below."
      ],
      "metadata": {
        "id": "GWZBThyY7G70"
      }
    },
    {
      "cell_type": "code",
      "source": [
        "df.info() # to get the information of the columns and datatype"
      ],
      "metadata": {
        "colab": {
          "base_uri": "https://localhost:8080/"
        },
        "id": "6a2isQ9whGeY",
        "outputId": "148ffab0-6499-4377-8fc7-167e8f99484e"
      },
      "execution_count": null,
      "outputs": [
        {
          "output_type": "stream",
          "name": "stdout",
          "text": [
            "<class 'pandas.core.frame.DataFrame'>\n",
            "RangeIndex: 7043 entries, 0 to 7042\n",
            "Data columns (total 33 columns):\n",
            " #   Column             Non-Null Count  Dtype  \n",
            "---  ------             --------------  -----  \n",
            " 0   CustomerID         7043 non-null   object \n",
            " 1   Count              7043 non-null   int64  \n",
            " 2   Country            7043 non-null   object \n",
            " 3   State              7043 non-null   object \n",
            " 4   City               7043 non-null   object \n",
            " 5   Zip Code           7043 non-null   int64  \n",
            " 6   Lat Long           7043 non-null   object \n",
            " 7   Latitude           7043 non-null   float64\n",
            " 8   Longitude          7043 non-null   float64\n",
            " 9   Gender             7043 non-null   object \n",
            " 10  Senior Citizen     7043 non-null   object \n",
            " 11  Partner            7043 non-null   object \n",
            " 12  Dependents         7043 non-null   object \n",
            " 13  Tenure Months      7043 non-null   int64  \n",
            " 14  Phone Service      7043 non-null   object \n",
            " 15  Multiple Lines     7043 non-null   object \n",
            " 16  Internet Service   7043 non-null   object \n",
            " 17  Online Security    7043 non-null   object \n",
            " 18  Online Backup      7043 non-null   object \n",
            " 19  Device Protection  7043 non-null   object \n",
            " 20  Tech Support       7043 non-null   object \n",
            " 21  Streaming TV       7043 non-null   object \n",
            " 22  Streaming Movies   7043 non-null   object \n",
            " 23  Contract           7043 non-null   object \n",
            " 24  Paperless Billing  7043 non-null   object \n",
            " 25  Payment Method     7043 non-null   object \n",
            " 26  Monthly Charges    7043 non-null   float64\n",
            " 27  Total Charges      7043 non-null   float64\n",
            " 28  Churn Label        7043 non-null   object \n",
            " 29  Churn Value        7043 non-null   int64  \n",
            " 30  Churn Score        7043 non-null   int64  \n",
            " 31  CLTV               7043 non-null   int64  \n",
            " 32  Churn Reason       1869 non-null   object \n",
            "dtypes: float64(4), int64(6), object(23)\n",
            "memory usage: 1.8+ MB\n"
          ]
        }
      ]
    },
    {
      "cell_type": "markdown",
      "source": [
        "Total charges column is imorted as object/string where as it is float value. we need to convert the column into float.\n",
        "Below is the code to convert the type of column into float."
      ],
      "metadata": {
        "id": "jbZstiHvfvoL"
      }
    },
    {
      "cell_type": "code",
      "source": [
        "df['Total Charges']=pd.to_numeric(df['Total Charges'],errors='coerce')\n",
        "\n",
        "df.info()"
      ],
      "metadata": {
        "colab": {
          "base_uri": "https://localhost:8080/"
        },
        "id": "bfuuOhyKGavG",
        "outputId": "47e4f9d1-43f8-4234-de74-c8f10206362d"
      },
      "execution_count": null,
      "outputs": [
        {
          "output_type": "stream",
          "name": "stdout",
          "text": [
            "<class 'pandas.core.frame.DataFrame'>\n",
            "RangeIndex: 7043 entries, 0 to 7042\n",
            "Data columns (total 33 columns):\n",
            " #   Column             Non-Null Count  Dtype  \n",
            "---  ------             --------------  -----  \n",
            " 0   CustomerID         7043 non-null   object \n",
            " 1   Count              7043 non-null   int64  \n",
            " 2   Country            7043 non-null   object \n",
            " 3   State              7043 non-null   object \n",
            " 4   City               7043 non-null   object \n",
            " 5   Zip Code           7043 non-null   int64  \n",
            " 6   Lat Long           7043 non-null   object \n",
            " 7   Latitude           7043 non-null   float64\n",
            " 8   Longitude          7043 non-null   float64\n",
            " 9   Gender             7043 non-null   object \n",
            " 10  Senior Citizen     7043 non-null   object \n",
            " 11  Partner            7043 non-null   object \n",
            " 12  Dependents         7043 non-null   object \n",
            " 13  Tenure Months      7043 non-null   int64  \n",
            " 14  Phone Service      7043 non-null   object \n",
            " 15  Multiple Lines     7043 non-null   object \n",
            " 16  Internet Service   7043 non-null   object \n",
            " 17  Online Security    7043 non-null   object \n",
            " 18  Online Backup      7043 non-null   object \n",
            " 19  Device Protection  7043 non-null   object \n",
            " 20  Tech Support       7043 non-null   object \n",
            " 21  Streaming TV       7043 non-null   object \n",
            " 22  Streaming Movies   7043 non-null   object \n",
            " 23  Contract           7043 non-null   object \n",
            " 24  Paperless Billing  7043 non-null   object \n",
            " 25  Payment Method     7043 non-null   object \n",
            " 26  Monthly Charges    7043 non-null   float64\n",
            " 27  Total Charges      7032 non-null   float64\n",
            " 28  Churn Label        7043 non-null   object \n",
            " 29  Churn Value        7043 non-null   int64  \n",
            " 30  Churn Score        7043 non-null   int64  \n",
            " 31  CLTV               7043 non-null   int64  \n",
            " 32  Churn Reason       1869 non-null   object \n",
            "dtypes: float64(4), int64(6), object(23)\n",
            "memory usage: 1.8+ MB\n"
          ]
        }
      ]
    },
    {
      "cell_type": "markdown",
      "source": [
        "Here, the Total charges column is converted into float type"
      ],
      "metadata": {
        "id": "4uuVC4TyHacm"
      }
    },
    {
      "cell_type": "code",
      "source": [
        "df['Total Charges'].dropna(inplace=True)# Dropping the NaN values from Total charges"
      ],
      "metadata": {
        "id": "U7D-IQzUIsea"
      },
      "execution_count": null,
      "outputs": []
    },
    {
      "cell_type": "markdown",
      "source": [
        "**Q2. Please apply appropriate statistical measures using python based on data types.**\n",
        "\n",
        " Below, we have got statistical data of the data frame using describe()function."
      ],
      "metadata": {
        "id": "7anVv8SGn2K1"
      }
    },
    {
      "cell_type": "code",
      "source": [
        "df.describe() #function to get statistical data of the table"
      ],
      "metadata": {
        "colab": {
          "base_uri": "https://localhost:8080/",
          "height": 300
        },
        "id": "az_bYd4AjdYn",
        "outputId": "5fea188f-8796-4bda-c7af-703c268bdeda"
      },
      "execution_count": null,
      "outputs": [
        {
          "output_type": "execute_result",
          "data": {
            "text/plain": [
              "        Count      Zip Code     Latitude    Longitude  Tenure Months  \\\n",
              "count  7043.0   7043.000000  7043.000000  7043.000000    7043.000000   \n",
              "mean      1.0  93521.964646    36.282441  -119.798880      32.371149   \n",
              "std       0.0   1865.794555     2.455723     2.157889      24.559481   \n",
              "min       1.0  90001.000000    32.555828  -124.301372       0.000000   \n",
              "25%       1.0  92102.000000    34.030915  -121.815412       9.000000   \n",
              "50%       1.0  93552.000000    36.391777  -119.730885      29.000000   \n",
              "75%       1.0  95351.000000    38.224869  -118.043237      55.000000   \n",
              "max       1.0  96161.000000    41.962127  -114.192901      72.000000   \n",
              "\n",
              "       Monthly Charges  Total Charges  Churn Value  Churn Score         CLTV  \n",
              "count      7043.000000    7032.000000  7043.000000  7043.000000  7043.000000  \n",
              "mean         64.761692    2283.300441     0.265370    58.699418  4400.295755  \n",
              "std          30.090047    2266.771362     0.441561    21.525131  1183.057152  \n",
              "min          18.250000      18.800000     0.000000     5.000000  2003.000000  \n",
              "25%          35.500000     401.450000     0.000000    40.000000  3469.000000  \n",
              "50%          70.350000    1397.475000     0.000000    61.000000  4527.000000  \n",
              "75%          89.850000    3794.737500     1.000000    75.000000  5380.500000  \n",
              "max         118.750000    8684.800000     1.000000   100.000000  6500.000000  "
            ],
            "text/html": [
              "\n",
              "  <div id=\"df-136f68b7-d096-48e5-8881-bc98f82bf116\">\n",
              "    <div class=\"colab-df-container\">\n",
              "      <div>\n",
              "<style scoped>\n",
              "    .dataframe tbody tr th:only-of-type {\n",
              "        vertical-align: middle;\n",
              "    }\n",
              "\n",
              "    .dataframe tbody tr th {\n",
              "        vertical-align: top;\n",
              "    }\n",
              "\n",
              "    .dataframe thead th {\n",
              "        text-align: right;\n",
              "    }\n",
              "</style>\n",
              "<table border=\"1\" class=\"dataframe\">\n",
              "  <thead>\n",
              "    <tr style=\"text-align: right;\">\n",
              "      <th></th>\n",
              "      <th>Count</th>\n",
              "      <th>Zip Code</th>\n",
              "      <th>Latitude</th>\n",
              "      <th>Longitude</th>\n",
              "      <th>Tenure Months</th>\n",
              "      <th>Monthly Charges</th>\n",
              "      <th>Total Charges</th>\n",
              "      <th>Churn Value</th>\n",
              "      <th>Churn Score</th>\n",
              "      <th>CLTV</th>\n",
              "    </tr>\n",
              "  </thead>\n",
              "  <tbody>\n",
              "    <tr>\n",
              "      <th>count</th>\n",
              "      <td>7043.0</td>\n",
              "      <td>7043.000000</td>\n",
              "      <td>7043.000000</td>\n",
              "      <td>7043.000000</td>\n",
              "      <td>7043.000000</td>\n",
              "      <td>7043.000000</td>\n",
              "      <td>7032.000000</td>\n",
              "      <td>7043.000000</td>\n",
              "      <td>7043.000000</td>\n",
              "      <td>7043.000000</td>\n",
              "    </tr>\n",
              "    <tr>\n",
              "      <th>mean</th>\n",
              "      <td>1.0</td>\n",
              "      <td>93521.964646</td>\n",
              "      <td>36.282441</td>\n",
              "      <td>-119.798880</td>\n",
              "      <td>32.371149</td>\n",
              "      <td>64.761692</td>\n",
              "      <td>2283.300441</td>\n",
              "      <td>0.265370</td>\n",
              "      <td>58.699418</td>\n",
              "      <td>4400.295755</td>\n",
              "    </tr>\n",
              "    <tr>\n",
              "      <th>std</th>\n",
              "      <td>0.0</td>\n",
              "      <td>1865.794555</td>\n",
              "      <td>2.455723</td>\n",
              "      <td>2.157889</td>\n",
              "      <td>24.559481</td>\n",
              "      <td>30.090047</td>\n",
              "      <td>2266.771362</td>\n",
              "      <td>0.441561</td>\n",
              "      <td>21.525131</td>\n",
              "      <td>1183.057152</td>\n",
              "    </tr>\n",
              "    <tr>\n",
              "      <th>min</th>\n",
              "      <td>1.0</td>\n",
              "      <td>90001.000000</td>\n",
              "      <td>32.555828</td>\n",
              "      <td>-124.301372</td>\n",
              "      <td>0.000000</td>\n",
              "      <td>18.250000</td>\n",
              "      <td>18.800000</td>\n",
              "      <td>0.000000</td>\n",
              "      <td>5.000000</td>\n",
              "      <td>2003.000000</td>\n",
              "    </tr>\n",
              "    <tr>\n",
              "      <th>25%</th>\n",
              "      <td>1.0</td>\n",
              "      <td>92102.000000</td>\n",
              "      <td>34.030915</td>\n",
              "      <td>-121.815412</td>\n",
              "      <td>9.000000</td>\n",
              "      <td>35.500000</td>\n",
              "      <td>401.450000</td>\n",
              "      <td>0.000000</td>\n",
              "      <td>40.000000</td>\n",
              "      <td>3469.000000</td>\n",
              "    </tr>\n",
              "    <tr>\n",
              "      <th>50%</th>\n",
              "      <td>1.0</td>\n",
              "      <td>93552.000000</td>\n",
              "      <td>36.391777</td>\n",
              "      <td>-119.730885</td>\n",
              "      <td>29.000000</td>\n",
              "      <td>70.350000</td>\n",
              "      <td>1397.475000</td>\n",
              "      <td>0.000000</td>\n",
              "      <td>61.000000</td>\n",
              "      <td>4527.000000</td>\n",
              "    </tr>\n",
              "    <tr>\n",
              "      <th>75%</th>\n",
              "      <td>1.0</td>\n",
              "      <td>95351.000000</td>\n",
              "      <td>38.224869</td>\n",
              "      <td>-118.043237</td>\n",
              "      <td>55.000000</td>\n",
              "      <td>89.850000</td>\n",
              "      <td>3794.737500</td>\n",
              "      <td>1.000000</td>\n",
              "      <td>75.000000</td>\n",
              "      <td>5380.500000</td>\n",
              "    </tr>\n",
              "    <tr>\n",
              "      <th>max</th>\n",
              "      <td>1.0</td>\n",
              "      <td>96161.000000</td>\n",
              "      <td>41.962127</td>\n",
              "      <td>-114.192901</td>\n",
              "      <td>72.000000</td>\n",
              "      <td>118.750000</td>\n",
              "      <td>8684.800000</td>\n",
              "      <td>1.000000</td>\n",
              "      <td>100.000000</td>\n",
              "      <td>6500.000000</td>\n",
              "    </tr>\n",
              "  </tbody>\n",
              "</table>\n",
              "</div>\n",
              "      <button class=\"colab-df-convert\" onclick=\"convertToInteractive('df-136f68b7-d096-48e5-8881-bc98f82bf116')\"\n",
              "              title=\"Convert this dataframe to an interactive table.\"\n",
              "              style=\"display:none;\">\n",
              "        \n",
              "  <svg xmlns=\"http://www.w3.org/2000/svg\" height=\"24px\"viewBox=\"0 0 24 24\"\n",
              "       width=\"24px\">\n",
              "    <path d=\"M0 0h24v24H0V0z\" fill=\"none\"/>\n",
              "    <path d=\"M18.56 5.44l.94 2.06.94-2.06 2.06-.94-2.06-.94-.94-2.06-.94 2.06-2.06.94zm-11 1L8.5 8.5l.94-2.06 2.06-.94-2.06-.94L8.5 2.5l-.94 2.06-2.06.94zm10 10l.94 2.06.94-2.06 2.06-.94-2.06-.94-.94-2.06-.94 2.06-2.06.94z\"/><path d=\"M17.41 7.96l-1.37-1.37c-.4-.4-.92-.59-1.43-.59-.52 0-1.04.2-1.43.59L10.3 9.45l-7.72 7.72c-.78.78-.78 2.05 0 2.83L4 21.41c.39.39.9.59 1.41.59.51 0 1.02-.2 1.41-.59l7.78-7.78 2.81-2.81c.8-.78.8-2.07 0-2.86zM5.41 20L4 18.59l7.72-7.72 1.47 1.35L5.41 20z\"/>\n",
              "  </svg>\n",
              "      </button>\n",
              "      \n",
              "  <style>\n",
              "    .colab-df-container {\n",
              "      display:flex;\n",
              "      flex-wrap:wrap;\n",
              "      gap: 12px;\n",
              "    }\n",
              "\n",
              "    .colab-df-convert {\n",
              "      background-color: #E8F0FE;\n",
              "      border: none;\n",
              "      border-radius: 50%;\n",
              "      cursor: pointer;\n",
              "      display: none;\n",
              "      fill: #1967D2;\n",
              "      height: 32px;\n",
              "      padding: 0 0 0 0;\n",
              "      width: 32px;\n",
              "    }\n",
              "\n",
              "    .colab-df-convert:hover {\n",
              "      background-color: #E2EBFA;\n",
              "      box-shadow: 0px 1px 2px rgba(60, 64, 67, 0.3), 0px 1px 3px 1px rgba(60, 64, 67, 0.15);\n",
              "      fill: #174EA6;\n",
              "    }\n",
              "\n",
              "    [theme=dark] .colab-df-convert {\n",
              "      background-color: #3B4455;\n",
              "      fill: #D2E3FC;\n",
              "    }\n",
              "\n",
              "    [theme=dark] .colab-df-convert:hover {\n",
              "      background-color: #434B5C;\n",
              "      box-shadow: 0px 1px 3px 1px rgba(0, 0, 0, 0.15);\n",
              "      filter: drop-shadow(0px 1px 2px rgba(0, 0, 0, 0.3));\n",
              "      fill: #FFFFFF;\n",
              "    }\n",
              "  </style>\n",
              "\n",
              "      <script>\n",
              "        const buttonEl =\n",
              "          document.querySelector('#df-136f68b7-d096-48e5-8881-bc98f82bf116 button.colab-df-convert');\n",
              "        buttonEl.style.display =\n",
              "          google.colab.kernel.accessAllowed ? 'block' : 'none';\n",
              "\n",
              "        async function convertToInteractive(key) {\n",
              "          const element = document.querySelector('#df-136f68b7-d096-48e5-8881-bc98f82bf116');\n",
              "          const dataTable =\n",
              "            await google.colab.kernel.invokeFunction('convertToInteractive',\n",
              "                                                     [key], {});\n",
              "          if (!dataTable) return;\n",
              "\n",
              "          const docLinkHtml = 'Like what you see? Visit the ' +\n",
              "            '<a target=\"_blank\" href=https://colab.research.google.com/notebooks/data_table.ipynb>data table notebook</a>'\n",
              "            + ' to learn more about interactive tables.';\n",
              "          element.innerHTML = '';\n",
              "          dataTable['output_type'] = 'display_data';\n",
              "          await google.colab.output.renderOutput(dataTable, element);\n",
              "          const docLink = document.createElement('div');\n",
              "          docLink.innerHTML = docLinkHtml;\n",
              "          element.appendChild(docLink);\n",
              "        }\n",
              "      </script>\n",
              "    </div>\n",
              "  </div>\n",
              "  "
            ]
          },
          "metadata": {},
          "execution_count": 9
        }
      ]
    },
    {
      "cell_type": "markdown",
      "source": [
        "**Q3. What is the percentage of females and senior citizens in this data set? Please create appropriate plots and explain the plots.**"
      ],
      "metadata": {
        "id": "T3wPYY6doOV8"
      }
    },
    {
      "cell_type": "markdown",
      "source": [
        "Here we have to find the percentage of male and female customers in the data set. we can use value count function and can get the percentage of gender. We can use pie chart to represent this."
      ],
      "metadata": {
        "id": "wY7ETSyUFCSB"
      }
    },
    {
      "cell_type": "code",
      "source": [
        "res=round(df['Gender'].value_counts('Female')*100,2) #gives table of percentages of male and female\n",
        "print('Percentage of Gender: \\n', res)\n",
        "lab= 'Male','Female'\n",
        "plt.pie(res,labels=lab)"
      ],
      "metadata": {
        "colab": {
          "base_uri": "https://localhost:8080/",
          "height": 387
        },
        "id": "TjRDQ6KwoKQW",
        "outputId": "ab7c83ee-855d-41a5-bbab-d6110ad43386"
      },
      "execution_count": 6,
      "outputs": [
        {
          "output_type": "stream",
          "name": "stdout",
          "text": [
            "Percentage of Gender: \n",
            " Male      50.48\n",
            "Female    49.52\n",
            "Name: Gender, dtype: float64\n"
          ]
        },
        {
          "output_type": "execute_result",
          "data": {
            "text/plain": [
              "([<matplotlib.patches.Wedge at 0x7ff1e4d73c10>,\n",
              "  <matplotlib.patches.Wedge at 0x7ff1e48c1fd0>],\n",
              " [Text(-0.016587055362658972, 1.0998749336149072, 'Male'),\n",
              "  Text(0.016587158340381675, -1.0998749320619101, 'Female')])"
            ]
          },
          "metadata": {},
          "execution_count": 6
        },
        {
          "output_type": "display_data",
          "data": {
            "text/plain": [
              "<Figure size 432x288 with 1 Axes>"
            ],
            "image/png": "[encoded data removed]"
          },
          "metadata": {}
        }
      ]
    },
    {
      "cell_type": "markdown",
      "source": [
        "from the above output and code, we can see that, percentage of Female customers is 49.52%."
      ],
      "metadata": {
        "id": "dcf1ioPjzkWq"
      }
    },
    {
      "cell_type": "markdown",
      "source": [
        "in below code, we can find the percentage of senior citizens in the customer table."
      ],
      "metadata": {
        "id": "2gBbyjT7z1GQ"
      }
    },
    {
      "cell_type": "code",
      "source": [
        "res1=round(df['Senior Citizen'].value_counts('Yes')*100,2)\n",
        "print(res1)\n",
        "lab1= 'Non senior Citizen','Senior Citizen'\n",
        "plt.pie(res1,labels=lab1)"
      ],
      "metadata": {
        "colab": {
          "base_uri": "https://localhost:8080/",
          "height": 369
        },
        "id": "TRiWC3Lf0G0O",
        "outputId": "ca29c708-fe61-40e3-8254-a502414a576a"
      },
      "execution_count": null,
      "outputs": [
        {
          "output_type": "stream",
          "name": "stdout",
          "text": [
            "No     83.79\n",
            "Yes    16.21\n",
            "Name: Senior Citizen, dtype: float64\n"
          ]
        },
        {
          "output_type": "execute_result",
          "data": {
            "text/plain": [
              "([<matplotlib.patches.Wedge at 0x7f5773a3df50>,\n",
              "  <matplotlib.patches.Wedge at 0x7f5773a2d410>],\n",
              " [Text(-0.9604202425746189, 0.536276941190753, 'Non senior Citizen'),\n",
              "  Text(0.9604201923647439, -0.5362770311117835, 'Senior Citizen')])"
            ]
          },
          "metadata": {},
          "execution_count": 11
        },
        {
          "output_type": "display_data",
          "data": {
            "text/plain": [
              "<Figure size 432x288 with 1 Axes>"
            ],
            "image/png": "[encoded data removed]"
          },
          "metadata": {}
        }
      ]
    },
    {
      "cell_type": "markdown",
      "source": [
        "from the above output and pie plot, we can see that senior citizen customers for the company are 16.21%"
      ],
      "metadata": {
        "id": "jYPdCgyq03NK"
      }
    },
    {
      "cell_type": "markdown",
      "source": [
        "from the below output, we can see get the percentages of senior citizens present in male and female catergory"
      ],
      "metadata": {
        "id": "mosNBJ8kMFiJ"
      }
    },
    {
      "cell_type": "code",
      "source": [
        "#grouping gender with counts of senior citizen\n",
        "df.groupby('Gender')['Senior Citizen'].value_counts('Yes')*100 \n",
        "\n"
      ],
      "metadata": {
        "colab": {
          "base_uri": "https://localhost:8080/"
        },
        "id": "NRjSwyR7G52Q",
        "outputId": "45ce5f88-5342-4d00-cc0f-34c21971ace0"
      },
      "execution_count": 26,
      "outputs": [
        {
          "output_type": "execute_result",
          "data": {
            "text/plain": [
              "Gender  Senior Citizen\n",
              "Female  No                83.715596\n",
              "        Yes               16.284404\n",
              "Male    No                83.853727\n",
              "        Yes               16.146273\n",
              "Name: Senior Citizen, dtype: float64"
            ]
          },
          "metadata": {},
          "execution_count": 26
        }
      ]
    },
    {
      "cell_type": "markdown",
      "source": [
        "**Q4.Please create an appropriate plot to examine the distribution of the tenure month column and explain the distribution. Based on distribution, perform appropriate statistical measures. Please also explain if the variable is symmetric or skewed. Please calculate it. Explain everything as asked.**"
      ],
      "metadata": {
        "id": "mPaIeDcP1JoH"
      }
    },
    {
      "cell_type": "code",
      "source": [
        "sns.boxplot(x='Tenure Months',data=df) #plotting box plot"
      ],
      "metadata": {
        "colab": {
          "base_uri": "https://localhost:8080/",
          "height": 297
        },
        "id": "6YHouy0fG7MS",
        "outputId": "b645fb90-17d5-4f65-ec9b-04a254d774d4"
      },
      "execution_count": null,
      "outputs": [
        {
          "output_type": "execute_result",
          "data": {
            "text/plain": [
              "<matplotlib.axes._subplots.AxesSubplot at 0x7fda67e88dd0>"
            ]
          },
          "metadata": {},
          "execution_count": 73
        },
        {
          "output_type": "display_data",
          "data": {
            "text/plain": [
              "<Figure size 432x288 with 1 Axes>"
            ],
            "image/png": "[encoded data removed]"
          },
          "metadata": {
            "needs_background": "light"
          }
        }
      ]
    },
    {
      "cell_type": "markdown",
      "source": [
        "finding statistical measures"
      ],
      "metadata": {
        "id": "xBy9CY73Otod"
      }
    },
    {
      "cell_type": "code",
      "source": [
        "print('Skewness of the data is= ',round(df['Tenure Months'].skew(),2)) # finding skewness\n",
        "print('Standard deviaion of data is= ',round(df['Tenure Months'].std(),2)) #finding standard deviation\n",
        "print('Median = ',df['Tenure Months'].median()) #finding median"
      ],
      "metadata": {
        "colab": {
          "base_uri": "https://localhost:8080/"
        },
        "id": "vOdBEUDsHkGS",
        "outputId": "346e26a7-7dba-48ef-eb47-300bf4020768"
      },
      "execution_count": null,
      "outputs": [
        {
          "output_type": "stream",
          "name": "stdout",
          "text": [
            "Skewness of the data is=  0.24\n",
            "Standard deviaion of data is=  24.56\n",
            "Median =  29.0\n"
          ]
        }
      ]
    },
    {
      "cell_type": "markdown",
      "source": [
        "from the above plot and output, we can see that median of the column is 29 months. And skewness is 0.24. With this we can consider the data is normally distributed."
      ],
      "metadata": {
        "id": "R_9zadVrH9Bd"
      }
    },
    {
      "cell_type": "markdown",
      "source": [
        "**Q5. Please convert all binary columns into 0 and 1 using appropriate programming constructs, not one by one.**"
      ],
      "metadata": {
        "id": "_aKWfQqdJTqK"
      }
    },
    {
      "cell_type": "markdown",
      "source": [
        "By analysing the data frame, we can see that binary columns are given in 'Yes' or 'No', 'Male' and 'Female'. so we can refer the entire data set and replce yes with 1 and No with 0. also we can replace gender column with Male as 1 and Female as 0 as below"
      ],
      "metadata": {
        "id": "99ruTK6OtuDw"
      }
    },
    {
      "cell_type": "code",
      "source": [
        "\n",
        "df1.replace({'Yes':1,'No':0},inplace=True) #replacing all the yes and no values with 1s and 0s.\n",
        "df1['Gender'].replace({'Male':1,'Female':0},inplace=True) #replacing Male and female with 1s and 0s.\n",
        "df1"
      ],
      "metadata": {
        "id": "gJFcGI__ro66",
        "colab": {
          "base_uri": "https://localhost:8080/",
          "height": 748
        },
        "outputId": "bf013041-999d-4935-d2f0-c2853477797c"
      },
      "execution_count": null,
      "outputs": [
        {
          "output_type": "execute_result",
          "data": {
            "text/plain": [
              "      CustomerID  Count        Country       State          City  Zip Code  \\\n",
              "0     3668-QPYBK      1  United States  California   Los Angeles     90003   \n",
              "1     9237-HQITU      1  United States  California   Los Angeles     90005   \n",
              "2     9305-CDSKC      1  United States  California   Los Angeles     90006   \n",
              "3     7892-POOKP      1  United States  California   Los Angeles     90010   \n",
              "4     0280-XJGEX      1  United States  California   Los Angeles     90015   \n",
              "...          ...    ...            ...         ...           ...       ...   \n",
              "7038  2569-WGERO      1  United States  California       Landers     92285   \n",
              "7039  6840-RESVB      1  United States  California      Adelanto     92301   \n",
              "7040  2234-XADUH      1  United States  California         Amboy     92304   \n",
              "7041  4801-JZAZL      1  United States  California  Angelus Oaks     92305   \n",
              "7042  3186-AJIEK      1  United States  California  Apple Valley     92308   \n",
              "\n",
              "                    Lat Long   Latitude   Longitude  Gender  ...  \\\n",
              "0     33.964131, -118.272783  33.964131 -118.272783       1  ...   \n",
              "1      34.059281, -118.30742  34.059281 -118.307420       0  ...   \n",
              "2     34.048013, -118.293953  34.048013 -118.293953       0  ...   \n",
              "3     34.062125, -118.315709  34.062125 -118.315709       0  ...   \n",
              "4     34.039224, -118.266293  34.039224 -118.266293       1  ...   \n",
              "...                      ...        ...         ...     ...  ...   \n",
              "7038  34.341737, -116.539416  34.341737 -116.539416       0  ...   \n",
              "7039  34.667815, -117.536183  34.667815 -117.536183       1  ...   \n",
              "7040  34.559882, -115.637164  34.559882 -115.637164       0  ...   \n",
              "7041     34.1678, -116.86433  34.167800 -116.864330       0  ...   \n",
              "7042  34.424926, -117.184503  34.424926 -117.184503       1  ...   \n",
              "\n",
              "            Contract  Paperless Billing             Payment Method  \\\n",
              "0     Month-to-month                  1               Mailed check   \n",
              "1     Month-to-month                  1           Electronic check   \n",
              "2     Month-to-month                  1           Electronic check   \n",
              "3     Month-to-month                  1           Electronic check   \n",
              "4     Month-to-month                  1  Bank transfer (automatic)   \n",
              "...              ...                ...                        ...   \n",
              "7038        Two year                  1  Bank transfer (automatic)   \n",
              "7039        One year                  1               Mailed check   \n",
              "7040        One year                  1    Credit card (automatic)   \n",
              "7041  Month-to-month                  1           Electronic check   \n",
              "7042        Two year                  1  Bank transfer (automatic)   \n",
              "\n",
              "      Monthly Charges  Total Charges Churn Label Churn Value Churn Score  \\\n",
              "0               53.85         108.15           1           1          86   \n",
              "1               70.70         151.65           1           1          67   \n",
              "2               99.65         820.50           1           1          86   \n",
              "3              104.80        3046.05           1           1          84   \n",
              "4              103.70        5036.30           1           1          89   \n",
              "...               ...            ...         ...         ...         ...   \n",
              "7038            21.15        1419.40           0           0          45   \n",
              "7039            84.80        1990.50           0           0          59   \n",
              "7040           103.20        7362.90           0           0          71   \n",
              "7041            29.60         346.45           0           0          59   \n",
              "7042           105.65        6844.50           0           0          38   \n",
              "\n",
              "      CLTV                   Churn Reason  \n",
              "0     3239   Competitor made better offer  \n",
              "1     2701                          Moved  \n",
              "2     5372                          Moved  \n",
              "3     5003                          Moved  \n",
              "4     5340  Competitor had better devices  \n",
              "...    ...                            ...  \n",
              "7038  5306                            NaN  \n",
              "7039  2140                            NaN  \n",
              "7040  5560                            NaN  \n",
              "7041  2793                            NaN  \n",
              "7042  5097                            NaN  \n",
              "\n",
              "[7043 rows x 33 columns]"
            ],
            "text/html": [
              "\n",
              "  <div id=\"df-62be10f2-b1cb-4ea7-926a-0e2005ab4a69\">\n",
              "    <div class=\"colab-df-container\">\n",
              "      <div>\n",
              "<style scoped>\n",
              "    .dataframe tbody tr th:only-of-type {\n",
              "        vertical-align: middle;\n",
              "    }\n",
              "\n",
              "    .dataframe tbody tr th {\n",
              "        vertical-align: top;\n",
              "    }\n",
              "\n",
              "    .dataframe thead th {\n",
              "        text-align: right;\n",
              "    }\n",
              "</style>\n",
              "<table border=\"1\" class=\"dataframe\">\n",
              "  <thead>\n",
              "    <tr style=\"text-align: right;\">\n",
              "      <th></th>\n",
              "      <th>CustomerID</th>\n",
              "      <th>Count</th>\n",
              "      <th>Country</th>\n",
              "      <th>State</th>\n",
              "      <th>City</th>\n",
              "      <th>Zip Code</th>\n",
              "      <th>Lat Long</th>\n",
              "      <th>Latitude</th>\n",
              "      <th>Longitude</th>\n",
              "      <th>Gender</th>\n",
              "      <th>...</th>\n",
              "      <th>Contract</th>\n",
              "      <th>Paperless Billing</th>\n",
              "      <th>Payment Method</th>\n",
              "      <th>Monthly Charges</th>\n",
              "      <th>Total Charges</th>\n",
              "      <th>Churn Label</th>\n",
              "      <th>Churn Value</th>\n",
              "      <th>Churn Score</th>\n",
              "      <th>CLTV</th>\n",
              "      <th>Churn Reason</th>\n",
              "    </tr>\n",
              "  </thead>\n",
              "  <tbody>\n",
              "    <tr>\n",
              "      <th>0</th>\n",
              "      <td>3668-QPYBK</td>\n",
              "      <td>1</td>\n",
              "      <td>United States</td>\n",
              "      <td>California</td>\n",
              "      <td>Los Angeles</td>\n",
              "      <td>90003</td>\n",
              "      <td>33.964131, -118.272783</td>\n",
              "      <td>33.964131</td>\n",
              "      <td>-118.272783</td>\n",
              "      <td>1</td>\n",
              "      <td>...</td>\n",
              "      <td>Month-to-month</td>\n",
              "      <td>1</td>\n",
              "      <td>Mailed check</td>\n",
              "      <td>53.85</td>\n",
              "      <td>108.15</td>\n",
              "      <td>1</td>\n",
              "      <td>1</td>\n",
              "      <td>86</td>\n",
              "      <td>3239</td>\n",
              "      <td>Competitor made better offer</td>\n",
              "    </tr>\n",
              "    <tr>\n",
              "      <th>1</th>\n",
              "      <td>9237-HQITU</td>\n",
              "      <td>1</td>\n",
              "      <td>United States</td>\n",
              "      <td>California</td>\n",
              "      <td>Los Angeles</td>\n",
              "      <td>90005</td>\n",
              "      <td>34.059281, -118.30742</td>\n",
              "      <td>34.059281</td>\n",
              "      <td>-118.307420</td>\n",
              "      <td>0</td>\n",
              "      <td>...</td>\n",
              "      <td>Month-to-month</td>\n",
              "      <td>1</td>\n",
              "      <td>Electronic check</td>\n",
              "      <td>70.70</td>\n",
              "      <td>151.65</td>\n",
              "      <td>1</td>\n",
              "      <td>1</td>\n",
              "      <td>67</td>\n",
              "      <td>2701</td>\n",
              "      <td>Moved</td>\n",
              "    </tr>\n",
              "    <tr>\n",
              "      <th>2</th>\n",
              "      <td>9305-CDSKC</td>\n",
              "      <td>1</td>\n",
              "      <td>United States</td>\n",
              "      <td>California</td>\n",
              "      <td>Los Angeles</td>\n",
              "      <td>90006</td>\n",
              "      <td>34.048013, -118.293953</td>\n",
              "      <td>34.048013</td>\n",
              "      <td>-118.293953</td>\n",
              "      <td>0</td>\n",
              "      <td>...</td>\n",
              "      <td>Month-to-month</td>\n",
              "      <td>1</td>\n",
              "      <td>Electronic check</td>\n",
              "      <td>99.65</td>\n",
              "      <td>820.50</td>\n",
              "      <td>1</td>\n",
              "      <td>1</td>\n",
              "      <td>86</td>\n",
              "      <td>5372</td>\n",
              "      <td>Moved</td>\n",
              "    </tr>\n",
              "    <tr>\n",
              "      <th>3</th>\n",
              "      <td>7892-POOKP</td>\n",
              "      <td>1</td>\n",
              "      <td>United States</td>\n",
              "      <td>California</td>\n",
              "      <td>Los Angeles</td>\n",
              "      <td>90010</td>\n",
              "      <td>34.062125, -118.315709</td>\n",
              "      <td>34.062125</td>\n",
              "      <td>-118.315709</td>\n",
              "      <td>0</td>\n",
              "      <td>...</td>\n",
              "      <td>Month-to-month</td>\n",
              "      <td>1</td>\n",
              "      <td>Electronic check</td>\n",
              "      <td>104.80</td>\n",
              "      <td>3046.05</td>\n",
              "      <td>1</td>\n",
              "      <td>1</td>\n",
              "      <td>84</td>\n",
              "      <td>5003</td>\n",
              "      <td>Moved</td>\n",
              "    </tr>\n",
              "    <tr>\n",
              "      <th>4</th>\n",
              "      <td>0280-XJGEX</td>\n",
              "      <td>1</td>\n",
              "      <td>United States</td>\n",
              "      <td>California</td>\n",
              "      <td>Los Angeles</td>\n",
              "      <td>90015</td>\n",
              "      <td>34.039224, -118.266293</td>\n",
              "      <td>34.039224</td>\n",
              "      <td>-118.266293</td>\n",
              "      <td>1</td>\n",
              "      <td>...</td>\n",
              "      <td>Month-to-month</td>\n",
              "      <td>1</td>\n",
              "      <td>Bank transfer (automatic)</td>\n",
              "      <td>103.70</td>\n",
              "      <td>5036.30</td>\n",
              "      <td>1</td>\n",
              "      <td>1</td>\n",
              "      <td>89</td>\n",
              "      <td>5340</td>\n",
              "      <td>Competitor had better devices</td>\n",
              "    </tr>\n",
              "    <tr>\n",
              "      <th>...</th>\n",
              "      <td>...</td>\n",
              "      <td>...</td>\n",
              "      <td>...</td>\n",
              "      <td>...</td>\n",
              "      <td>...</td>\n",
              "      <td>...</td>\n",
              "      <td>...</td>\n",
              "      <td>...</td>\n",
              "      <td>...</td>\n",
              "      <td>...</td>\n",
              "      <td>...</td>\n",
              "      <td>...</td>\n",
              "      <td>...</td>\n",
              "      <td>...</td>\n",
              "      <td>...</td>\n",
              "      <td>...</td>\n",
              "      <td>...</td>\n",
              "      <td>...</td>\n",
              "      <td>...</td>\n",
              "      <td>...</td>\n",
              "      <td>...</td>\n",
              "    </tr>\n",
              "    <tr>\n",
              "      <th>7038</th>\n",
              "      <td>2569-WGERO</td>\n",
              "      <td>1</td>\n",
              "      <td>United States</td>\n",
              "      <td>California</td>\n",
              "      <td>Landers</td>\n",
              "      <td>92285</td>\n",
              "      <td>34.341737, -116.539416</td>\n",
              "      <td>34.341737</td>\n",
              "      <td>-116.539416</td>\n",
              "      <td>0</td>\n",
              "      <td>...</td>\n",
              "      <td>Two year</td>\n",
              "      <td>1</td>\n",
              "      <td>Bank transfer (automatic)</td>\n",
              "      <td>21.15</td>\n",
              "      <td>1419.40</td>\n",
              "      <td>0</td>\n",
              "      <td>0</td>\n",
              "      <td>45</td>\n",
              "      <td>5306</td>\n",
              "      <td>NaN</td>\n",
              "    </tr>\n",
              "    <tr>\n",
              "      <th>7039</th>\n",
              "      <td>6840-RESVB</td>\n",
              "      <td>1</td>\n",
              "      <td>United States</td>\n",
              "      <td>California</td>\n",
              "      <td>Adelanto</td>\n",
              "      <td>92301</td>\n",
              "      <td>34.667815, -117.536183</td>\n",
              "      <td>34.667815</td>\n",
              "      <td>-117.536183</td>\n",
              "      <td>1</td>\n",
              "      <td>...</td>\n",
              "      <td>One year</td>\n",
              "      <td>1</td>\n",
              "      <td>Mailed check</td>\n",
              "      <td>84.80</td>\n",
              "      <td>1990.50</td>\n",
              "      <td>0</td>\n",
              "      <td>0</td>\n",
              "      <td>59</td>\n",
              "      <td>2140</td>\n",
              "      <td>NaN</td>\n",
              "    </tr>\n",
              "    <tr>\n",
              "      <th>7040</th>\n",
              "      <td>2234-XADUH</td>\n",
              "      <td>1</td>\n",
              "      <td>United States</td>\n",
              "      <td>California</td>\n",
              "      <td>Amboy</td>\n",
              "      <td>92304</td>\n",
              "      <td>34.559882, -115.637164</td>\n",
              "      <td>34.559882</td>\n",
              "      <td>-115.637164</td>\n",
              "      <td>0</td>\n",
              "      <td>...</td>\n",
              "      <td>One year</td>\n",
              "      <td>1</td>\n",
              "      <td>Credit card (automatic)</td>\n",
              "      <td>103.20</td>\n",
              "      <td>7362.90</td>\n",
              "      <td>0</td>\n",
              "      <td>0</td>\n",
              "      <td>71</td>\n",
              "      <td>5560</td>\n",
              "      <td>NaN</td>\n",
              "    </tr>\n",
              "    <tr>\n",
              "      <th>7041</th>\n",
              "      <td>4801-JZAZL</td>\n",
              "      <td>1</td>\n",
              "      <td>United States</td>\n",
              "      <td>California</td>\n",
              "      <td>Angelus Oaks</td>\n",
              "      <td>92305</td>\n",
              "      <td>34.1678, -116.86433</td>\n",
              "      <td>34.167800</td>\n",
              "      <td>-116.864330</td>\n",
              "      <td>0</td>\n",
              "      <td>...</td>\n",
              "      <td>Month-to-month</td>\n",
              "      <td>1</td>\n",
              "      <td>Electronic check</td>\n",
              "      <td>29.60</td>\n",
              "      <td>346.45</td>\n",
              "      <td>0</td>\n",
              "      <td>0</td>\n",
              "      <td>59</td>\n",
              "      <td>2793</td>\n",
              "      <td>NaN</td>\n",
              "    </tr>\n",
              "    <tr>\n",
              "      <th>7042</th>\n",
              "      <td>3186-AJIEK</td>\n",
              "      <td>1</td>\n",
              "      <td>United States</td>\n",
              "      <td>California</td>\n",
              "      <td>Apple Valley</td>\n",
              "      <td>92308</td>\n",
              "      <td>34.424926, -117.184503</td>\n",
              "      <td>34.424926</td>\n",
              "      <td>-117.184503</td>\n",
              "      <td>1</td>\n",
              "      <td>...</td>\n",
              "      <td>Two year</td>\n",
              "      <td>1</td>\n",
              "      <td>Bank transfer (automatic)</td>\n",
              "      <td>105.65</td>\n",
              "      <td>6844.50</td>\n",
              "      <td>0</td>\n",
              "      <td>0</td>\n",
              "      <td>38</td>\n",
              "      <td>5097</td>\n",
              "      <td>NaN</td>\n",
              "    </tr>\n",
              "  </tbody>\n",
              "</table>\n",
              "<p>7043 rows × 33 columns</p>\n",
              "</div>\n",
              "      <button class=\"colab-df-convert\" onclick=\"convertToInteractive('df-62be10f2-b1cb-4ea7-926a-0e2005ab4a69')\"\n",
              "              title=\"Convert this dataframe to an interactive table.\"\n",
              "              style=\"display:none;\">\n",
              "        \n",
              "  <svg xmlns=\"http://www.w3.org/2000/svg\" height=\"24px\"viewBox=\"0 0 24 24\"\n",
              "       width=\"24px\">\n",
              "    <path d=\"M0 0h24v24H0V0z\" fill=\"none\"/>\n",
              "    <path d=\"M18.56 5.44l.94 2.06.94-2.06 2.06-.94-2.06-.94-.94-2.06-.94 2.06-2.06.94zm-11 1L8.5 8.5l.94-2.06 2.06-.94-2.06-.94L8.5 2.5l-.94 2.06-2.06.94zm10 10l.94 2.06.94-2.06 2.06-.94-2.06-.94-.94-2.06-.94 2.06-2.06.94z\"/><path d=\"M17.41 7.96l-1.37-1.37c-.4-.4-.92-.59-1.43-.59-.52 0-1.04.2-1.43.59L10.3 9.45l-7.72 7.72c-.78.78-.78 2.05 0 2.83L4 21.41c.39.39.9.59 1.41.59.51 0 1.02-.2 1.41-.59l7.78-7.78 2.81-2.81c.8-.78.8-2.07 0-2.86zM5.41 20L4 18.59l7.72-7.72 1.47 1.35L5.41 20z\"/>\n",
              "  </svg>\n",
              "      </button>\n",
              "      \n",
              "  <style>\n",
              "    .colab-df-container {\n",
              "      display:flex;\n",
              "      flex-wrap:wrap;\n",
              "      gap: 12px;\n",
              "    }\n",
              "\n",
              "    .colab-df-convert {\n",
              "      background-color: #E8F0FE;\n",
              "      border: none;\n",
              "      border-radius: 50%;\n",
              "      cursor: pointer;\n",
              "      display: none;\n",
              "      fill: #1967D2;\n",
              "      height: 32px;\n",
              "      padding: 0 0 0 0;\n",
              "      width: 32px;\n",
              "    }\n",
              "\n",
              "    .colab-df-convert:hover {\n",
              "      background-color: #E2EBFA;\n",
              "      box-shadow: 0px 1px 2px rgba(60, 64, 67, 0.3), 0px 1px 3px 1px rgba(60, 64, 67, 0.15);\n",
              "      fill: #174EA6;\n",
              "    }\n",
              "\n",
              "    [theme=dark] .colab-df-convert {\n",
              "      background-color: #3B4455;\n",
              "      fill: #D2E3FC;\n",
              "    }\n",
              "\n",
              "    [theme=dark] .colab-df-convert:hover {\n",
              "      background-color: #434B5C;\n",
              "      box-shadow: 0px 1px 3px 1px rgba(0, 0, 0, 0.15);\n",
              "      filter: drop-shadow(0px 1px 2px rgba(0, 0, 0, 0.3));\n",
              "      fill: #FFFFFF;\n",
              "    }\n",
              "  </style>\n",
              "\n",
              "      <script>\n",
              "        const buttonEl =\n",
              "          document.querySelector('#df-62be10f2-b1cb-4ea7-926a-0e2005ab4a69 button.colab-df-convert');\n",
              "        buttonEl.style.display =\n",
              "          google.colab.kernel.accessAllowed ? 'block' : 'none';\n",
              "\n",
              "        async function convertToInteractive(key) {\n",
              "          const element = document.querySelector('#df-62be10f2-b1cb-4ea7-926a-0e2005ab4a69');\n",
              "          const dataTable =\n",
              "            await google.colab.kernel.invokeFunction('convertToInteractive',\n",
              "                                                     [key], {});\n",
              "          if (!dataTable) return;\n",
              "\n",
              "          const docLinkHtml = 'Like what you see? Visit the ' +\n",
              "            '<a target=\"_blank\" href=https://colab.research.google.com/notebooks/data_table.ipynb>data table notebook</a>'\n",
              "            + ' to learn more about interactive tables.';\n",
              "          element.innerHTML = '';\n",
              "          dataTable['output_type'] = 'display_data';\n",
              "          await google.colab.output.renderOutput(dataTable, element);\n",
              "          const docLink = document.createElement('div');\n",
              "          docLink.innerHTML = docLinkHtml;\n",
              "          element.appendChild(docLink);\n",
              "        }\n",
              "      </script>\n",
              "    </div>\n",
              "  </div>\n",
              "  "
            ]
          },
          "metadata": {},
          "execution_count": 49
        }
      ]
    },
    {
      "cell_type": "markdown",
      "source": [
        "***Q6. Please examine the distribution of monthly charges between males and females using box plots. Please explain the results also. ***"
      ],
      "metadata": {
        "id": "B8sWfiR9uj8G"
      }
    },
    {
      "cell_type": "code",
      "source": [
        "sns.boxplot(x='Gender', y='Monthly Charges',data=df)"
      ],
      "metadata": {
        "colab": {
          "base_uri": "https://localhost:8080/",
          "height": 297
        },
        "id": "qP5WOkHUupYD",
        "outputId": "ed220bb9-453a-4856-a9d4-9281e94db3fe"
      },
      "execution_count": null,
      "outputs": [
        {
          "output_type": "execute_result",
          "data": {
            "text/plain": [
              "<matplotlib.axes._subplots.AxesSubplot at 0x7f5771444410>"
            ]
          },
          "metadata": {},
          "execution_count": 28
        },
        {
          "output_type": "display_data",
          "data": {
            "text/plain": [
              "<Figure size 432x288 with 1 Axes>"
            ],
            "image/png": "[encoded data removed]"
          },
          "metadata": {
            "needs_background": "light"
          }
        }
      ]
    },
    {
      "cell_type": "code",
      "source": [
        "print('medians of monthly charges for male and females are:\\n', df.groupby('Gender')['Monthly Charges'].median())\n",
        "\n"
      ],
      "metadata": {
        "colab": {
          "base_uri": "https://localhost:8080/"
        },
        "id": "e6FC9QYFynDB",
        "outputId": "6aa7a000-b1f5-49ff-bd4f-4774855e817b"
      },
      "execution_count": null,
      "outputs": [
        {
          "output_type": "stream",
          "name": "stdout",
          "text": [
            "medians of monthly charges for male and females are:\n",
            " Gender\n",
            "Female    70.65\n",
            "Male      70.10\n",
            "Name: Monthly Charges, dtype: float64\n"
          ]
        }
      ]
    },
    {
      "cell_type": "markdown",
      "source": [
        "from the above box plot we can se that, Medians of both Male and Female plots are almost equal and are shifted towards Right. That is the data is left skewed.\n",
        "median values are same as we can see from output."
      ],
      "metadata": {
        "id": "aVa5eoRRyFd7"
      }
    },
    {
      "cell_type": "markdown",
      "source": [
        "**Q7.Please find what is the minimum total charges for Los Angeles city. Please find which zip code has the maximum total charges.**"
      ],
      "metadata": {
        "id": "1DvrJmMi73VD"
      }
    },
    {
      "cell_type": "code",
      "source": [
        "df_Los=df[df['City']=='Los Angeles'] #filtering the table with city as Los angeles\n",
        "\n",
        "\n",
        "#min total charges for los angeles\n",
        "print('minimum Total charges for Los angeles is: ',df_Los['Total Charges'].min())\n",
        "\n",
        "#zip code with maximum total charges in los angeles\n",
        "df_zip=df_Los[df_Los['Total Charges']==df_Los['Total Charges'].max()]\n",
        "print('Zip Code with Maximum Total Charges:' , df_zip['Zip Code'])"
      ],
      "metadata": {
        "colab": {
          "base_uri": "https://localhost:8080/"
        },
        "id": "_AwN-_YEDQ90",
        "outputId": "f15ce443-0660-48a0-c287-47f4a52a9d0c"
      },
      "execution_count": null,
      "outputs": [
        {
          "output_type": "stream",
          "name": "stdout",
          "text": [
            "minimum Total charges for Los angeles is:  18.8\n",
            "Zip Code with Maximum Total Charges: 3117    90044\n",
            "Name: Zip Code, dtype: int64\n"
          ]
        }
      ]
    },
    {
      "cell_type": "markdown",
      "source": [
        "minimum total charges for Los angeles city is 18.8.\n",
        "and zipcode with maximum total charges is 90044"
      ],
      "metadata": {
        "id": "TWgn9e3FfFRu"
      }
    },
    {
      "cell_type": "markdown",
      "source": [
        "**Q8. Please find which payment method has the highest churn score and which has the lowest churn score.**"
      ],
      "metadata": {
        "id": "IAEUG32yfQp0"
      }
    },
    {
      "cell_type": "markdown",
      "source": [
        "we can get the desired output by using group function.\n",
        "we are grouping the payment Methods with maximum and minimum values in them."
      ],
      "metadata": {
        "id": "U4CYCh1zk5-3"
      }
    },
    {
      "cell_type": "code",
      "source": [
        "\n",
        "print(' Payment methods with max Churn Score: \\n',df.groupby('Payment Method')['Churn Score'].max())\n",
        "print('\\n')\n",
        "print(' Payment methods with min Churn Score:\\n ',df.groupby('Payment Method')['Churn Score'].min())\n",
        "\n"
      ],
      "metadata": {
        "colab": {
          "base_uri": "https://localhost:8080/"
        },
        "id": "4gHe75PrfY16",
        "outputId": "d6a114cd-fb5f-4da3-dde8-7fd8ea20192b"
      },
      "execution_count": null,
      "outputs": [
        {
          "output_type": "stream",
          "name": "stdout",
          "text": [
            " Payment methods with max Churn Score: \n",
            " Payment Method\n",
            "Bank transfer (automatic)    100\n",
            "Credit card (automatic)      100\n",
            "Electronic check             100\n",
            "Mailed check                 100\n",
            "Name: Churn Score, dtype: int64\n",
            "\n",
            "\n",
            " Payment methods with min Churn Score:\n",
            "  Payment Method\n",
            "Bank transfer (automatic)    8\n",
            "Credit card (automatic)      5\n",
            "Electronic check             7\n",
            "Mailed check                 9\n",
            "Name: Churn Score, dtype: int64\n"
          ]
        }
      ]
    },
    {
      "cell_type": "markdown",
      "source": [
        "from the above output, we can see the maximum and minimum values of churn scores for each mode of payment.\n",
        "max churn value for all the modes of payments remains same(100) and payment method with least churn value is credit card(automatic) with churn value of 5."
      ],
      "metadata": {
        "id": "Opklv0T3lLJH"
      }
    },
    {
      "cell_type": "markdown",
      "source": [
        "**Q9. Please create an appropriate plot to check the count of payment methods and explain it.**"
      ],
      "metadata": {
        "id": "E6p--01dl7Fi"
      }
    },
    {
      "cell_type": "code",
      "source": [
        "sns.set(rc = {'figure.figsize':(10,4)}) #setting the size of the figure\n",
        "sns.countplot(x='Payment Method',data=df) #code for count plot\n",
        "print(df['Payment Method'].value_counts()) #getting counts of payment methods"
      ],
      "metadata": {
        "colab": {
          "base_uri": "https://localhost:8080/",
          "height": 372
        },
        "id": "32gdjo7jmDoN",
        "outputId": "5687470c-b45f-4d1c-a397-2abf114e1380"
      },
      "execution_count": null,
      "outputs": [
        {
          "output_type": "stream",
          "name": "stdout",
          "text": [
            "Electronic check             2365\n",
            "Mailed check                 1612\n",
            "Bank transfer (automatic)    1544\n",
            "Credit card (automatic)      1522\n",
            "Name: Payment Method, dtype: int64\n"
          ]
        },
        {
          "output_type": "display_data",
          "data": {
            "text/plain": [
              "<Figure size 720x288 with 1 Axes>"
            ],
            "image/png": "[encoded data removed]"
          },
          "metadata": {}
        }
      ]
    },
    {
      "cell_type": "markdown",
      "source": [
        "From the above graph, we can see the counts of different payment methods.\n",
        "Highest used method of payment is Electronic Check with count of 2365 and lowest used is credit card(automatic) with count of 1522"
      ],
      "metadata": {
        "id": "FPvQV7zWpH00"
      }
    },
    {
      "cell_type": "markdown",
      "source": [
        "**Q10.Please create an appropriate plot to see the relationship between monthly charges and total charges.**"
      ],
      "metadata": {
        "id": "c8V9Ra8KpiP4"
      }
    },
    {
      "cell_type": "code",
      "source": [
        "x=df['Monthly Charges']\n",
        "y=df['Total Charges']\n",
        "plt.figure(figsize=(8,6))\n",
        "plt.xlabel('Monthly Charges')\n",
        "plt.ylabel('Total Charges')\n",
        "plt.scatter(x,y)"
      ],
      "metadata": {
        "colab": {
          "base_uri": "https://localhost:8080/",
          "height": 405
        },
        "id": "wPYPjkDeppnB",
        "outputId": "26836d20-10e4-49a5-e8de-51df58d6523f"
      },
      "execution_count": null,
      "outputs": [
        {
          "output_type": "execute_result",
          "data": {
            "text/plain": [
              "<matplotlib.collections.PathCollection at 0x7f5770eb1e90>"
            ]
          },
          "metadata": {},
          "execution_count": 48
        },
        {
          "output_type": "display_data",
          "data": {
            "text/plain": [
              "<Figure size 576x432 with 1 Axes>"
            ],
            "image/png": "[encoded data removed]"
          },
          "metadata": {
            "needs_background": "light"
          }
        }
      ]
    },
    {
      "cell_type": "markdown",
      "source": [
        "With monthly charges increasing, total charges are also increasing linearly. "
      ],
      "metadata": {
        "id": "4pZXf-y4rBZg"
      }
    }
  ]
}