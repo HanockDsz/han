{
  "nbformat": 4,
  "nbformat_minor": 0,
  "metadata": {
    "colab": {
      "name": "Week9 assignment.ipynb",
      "provenance": [],
      "collapsed_sections": []
    },
    "kernelspec": {
      "name": "python3",
      "display_name": "Python 3"
    },
    "language_info": {
      "name": "python"
    }
  },
  "cells": [
    {
      "cell_type": "markdown",
      "source": [
        "This project is about analysing the data of super market based on data collected for 3 months i.e., Jan-19 to March-19.\n",
        "\n",
        " Below Questions are solved using data visualization."
      ],
      "metadata": {
        "id": "Xfc150tprgRo"
      }
    },
    {
      "cell_type": "markdown",
      "source": [
        "Dataset description:\n",
        "Instances: 1000\n",
        "Features: 17 columns\n",
        "Numerical : 8 columns\n",
        "\n",
        "Categorical: 7 columns\n",
        "\n",
        "Date-Time: 2 columns\n",
        "\n",
        " \n",
        "\n",
        "Attribute Information:\n",
        "Invoice id: Computer generated sales slip invoice identification number\n",
        "Branch: Branch of supercenter (3 branches are available identified by A, B and C).\n",
        "City: Location of supercenters\n",
        "Customer type: Type of customers, recorded by Members for customers using member card and Normal for without member card.\n",
        "Gender: Gender type of customer\n",
        "Product line: General item categorization groups - Electronic accessories, Fashion accessories, Food and beverages, Health and beauty, Home and lifestyle, Sports and travel\n",
        "Unit price: Price of each product in $\n",
        "Quantity: Number of products purchased by customer\n",
        "Tax: 5% tax fee for customer buying\n",
        "Total: Total price including tax\n",
        "Date: Date of purchase (Record available from January 2019 to March 2019)\n",
        "Time: Purchase time (10am to 9pm)\n",
        "Payment: Payment used by customer for purchase (3 methods are available – Cash, Credit card and Ewallet)\n",
        "COGS: Cost of goods sold\n",
        "Gross margin percentage: Gross margin percentage\n",
        "Gross income: Gross income\n",
        "Rating: Customer stratification rating on their overall shopping experience (On a scale of 1 to 10)\n",
        " \n",
        "Assignment questions\n",
        "Part-1: \n",
        "\n",
        "1. Is your supermarket more popular with males or females? \n",
        "2. What does the customer rating look like and can you also comment on its distribution? \n",
        "3. What can you say about the aggregate sales across the branches? \n",
        "4. Which is the most popular payment method used by customers?\n",
        "Part-2: \n",
        "\n",
        "1. Does gross income affect customer ratings? \n",
        "2. Which is the most profitable branch? \n",
        "3. Create a boxplot between Gender and Gross income and explain the results? \n",
        "4. Can you see any time trend in gross income? \n",
        "5. What is the spending pattern of both males and females, meaning in which category do they spend more? \n",
        "6. How many products are bought by customers? \n",
        "7. Which day of the week has maximum sales? \n",
        "8. Which hour of the day is busiest? \n",
        "9. Which product line should your supermarket focus on? \n",
        "10. Which city should be chosen for expansion and what products should be focussed on?\n"
      ],
      "metadata": {
        "id": "n9qvPv28qo2H"
      }
    },
    {
      "cell_type": "markdown",
      "source": [
        "We need to work on libraries like pandas, numpy, matplotlib, seaborn and datetime. Hence we need to import the libraries as below."
      ],
      "metadata": {
        "id": "njuNDDmPr6r3"
      }
    },
    {
      "cell_type": "code",
      "execution_count": 1,
      "metadata": {
        "id": "cfVeBvM7BKiM"
      },
      "outputs": [],
      "source": [
        "import pandas as pd\n",
        "import numpy as np\n",
        "import matplotlib.pyplot as plt\n",
        "import seaborn as sns\n",
        "import datetime"
      ]
    },
    {
      "cell_type": "markdown",
      "source": [
        "Inorder to have an idea of data available, we need to import the data and display it. so that we will get a clear idea of contents and can be used for further refernces."
      ],
      "metadata": {
        "id": "aTMLoakAsMl3"
      }
    },
    {
      "cell_type": "markdown",
      "source": [
        "The time and dates in data frames are imoported in string format. so we need to convert them using below code."
      ],
      "metadata": {
        "id": "qeCbuByWsi-0"
      }
    },
    {
      "cell_type": "code",
      "source": [
        "df= pd.read_csv('supermarket_sales1.csv')\n",
        "df['Date']=pd.to_datetime(df['Date'])\n",
        "df['Time']=pd.to_datetime(df['Time'])\n",
        "df['Time_hrs']=df['Time'].dt.hour\n",
        "df"
      ],
      "metadata": {
        "colab": {
          "base_uri": "https://localhost:8080/",
          "height": 869
        },
        "id": "fGGyRlg0Onae",
        "outputId": "296f2559-01c3-4a78-8b18-d8fc89ca014c"
      },
      "execution_count": 13,
      "outputs": [
        {
          "output_type": "execute_result",
          "data": {
            "text/plain": [
              "      Invoice ID Branch city code  Customer type  Gender Product code  \\\n",
              "0    750-67-8428      A        CT1        Member  Female          PD1   \n",
              "1    226-31-3081      C        CT3        Normal  Female          PD2   \n",
              "2    631-41-3108      A        CT1        Normal    Male          PD3   \n",
              "3    123-19-1176      A        CT1        Member    Male          PD1   \n",
              "4    373-73-7910      A        CT1        Normal    Male          PD4   \n",
              "..           ...    ...        ...           ...     ...          ...   \n",
              "995  233-67-5758      C        CT3        Normal    Male          PD1   \n",
              "996  303-96-2227      B        CT9        Normal  Female          PD3   \n",
              "997  727-02-1313      A        CT1        Member    Male          PD5   \n",
              "998  347-56-2442      A        CT1        Normal    Male          PD3   \n",
              "999  849-09-3807      A        CT1        Member  Female          PD6   \n",
              "\n",
              "    Unit price  Quantity   Tax 5%      Total       Date                Time  \\\n",
              "0        74.69         7  26.1415   548.9715 2019-05-01 2022-04-26 13:08:00   \n",
              "1        15.28         5   3.8200    80.2200 2019-08-03 2022-04-26 10:29:00   \n",
              "2        46.33         7  16.2155   340.5255 2019-03-03 2022-04-26 13:23:00   \n",
              "3        58.22         8  23.2880   489.0480 2019-01-27 2022-04-26 20:33:00   \n",
              "4        86.31         7  30.2085   634.3785 2019-08-02 2022-04-26 10:37:00   \n",
              "..         ...       ...      ...        ...        ...                 ...   \n",
              "995      40.35         1   2.0175    42.3675 2019-01-29 2022-04-26 13:46:00   \n",
              "996      97.38        10  48.6900  1022.4900 2019-02-03 2022-04-26 17:16:00   \n",
              "997      31.84         1   1.5920    33.4320 2019-09-02 2022-04-26 13:22:00   \n",
              "998      65.82         1   3.2910    69.1110 2019-02-22 2022-04-26 15:33:00   \n",
              "999      88.34         7  30.9190   649.2990 2019-02-18 2022-04-26 13:28:00   \n",
              "\n",
              "         Payment    cogs  gross margin percentage  gross income  Rating  \\\n",
              "0        Ewallet  522.83                 4.761905       26.1415     9.1   \n",
              "1           Cash   76.40                 4.761905        3.8200     9.6   \n",
              "2    Credit card  324.31                 4.761905       16.2155     7.4   \n",
              "3        Ewallet  465.76                 4.761905       23.2880     8.4   \n",
              "4        Ewallet  604.17                 4.761905       30.2085     5.3   \n",
              "..           ...     ...                      ...           ...     ...   \n",
              "995      Ewallet   40.35                 4.761905        2.0175     6.2   \n",
              "996      Ewallet  973.80                 4.761905       48.6900     4.4   \n",
              "997         Cash   31.84                 4.761905        1.5920     7.7   \n",
              "998         Cash   65.82                 4.761905        3.2910     4.1   \n",
              "999         Cash  618.38                 4.761905       30.9190     6.6   \n",
              "\n",
              "     Time_hrs  \n",
              "0          13  \n",
              "1          10  \n",
              "2          13  \n",
              "3          20  \n",
              "4          10  \n",
              "..        ...  \n",
              "995        13  \n",
              "996        17  \n",
              "997        13  \n",
              "998        15  \n",
              "999        13  \n",
              "\n",
              "[1000 rows x 18 columns]"
            ],
            "text/html": [
              "\n",
              "  <div id=\"df-c685a46a-25cf-4e26-8bd2-2f450776cd09\">\n",
              "    <div class=\"colab-df-container\">\n",
              "      <div>\n",
              "<style scoped>\n",
              "    .dataframe tbody tr th:only-of-type {\n",
              "        vertical-align: middle;\n",
              "    }\n",
              "\n",
              "    .dataframe tbody tr th {\n",
              "        vertical-align: top;\n",
              "    }\n",
              "\n",
              "    .dataframe thead th {\n",
              "        text-align: right;\n",
              "    }\n",
              "</style>\n",
              "<table border=\"1\" class=\"dataframe\">\n",
              "  <thead>\n",
              "    <tr style=\"text-align: right;\">\n",
              "      <th></th>\n",
              "      <th>Invoice ID</th>\n",
              "      <th>Branch</th>\n",
              "      <th>city code</th>\n",
              "      <th>Customer type</th>\n",
              "      <th>Gender</th>\n",
              "      <th>Product code</th>\n",
              "      <th>Unit price</th>\n",
              "      <th>Quantity</th>\n",
              "      <th>Tax 5%</th>\n",
              "      <th>Total</th>\n",
              "      <th>Date</th>\n",
              "      <th>Time</th>\n",
              "      <th>Payment</th>\n",
              "      <th>cogs</th>\n",
              "      <th>gross margin percentage</th>\n",
              "      <th>gross income</th>\n",
              "      <th>Rating</th>\n",
              "      <th>Time_hrs</th>\n",
              "    </tr>\n",
              "  </thead>\n",
              "  <tbody>\n",
              "    <tr>\n",
              "      <th>0</th>\n",
              "      <td>750-67-8428</td>\n",
              "      <td>A</td>\n",
              "      <td>CT1</td>\n",
              "      <td>Member</td>\n",
              "      <td>Female</td>\n",
              "      <td>PD1</td>\n",
              "      <td>74.69</td>\n",
              "      <td>7</td>\n",
              "      <td>26.1415</td>\n",
              "      <td>548.9715</td>\n",
              "      <td>2019-05-01</td>\n",
              "      <td>2022-04-26 13:08:00</td>\n",
              "      <td>Ewallet</td>\n",
              "      <td>522.83</td>\n",
              "      <td>4.761905</td>\n",
              "      <td>26.1415</td>\n",
              "      <td>9.1</td>\n",
              "      <td>13</td>\n",
              "    </tr>\n",
              "    <tr>\n",
              "      <th>1</th>\n",
              "      <td>226-31-3081</td>\n",
              "      <td>C</td>\n",
              "      <td>CT3</td>\n",
              "      <td>Normal</td>\n",
              "      <td>Female</td>\n",
              "      <td>PD2</td>\n",
              "      <td>15.28</td>\n",
              "      <td>5</td>\n",
              "      <td>3.8200</td>\n",
              "      <td>80.2200</td>\n",
              "      <td>2019-08-03</td>\n",
              "      <td>2022-04-26 10:29:00</td>\n",
              "      <td>Cash</td>\n",
              "      <td>76.40</td>\n",
              "      <td>4.761905</td>\n",
              "      <td>3.8200</td>\n",
              "      <td>9.6</td>\n",
              "      <td>10</td>\n",
              "    </tr>\n",
              "    <tr>\n",
              "      <th>2</th>\n",
              "      <td>631-41-3108</td>\n",
              "      <td>A</td>\n",
              "      <td>CT1</td>\n",
              "      <td>Normal</td>\n",
              "      <td>Male</td>\n",
              "      <td>PD3</td>\n",
              "      <td>46.33</td>\n",
              "      <td>7</td>\n",
              "      <td>16.2155</td>\n",
              "      <td>340.5255</td>\n",
              "      <td>2019-03-03</td>\n",
              "      <td>2022-04-26 13:23:00</td>\n",
              "      <td>Credit card</td>\n",
              "      <td>324.31</td>\n",
              "      <td>4.761905</td>\n",
              "      <td>16.2155</td>\n",
              "      <td>7.4</td>\n",
              "      <td>13</td>\n",
              "    </tr>\n",
              "    <tr>\n",
              "      <th>3</th>\n",
              "      <td>123-19-1176</td>\n",
              "      <td>A</td>\n",
              "      <td>CT1</td>\n",
              "      <td>Member</td>\n",
              "      <td>Male</td>\n",
              "      <td>PD1</td>\n",
              "      <td>58.22</td>\n",
              "      <td>8</td>\n",
              "      <td>23.2880</td>\n",
              "      <td>489.0480</td>\n",
              "      <td>2019-01-27</td>\n",
              "      <td>2022-04-26 20:33:00</td>\n",
              "      <td>Ewallet</td>\n",
              "      <td>465.76</td>\n",
              "      <td>4.761905</td>\n",
              "      <td>23.2880</td>\n",
              "      <td>8.4</td>\n",
              "      <td>20</td>\n",
              "    </tr>\n",
              "    <tr>\n",
              "      <th>4</th>\n",
              "      <td>373-73-7910</td>\n",
              "      <td>A</td>\n",
              "      <td>CT1</td>\n",
              "      <td>Normal</td>\n",
              "      <td>Male</td>\n",
              "      <td>PD4</td>\n",
              "      <td>86.31</td>\n",
              "      <td>7</td>\n",
              "      <td>30.2085</td>\n",
              "      <td>634.3785</td>\n",
              "      <td>2019-08-02</td>\n",
              "      <td>2022-04-26 10:37:00</td>\n",
              "      <td>Ewallet</td>\n",
              "      <td>604.17</td>\n",
              "      <td>4.761905</td>\n",
              "      <td>30.2085</td>\n",
              "      <td>5.3</td>\n",
              "      <td>10</td>\n",
              "    </tr>\n",
              "    <tr>\n",
              "      <th>...</th>\n",
              "      <td>...</td>\n",
              "      <td>...</td>\n",
              "      <td>...</td>\n",
              "      <td>...</td>\n",
              "      <td>...</td>\n",
              "      <td>...</td>\n",
              "      <td>...</td>\n",
              "      <td>...</td>\n",
              "      <td>...</td>\n",
              "      <td>...</td>\n",
              "      <td>...</td>\n",
              "      <td>...</td>\n",
              "      <td>...</td>\n",
              "      <td>...</td>\n",
              "      <td>...</td>\n",
              "      <td>...</td>\n",
              "      <td>...</td>\n",
              "      <td>...</td>\n",
              "    </tr>\n",
              "    <tr>\n",
              "      <th>995</th>\n",
              "      <td>233-67-5758</td>\n",
              "      <td>C</td>\n",
              "      <td>CT3</td>\n",
              "      <td>Normal</td>\n",
              "      <td>Male</td>\n",
              "      <td>PD1</td>\n",
              "      <td>40.35</td>\n",
              "      <td>1</td>\n",
              "      <td>2.0175</td>\n",
              "      <td>42.3675</td>\n",
              "      <td>2019-01-29</td>\n",
              "      <td>2022-04-26 13:46:00</td>\n",
              "      <td>Ewallet</td>\n",
              "      <td>40.35</td>\n",
              "      <td>4.761905</td>\n",
              "      <td>2.0175</td>\n",
              "      <td>6.2</td>\n",
              "      <td>13</td>\n",
              "    </tr>\n",
              "    <tr>\n",
              "      <th>996</th>\n",
              "      <td>303-96-2227</td>\n",
              "      <td>B</td>\n",
              "      <td>CT9</td>\n",
              "      <td>Normal</td>\n",
              "      <td>Female</td>\n",
              "      <td>PD3</td>\n",
              "      <td>97.38</td>\n",
              "      <td>10</td>\n",
              "      <td>48.6900</td>\n",
              "      <td>1022.4900</td>\n",
              "      <td>2019-02-03</td>\n",
              "      <td>2022-04-26 17:16:00</td>\n",
              "      <td>Ewallet</td>\n",
              "      <td>973.80</td>\n",
              "      <td>4.761905</td>\n",
              "      <td>48.6900</td>\n",
              "      <td>4.4</td>\n",
              "      <td>17</td>\n",
              "    </tr>\n",
              "    <tr>\n",
              "      <th>997</th>\n",
              "      <td>727-02-1313</td>\n",
              "      <td>A</td>\n",
              "      <td>CT1</td>\n",
              "      <td>Member</td>\n",
              "      <td>Male</td>\n",
              "      <td>PD5</td>\n",
              "      <td>31.84</td>\n",
              "      <td>1</td>\n",
              "      <td>1.5920</td>\n",
              "      <td>33.4320</td>\n",
              "      <td>2019-09-02</td>\n",
              "      <td>2022-04-26 13:22:00</td>\n",
              "      <td>Cash</td>\n",
              "      <td>31.84</td>\n",
              "      <td>4.761905</td>\n",
              "      <td>1.5920</td>\n",
              "      <td>7.7</td>\n",
              "      <td>13</td>\n",
              "    </tr>\n",
              "    <tr>\n",
              "      <th>998</th>\n",
              "      <td>347-56-2442</td>\n",
              "      <td>A</td>\n",
              "      <td>CT1</td>\n",
              "      <td>Normal</td>\n",
              "      <td>Male</td>\n",
              "      <td>PD3</td>\n",
              "      <td>65.82</td>\n",
              "      <td>1</td>\n",
              "      <td>3.2910</td>\n",
              "      <td>69.1110</td>\n",
              "      <td>2019-02-22</td>\n",
              "      <td>2022-04-26 15:33:00</td>\n",
              "      <td>Cash</td>\n",
              "      <td>65.82</td>\n",
              "      <td>4.761905</td>\n",
              "      <td>3.2910</td>\n",
              "      <td>4.1</td>\n",
              "      <td>15</td>\n",
              "    </tr>\n",
              "    <tr>\n",
              "      <th>999</th>\n",
              "      <td>849-09-3807</td>\n",
              "      <td>A</td>\n",
              "      <td>CT1</td>\n",
              "      <td>Member</td>\n",
              "      <td>Female</td>\n",
              "      <td>PD6</td>\n",
              "      <td>88.34</td>\n",
              "      <td>7</td>\n",
              "      <td>30.9190</td>\n",
              "      <td>649.2990</td>\n",
              "      <td>2019-02-18</td>\n",
              "      <td>2022-04-26 13:28:00</td>\n",
              "      <td>Cash</td>\n",
              "      <td>618.38</td>\n",
              "      <td>4.761905</td>\n",
              "      <td>30.9190</td>\n",
              "      <td>6.6</td>\n",
              "      <td>13</td>\n",
              "    </tr>\n",
              "  </tbody>\n",
              "</table>\n",
              "<p>1000 rows × 18 columns</p>\n",
              "</div>\n",
              "      <button class=\"colab-df-convert\" onclick=\"convertToInteractive('df-c685a46a-25cf-4e26-8bd2-2f450776cd09')\"\n",
              "              title=\"Convert this dataframe to an interactive table.\"\n",
              "              style=\"display:none;\">\n",
              "        \n",
              "  <svg xmlns=\"http://www.w3.org/2000/svg\" height=\"24px\"viewBox=\"0 0 24 24\"\n",
              "       width=\"24px\">\n",
              "    <path d=\"M0 0h24v24H0V0z\" fill=\"none\"/>\n",
              "    <path d=\"M18.56 5.44l.94 2.06.94-2.06 2.06-.94-2.06-.94-.94-2.06-.94 2.06-2.06.94zm-11 1L8.5 8.5l.94-2.06 2.06-.94-2.06-.94L8.5 2.5l-.94 2.06-2.06.94zm10 10l.94 2.06.94-2.06 2.06-.94-2.06-.94-.94-2.06-.94 2.06-2.06.94z\"/><path d=\"M17.41 7.96l-1.37-1.37c-.4-.4-.92-.59-1.43-.59-.52 0-1.04.2-1.43.59L10.3 9.45l-7.72 7.72c-.78.78-.78 2.05 0 2.83L4 21.41c.39.39.9.59 1.41.59.51 0 1.02-.2 1.41-.59l7.78-7.78 2.81-2.81c.8-.78.8-2.07 0-2.86zM5.41 20L4 18.59l7.72-7.72 1.47 1.35L5.41 20z\"/>\n",
              "  </svg>\n",
              "      </button>\n",
              "      \n",
              "  <style>\n",
              "    .colab-df-container {\n",
              "      display:flex;\n",
              "      flex-wrap:wrap;\n",
              "      gap: 12px;\n",
              "    }\n",
              "\n",
              "    .colab-df-convert {\n",
              "      background-color: #E8F0FE;\n",
              "      border: none;\n",
              "      border-radius: 50%;\n",
              "      cursor: pointer;\n",
              "      display: none;\n",
              "      fill: #1967D2;\n",
              "      height: 32px;\n",
              "      padding: 0 0 0 0;\n",
              "      width: 32px;\n",
              "    }\n",
              "\n",
              "    .colab-df-convert:hover {\n",
              "      background-color: #E2EBFA;\n",
              "      box-shadow: 0px 1px 2px rgba(60, 64, 67, 0.3), 0px 1px 3px 1px rgba(60, 64, 67, 0.15);\n",
              "      fill: #174EA6;\n",
              "    }\n",
              "\n",
              "    [theme=dark] .colab-df-convert {\n",
              "      background-color: #3B4455;\n",
              "      fill: #D2E3FC;\n",
              "    }\n",
              "\n",
              "    [theme=dark] .colab-df-convert:hover {\n",
              "      background-color: #434B5C;\n",
              "      box-shadow: 0px 1px 3px 1px rgba(0, 0, 0, 0.15);\n",
              "      filter: drop-shadow(0px 1px 2px rgba(0, 0, 0, 0.3));\n",
              "      fill: #FFFFFF;\n",
              "    }\n",
              "  </style>\n",
              "\n",
              "      <script>\n",
              "        const buttonEl =\n",
              "          document.querySelector('#df-c685a46a-25cf-4e26-8bd2-2f450776cd09 button.colab-df-convert');\n",
              "        buttonEl.style.display =\n",
              "          google.colab.kernel.accessAllowed ? 'block' : 'none';\n",
              "\n",
              "        async function convertToInteractive(key) {\n",
              "          const element = document.querySelector('#df-c685a46a-25cf-4e26-8bd2-2f450776cd09');\n",
              "          const dataTable =\n",
              "            await google.colab.kernel.invokeFunction('convertToInteractive',\n",
              "                                                     [key], {});\n",
              "          if (!dataTable) return;\n",
              "\n",
              "          const docLinkHtml = 'Like what you see? Visit the ' +\n",
              "            '<a target=\"_blank\" href=https://colab.research.google.com/notebooks/data_table.ipynb>data table notebook</a>'\n",
              "            + ' to learn more about interactive tables.';\n",
              "          element.innerHTML = '';\n",
              "          dataTable['output_type'] = 'display_data';\n",
              "          await google.colab.output.renderOutput(dataTable, element);\n",
              "          const docLink = document.createElement('div');\n",
              "          docLink.innerHTML = docLinkHtml;\n",
              "          element.appendChild(docLink);\n",
              "        }\n",
              "      </script>\n",
              "    </div>\n",
              "  </div>\n",
              "  "
            ]
          },
          "metadata": {},
          "execution_count": 13
        }
      ]
    },
    {
      "cell_type": "markdown",
      "source": [
        "### **Part1:**"
      ],
      "metadata": {
        "id": "eE8vONgqs21g"
      }
    },
    {
      "cell_type": "markdown",
      "source": [
        "***Q1.Is your supermarket more popular with males or females? ***"
      ],
      "metadata": {
        "id": "6bTi3274tFjP"
      }
    },
    {
      "cell_type": "markdown",
      "source": [
        "Here we need to count the total count of males and females in the given data frame. This can be done using below code."
      ],
      "metadata": {
        "id": "QCa9DRGltPxU"
      }
    },
    {
      "cell_type": "code",
      "source": [
        "df1=df.Gender.value_counts()\n",
        "df1\n",
        "\n"
      ],
      "metadata": {
        "colab": {
          "base_uri": "https://localhost:8080/"
        },
        "id": "m0vvkVzzW8my",
        "outputId": "ecafa077-7e05-4f94-aedb-94a41fc31087"
      },
      "execution_count": null,
      "outputs": [
        {
          "output_type": "execute_result",
          "data": {
            "text/plain": [
              "Female    501\n",
              "Male      499\n",
              "Name: Gender, dtype: int64"
            ]
          },
          "metadata": {},
          "execution_count": 66
        }
      ]
    },
    {
      "cell_type": "markdown",
      "source": [
        "The count of Male and Female customers are almost equal. so we can conclude that the supermarket is equally popular based on gender. We can have graphical represntation of same in below bar plot."
      ],
      "metadata": {
        "id": "dmY9vrd3th1-"
      }
    },
    {
      "cell_type": "code",
      "source": [
        "\n",
        "sns.countplot(x='Gender',data=df)"
      ],
      "metadata": {
        "colab": {
          "base_uri": "https://localhost:8080/",
          "height": 297
        },
        "id": "rivMtVrKg4Ur",
        "outputId": "69edd168-f283-458d-b129-6d80d09ec2c6"
      },
      "execution_count": 3,
      "outputs": [
        {
          "output_type": "execute_result",
          "data": {
            "text/plain": [
              "<matplotlib.axes._subplots.AxesSubplot at 0x7f9aa6a8d250>"
            ]
          },
          "metadata": {},
          "execution_count": 3
        },
        {
          "output_type": "display_data",
          "data": {
            "text/plain": [
              "<Figure size 432x288 with 1 Axes>"
            ],
            "image/png": "[encoded data removed]"
          },
          "metadata": {
            "needs_background": "light"
          }
        }
      ]
    },
    {
      "cell_type": "markdown",
      "source": [
        "**#2. What does the customer rating look like and can you also comment on its distribution?**"
      ],
      "metadata": {
        "id": "MB7Y1WqYt6Fr"
      }
    },
    {
      "cell_type": "markdown",
      "source": [
        "Here we can group the 3 branches, A,B,C and get the average customer ratings on each branch as per below.\n",
        "we can see that branches A and C are having good customer ratings of 7."
      ],
      "metadata": {
        "id": "vAJHZlgQuO-a"
      }
    },
    {
      "cell_type": "code",
      "source": [
        "\n",
        "avg_rating=round(df.groupby('Branch')['Rating'].mean(),2)\n",
        "print(avg_rating)\n",
        "x=list(avg_rating.index)\n",
        "y=list(avg_rating.values)\n",
        "plt.title('Average rating per Branch')\n",
        "plt.xlabel('Branch')\n",
        "plt.ylabel('average ratings')\n",
        "plt.bar(x,y,color=['b','m','r'])"
      ],
      "metadata": {
        "colab": {
          "base_uri": "https://localhost:8080/",
          "height": 399
        },
        "id": "igAENtWzqBiO",
        "outputId": "ae163418-fac2-4bed-f6e7-03709ebaca93"
      },
      "execution_count": 12,
      "outputs": [
        {
          "output_type": "stream",
          "name": "stdout",
          "text": [
            "Branch\n",
            "A    7.02\n",
            "B    6.80\n",
            "C    7.08\n",
            "Name: Rating, dtype: float64\n"
          ]
        },
        {
          "output_type": "execute_result",
          "data": {
            "text/plain": [
              "<BarContainer object of 3 artists>"
            ]
          },
          "metadata": {},
          "execution_count": 12
        },
        {
          "output_type": "display_data",
          "data": {
            "text/plain": [
              "<Figure size 432x288 with 1 Axes>"
            ],
            "image/png": "[encoded data removed]"
          },
          "metadata": {
            "needs_background": "light"
          }
        }
      ]
    },
    {
      "cell_type": "markdown",
      "source": [
        "**Q3. Aggregate sales across the branches**"
      ],
      "metadata": {
        "id": "x0RDthAXwr4I"
      }
    },
    {
      "cell_type": "markdown",
      "source": [
        "we can solve this question be simply grouping the branch against gross income. Also we can get the bar plot as below"
      ],
      "metadata": {
        "id": "7xhLImz1wz2W"
      }
    },
    {
      "cell_type": "code",
      "source": [
        "\n",
        "avg_sales=round(df.groupby('Branch')['gross income'].mean(),2)\n",
        "avg_sales\n",
        "x=list(avg_sales.index)\n",
        "y=list(avg_sales.values)\n",
        "plt.title('average sales across the branches')\n",
        "plt.xlabel('Banches')\n",
        "plt.ylabel('avg sales')\n",
        "plt.bar(x,y,color=['r','g','b'])\n"
      ],
      "metadata": {
        "colab": {
          "base_uri": "https://localhost:8080/",
          "height": 313
        },
        "id": "qhWGI45bhP-Y",
        "outputId": "f5f22efc-6bf5-46d9-c547-9bb4f96bcf8f"
      },
      "execution_count": 10,
      "outputs": [
        {
          "output_type": "execute_result",
          "data": {
            "text/plain": [
              "<BarContainer object of 3 artists>"
            ]
          },
          "metadata": {},
          "execution_count": 10
        },
        {
          "output_type": "display_data",
          "data": {
            "text/plain": [
              "<Figure size 432x288 with 1 Axes>"
            ],
            "image/png": "[encoded data removed]"
          },
          "metadata": {
            "needs_background": "light"
          }
        }
      ]
    },
    {
      "cell_type": "markdown",
      "source": [
        "**Q4. Which is the most popular payment method used by customers?**"
      ],
      "metadata": {
        "id": "wZpnzZ6_xJAH"
      }
    },
    {
      "cell_type": "markdown",
      "source": [
        "we can easily count the column using value_counts() function as below and we can get the count plot.\n",
        "\n",
        "from the below output, we can see that Ewallet and Cash are the more popular modes of payment."
      ],
      "metadata": {
        "id": "Pt6ArtLnxcFH"
      }
    },
    {
      "cell_type": "code",
      "source": [
        "print(df['Payment'].value_counts())\n",
        "sns.countplot(x='Payment',data=df)"
      ],
      "metadata": {
        "colab": {
          "base_uri": "https://localhost:8080/",
          "height": 366
        },
        "id": "hqoK-AqmiP3F",
        "outputId": "fb82df1d-9444-460d-b944-8d592c01e488"
      },
      "execution_count": 15,
      "outputs": [
        {
          "output_type": "stream",
          "name": "stdout",
          "text": [
            "Ewallet        345\n",
            "Cash           344\n",
            "Credit card    311\n",
            "Name: Payment, dtype: int64\n"
          ]
        },
        {
          "output_type": "execute_result",
          "data": {
            "text/plain": [
              "<matplotlib.axes._subplots.AxesSubplot at 0x7f9aa3e66cd0>"
            ]
          },
          "metadata": {},
          "execution_count": 15
        },
        {
          "output_type": "display_data",
          "data": {
            "text/plain": [
              "<Figure size 432x288 with 1 Axes>"
            ],
            "image/png": "[encoded data removed]"
          },
          "metadata": {
            "needs_background": "light"
          }
        }
      ]
    },
    {
      "cell_type": "markdown",
      "source": [
        "# **Part 2**"
      ],
      "metadata": {
        "id": "ObfeXxeb-BGV"
      }
    },
    {
      "cell_type": "markdown",
      "source": [
        "**1. Does gross income affect customer ratings?**"
      ],
      "metadata": {
        "id": "w6GuqnhiyBr4"
      }
    },
    {
      "cell_type": "code",
      "source": [
        "\n",
        "y=df['gross income']\n",
        "x=df['Rating']\n",
        "plt.xlabel('Rating')\n",
        "plt.ylabel('gross income')\n",
        "plt.scatter(x,y)"
      ],
      "metadata": {
        "colab": {
          "base_uri": "https://localhost:8080/",
          "height": 297
        },
        "id": "FNz1EeeY4B4H",
        "outputId": "3a69c459-b994-4e6a-868a-a3d73b0e1a31"
      },
      "execution_count": 17,
      "outputs": [
        {
          "output_type": "execute_result",
          "data": {
            "text/plain": [
              "<matplotlib.collections.PathCollection at 0x7f9aa3abb1d0>"
            ]
          },
          "metadata": {},
          "execution_count": 17
        },
        {
          "output_type": "display_data",
          "data": {
            "text/plain": [
              "<Figure size 432x288 with 1 Axes>"
            ],
            "image/png": "[encoded data removed]"
          },
          "metadata": {
            "needs_background": "light"
          }
        }
      ]
    },
    {
      "cell_type": "markdown",
      "source": [
        "from the scatter plot, we can see that, ratings for less gross margins are more. ratings are equally distributed throughout the graph.\n"
      ],
      "metadata": {
        "id": "1LMEptwrqYVM"
      }
    },
    {
      "cell_type": "markdown",
      "source": [
        "**2. Which is the most profitable branch?**"
      ],
      "metadata": {
        "id": "6iYLFnGyyVsW"
      }
    },
    {
      "cell_type": "markdown",
      "source": [
        "Here we are grouping by branches and getting the sum of gross profit in each group so that we can get the total profit made by each branch.\n",
        "and we can plot the bar graph as below.\n",
        "Branch A and B are most profitable branches"
      ],
      "metadata": {
        "id": "kOC1Zw4XyeV0"
      }
    },
    {
      "cell_type": "code",
      "source": [
        "\n",
        "profit=df.groupby('Branch')['gross income'].sum()\n",
        "print(profit)\n",
        "x=list(profit.index)\n",
        "y=list(profit.values)\n",
        "plt.title('Branch v/s Profit')\n",
        "plt.xlabel('Branch')\n",
        "plt.ylabel('Total Profit')\n",
        "plt.bar(x,y,color=['r','b','g'])"
      ],
      "metadata": {
        "colab": {
          "base_uri": "https://localhost:8080/",
          "height": 399
        },
        "id": "63vyjn6i-y7l",
        "outputId": "967b3a74-9540-42ce-bdd0-fb82ba5a96ac"
      },
      "execution_count": 16,
      "outputs": [
        {
          "output_type": "stream",
          "name": "stdout",
          "text": [
            "Branch\n",
            "A    5057.1605\n",
            "B    5057.0320\n",
            "C    5265.1765\n",
            "Name: gross income, dtype: float64\n"
          ]
        },
        {
          "output_type": "execute_result",
          "data": {
            "text/plain": [
              "<BarContainer object of 3 artists>"
            ]
          },
          "metadata": {},
          "execution_count": 16
        },
        {
          "output_type": "display_data",
          "data": {
            "text/plain": [
              "<Figure size 432x288 with 1 Axes>"
            ],
            "image/png": "[encoded data removed]"
          },
          "metadata": {
            "needs_background": "light"
          }
        }
      ]
    },
    {
      "cell_type": "markdown",
      "source": [
        "part2. 3. Create a boxplot between Gender and Gross income and explain the results?"
      ],
      "metadata": {
        "id": "4a1TmOZWS-P8"
      }
    },
    {
      "cell_type": "markdown",
      "source": [
        "Below we have done box plot of gross income vs gender using seaborn library. we can see that both meadian vaues of male and female customers are almost same."
      ],
      "metadata": {
        "id": "t4rtyUthS1a3"
      }
    },
    {
      "cell_type": "code",
      "source": [
        "sns.boxplot(x='Gender',y='gross income', data=df)"
      ],
      "metadata": {
        "colab": {
          "base_uri": "https://localhost:8080/",
          "height": 297
        },
        "id": "ADN35XxoldPX",
        "outputId": "662a972f-de16-46c1-f152-5d4a419a4e4e"
      },
      "execution_count": 5,
      "outputs": [
        {
          "output_type": "execute_result",
          "data": {
            "text/plain": [
              "<matplotlib.axes._subplots.AxesSubplot at 0x7f9aa6948810>"
            ]
          },
          "metadata": {},
          "execution_count": 5
        },
        {
          "output_type": "display_data",
          "data": {
            "text/plain": [
              "<Figure size 432x288 with 1 Axes>"
            ],
            "image/png": "[encoded data removed]"
          },
          "metadata": {
            "needs_background": "light"
          }
        }
      ]
    },
    {
      "cell_type": "markdown",
      "source": [
        "**4.Can you see any time trend in gross income?**"
      ],
      "metadata": {
        "id": "ddtjNJ3Jc_ae"
      }
    },
    {
      "cell_type": "markdown",
      "source": [
        "from the below line graph of gross income vs time, we can see that gross income moves in sinusoidal pattern"
      ],
      "metadata": {
        "id": "wo3uPSVE2E8z"
      }
    },
    {
      "cell_type": "code",
      "source": [
        "\n",
        "sns.lineplot(x='Time_hrs',y='gross income',data=df)"
      ],
      "metadata": {
        "colab": {
          "base_uri": "https://localhost:8080/",
          "height": 297
        },
        "id": "yzcrrWvNWl4K",
        "outputId": "1b8a998b-0efb-45ed-cb20-1427e48b4e45"
      },
      "execution_count": 23,
      "outputs": [
        {
          "output_type": "execute_result",
          "data": {
            "text/plain": [
              "<matplotlib.axes._subplots.AxesSubplot at 0x7f9aa38b97d0>"
            ]
          },
          "metadata": {},
          "execution_count": 23
        },
        {
          "output_type": "display_data",
          "data": {
            "text/plain": [
              "<Figure size 432x288 with 1 Axes>"
            ],
            "image/png": "[encoded data removed]"
          },
          "metadata": {
            "needs_background": "light"
          }
        }
      ]
    },
    {
      "cell_type": "markdown",
      "source": [
        "***5. What is the spending pattern of both males and females, meaning in which category do they spend more? ***"
      ],
      "metadata": {
        "id": "GRRUEVBR-cdA"
      }
    },
    {
      "cell_type": "markdown",
      "source": [
        "we have plotted 2 bar graphs below.\n",
        "1. total expenditure of male on diffrent products\n",
        "2. total expenditure of female on diffrent products.\n",
        "\n",
        "we can see that male customers have spent more on product PD1. And female customers have spent more on product PD5."
      ],
      "metadata": {
        "id": "Jx4RTPbM4MLQ"
      }
    },
    {
      "cell_type": "code",
      "source": [
        "sns.countplot(x='Product code',hue='Gender', data=df)"
      ],
      "metadata": {
        "colab": {
          "base_uri": "https://localhost:8080/",
          "height": 299
        },
        "id": "_dqbDFji9OZl",
        "outputId": "535b5212-2543-4ce5-cd68-dc427526573c"
      },
      "execution_count": 22,
      "outputs": [
        {
          "output_type": "execute_result",
          "data": {
            "text/plain": [
              "<matplotlib.axes._subplots.AxesSubplot at 0x7f9aa384b0d0>"
            ]
          },
          "metadata": {},
          "execution_count": 22
        },
        {
          "output_type": "display_data",
          "data": {
            "text/plain": [
              "<Figure size 432x288 with 1 Axes>"
            ],
            "image/png": "[encoded data removed]"
          },
          "metadata": {
            "needs_background": "light"
          }
        }
      ]
    },
    {
      "cell_type": "code",
      "source": [
        "df1=df.loc[:,('Gender','Product code','Total')]\n",
        "df_male=df1[df1['Gender']=='Male']\n",
        "spend_male=df_male.groupby('Product code')['Total'].sum()\n",
        "x=list(spend_male.index)\n",
        "y=list(spend_male.values)\n",
        "plt.title('Total expenditure of Male on range of products')\n",
        "plt.xlabel('Products')\n",
        "plt.ylabel('Expenditure')\n",
        "plt.bar(x,y)"
      ],
      "metadata": {
        "colab": {
          "base_uri": "https://localhost:8080/",
          "height": 313
        },
        "id": "1O-saoO014hK",
        "outputId": "73e75c3b-29f6-4a63-aec2-a50999f90a64"
      },
      "execution_count": null,
      "outputs": [
        {
          "output_type": "execute_result",
          "data": {
            "text/plain": [
              "<BarContainer object of 6 artists>"
            ]
          },
          "metadata": {},
          "execution_count": 25
        },
        {
          "output_type": "display_data",
          "data": {
            "text/plain": [
              "<Figure size 432x288 with 1 Axes>"
            ],
            "image/png": "[encoded data removed]"
          },
          "metadata": {
            "needs_background": "light"
          }
        }
      ]
    },
    {
      "cell_type": "code",
      "source": [
        "df2=df.loc[:,('Gender','Product code','Total')]\n",
        "df_female=df2[df2['Gender']=='Female']\n",
        "spend_female=df_female.groupby('Product code')['Total'].sum()\n",
        "x=list(spend_female.index)\n",
        "y=list(spend_female.values)\n",
        "plt.title('Total expenditure of female on range of products')\n",
        "plt.xlabel('Products')\n",
        "plt.ylabel('Expenditure')\n",
        "plt.bar(x,y)"
      ],
      "metadata": {
        "colab": {
          "base_uri": "https://localhost:8080/",
          "height": 313
        },
        "id": "slGkkpDH49LL",
        "outputId": "50a15896-441d-43ad-b1f3-4114a2c70d33"
      },
      "execution_count": null,
      "outputs": [
        {
          "output_type": "execute_result",
          "data": {
            "text/plain": [
              "<BarContainer object of 6 artists>"
            ]
          },
          "metadata": {},
          "execution_count": 3
        },
        {
          "output_type": "display_data",
          "data": {
            "text/plain": [
              "<Figure size 432x288 with 1 Axes>"
            ],
            "image/png": "[encoded data removed]"
          },
          "metadata": {
            "needs_background": "light"
          }
        }
      ]
    },
    {
      "cell_type": "markdown",
      "source": [
        "***6. How many products are bought by customers? ***"
      ],
      "metadata": {
        "id": "MIND9ycpFyTp"
      }
    },
    {
      "cell_type": "code",
      "source": [
        "\n",
        "print('Total products bought by customers are' , df['Quantity'].sum())"
      ],
      "metadata": {
        "colab": {
          "base_uri": "https://localhost:8080/"
        },
        "id": "8tckPq8gFw3B",
        "outputId": "b3c177fb-acda-4a98-81d6-118529f32980"
      },
      "execution_count": null,
      "outputs": [
        {
          "output_type": "stream",
          "name": "stdout",
          "text": [
            "Total products bought by customers are 5510\n"
          ]
        }
      ]
    },
    {
      "cell_type": "markdown",
      "source": [
        "Total products bought by customers are 5510"
      ],
      "metadata": {
        "id": "shIQDy0eQHAk"
      }
    },
    {
      "cell_type": "markdown",
      "source": [
        "**7. Which day of the week has maximum sales?**\n",
        "\n",
        "From the below graph, we can clearly see that Tuesday has the maximum sales across 3 branches"
      ],
      "metadata": {
        "id": "xaZgQNnHQIEd"
      }
    },
    {
      "cell_type": "code",
      "source": [
        "\n",
        "df['Day']=df['Date'].dt.day_name()\n",
        "df_week_sales=df.loc[:,('Day','Total')]\n",
        "dfw=df_week_sales.groupby('Day')['Total'].sum()\n",
        "\n",
        "x=list(dfw.index)\n",
        "y=list(dfw.values)\n",
        "plt.figure(figsize=(10,5))\n",
        "plt.title('Total sales across days of week')\n",
        "plt.xlabel('Day of the week')\n",
        "plt.ylabel('Total sales')\n",
        "plt.bar(x,y)\n",
        "\n",
        "\n"
      ],
      "metadata": {
        "colab": {
          "base_uri": "https://localhost:8080/",
          "height": 367
        },
        "id": "2RVwKHY2HFlF",
        "outputId": "44da1505-3e03-422b-982c-f289bb2db6f4"
      },
      "execution_count": null,
      "outputs": [
        {
          "output_type": "execute_result",
          "data": {
            "text/plain": [
              "<BarContainer object of 7 artists>"
            ]
          },
          "metadata": {},
          "execution_count": 47
        },
        {
          "output_type": "display_data",
          "data": {
            "text/plain": [
              "<Figure size 720x360 with 1 Axes>"
            ],
            "image/png": "[encoded data removed]"
          },
          "metadata": {
            "needs_background": "light"
          }
        }
      ]
    },
    {
      "cell_type": "markdown",
      "source": [
        "**8.Which hour of the day is busiest?**\n",
        "\n",
        "below bar graph shows  time in hours in a day vs number of transactions happened in a given hour.\n",
        "clearly, the 19:00 hour in the day is busiest."
      ],
      "metadata": {
        "id": "o-D9NuypSPkq"
      }
    },
    {
      "cell_type": "code",
      "source": [
        "\n",
        "df_time=df.groupby('Time_hrs')['Time_hrs'].count()\n",
        "x=list(df_time.index)\n",
        "y=list(df_time.values)\n",
        "plt.bar(x,y)\n"
      ],
      "metadata": {
        "colab": {
          "base_uri": "https://localhost:8080/",
          "height": 283
        },
        "id": "NrsDiRygS59A",
        "outputId": "078c7b73-6a16-436d-b2ad-f2099de3572b"
      },
      "execution_count": null,
      "outputs": [
        {
          "output_type": "execute_result",
          "data": {
            "text/plain": [
              "<BarContainer object of 11 artists>"
            ]
          },
          "metadata": {},
          "execution_count": 70
        },
        {
          "output_type": "display_data",
          "data": {
            "text/plain": [
              "<Figure size 432x288 with 1 Axes>"
            ],
            "image/png": "[encoded data removed]"
          },
          "metadata": {
            "needs_background": "light"
          }
        }
      ]
    },
    {
      "cell_type": "markdown",
      "source": [
        "**9. Which product line should your supermarket focus on?**\n",
        "\n",
        "\n",
        "Refering to the below graph, we can infer that, Company should focus on PD1 since the total units sold are comparitively lesser."
      ],
      "metadata": {
        "id": "5AcYmTAEfYOU"
      }
    },
    {
      "cell_type": "code",
      "source": [
        "df_focus=df.groupby('Product code')['Quantity'].sum()\n",
        "\n",
        "x=(df_focus.index)\n",
        "y=(df_focus.values)\n",
        "plt.title('Quantity of products sold in 3 months')\n",
        "plt.xlabel('products')\n",
        "plt.ylabel('No. of products sold')\n",
        "plt.bar(x,y, color=['g','b','m'])\n"
      ],
      "metadata": {
        "colab": {
          "base_uri": "https://localhost:8080/",
          "height": 313
        },
        "id": "CEmlmamHffod",
        "outputId": "19ebda75-9802-4e10-e970-b8e7c637aa2c"
      },
      "execution_count": null,
      "outputs": [
        {
          "output_type": "execute_result",
          "data": {
            "text/plain": [
              "<BarContainer object of 6 artists>"
            ]
          },
          "metadata": {},
          "execution_count": 84
        },
        {
          "output_type": "display_data",
          "data": {
            "text/plain": [
              "<Figure size 432x288 with 1 Axes>"
            ],
            "image/png": "[encoded data removed]"
          },
          "metadata": {
            "needs_background": "light"
          }
        }
      ]
    },
    {
      "cell_type": "markdown",
      "source": [
        "**10. Which city should be chosen for expansion and what products should be focussed on?**"
      ],
      "metadata": {
        "id": "H3DI2Onmjvyz"
      }
    },
    {
      "cell_type": "code",
      "source": [
        "df.loc[:,('Branch','Product code','gross income')]\n",
        "city1=df.groupby('Branch')['gross income'].sum()\n",
        "x=(city1.index)\n",
        "y=(city1.values)\n",
        "plt.bar(x,y)"
      ],
      "metadata": {
        "colab": {
          "base_uri": "https://localhost:8080/",
          "height": 283
        },
        "id": "Av7KX4-ElLI3",
        "outputId": "2257694c-5a89-413b-fa54-e18b553baba7"
      },
      "execution_count": null,
      "outputs": [
        {
          "output_type": "execute_result",
          "data": {
            "text/plain": [
              "<BarContainer object of 3 artists>"
            ]
          },
          "metadata": {},
          "execution_count": 99
        },
        {
          "output_type": "display_data",
          "data": {
            "text/plain": [
              "<Figure size 432x288 with 1 Axes>"
            ],
            "image/png": "[encoded data removed]"
          },
          "metadata": {
            "needs_background": "light"
          }
        }
      ]
    },
    {
      "cell_type": "markdown",
      "source": [
        "From the above graph, we can see that Branch C which is located in city3 is making good profit. Hence, company can consider city3 as expansion city."
      ],
      "metadata": {
        "id": "wT8D8Tapr5WW"
      }
    },
    {
      "cell_type": "code",
      "source": [
        "df5=df[df['Branch']=='C']\n",
        "product_c= df5['Product code'].value_counts()\n",
        "x=(product_c.index)\n",
        "y=(product_c.values)\n",
        "plt.bar(x,y)"
      ],
      "metadata": {
        "colab": {
          "base_uri": "https://localhost:8080/",
          "height": 283
        },
        "id": "gATwHcnrsLRx",
        "outputId": "5b8ac1ad-bfe9-42e0-f88e-428a870c5d86"
      },
      "execution_count": null,
      "outputs": [
        {
          "output_type": "execute_result",
          "data": {
            "text/plain": [
              "<BarContainer object of 6 artists>"
            ]
          },
          "metadata": {},
          "execution_count": 109
        },
        {
          "output_type": "display_data",
          "data": {
            "text/plain": [
              "<Figure size 432x288 with 1 Axes>"
            ],
            "image/png": "[encoded data removed]"
          },
          "metadata": {
            "needs_background": "light"
          }
        }
      ]
    },
    {
      "cell_type": "markdown",
      "source": [
        "the above graph shows the count of products sold in brach C. \n",
        "Product PD5 is sold highest. So we can infer that, In City3, Product PD5 can be concentrated well since this product has highest potential to gain more profits."
      ],
      "metadata": {
        "id": "QkZo_ByU6pHU"
      }
    }
  ]
}