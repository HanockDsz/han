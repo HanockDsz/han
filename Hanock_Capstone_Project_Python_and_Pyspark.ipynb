{
  "nbformat": 4,
  "nbformat_minor": 0,
  "metadata": {
    "colab": {
      "name": "Hanock-Capstone Project- Python and Pyspark.ipynb",
      "provenance": [],
      "collapsed_sections": []
    },
    "kernelspec": {
      "name": "python3",
      "display_name": "Python 3"
    },
    "language_info": {
      "name": "python"
    }
  },
  "cells": [
    {
      "cell_type": "markdown",
      "source": [
        "# **PYTHON AND DS**"
      ],
      "metadata": {
        "id": "vgxQtm6t3x_1"
      }
    },
    {
      "cell_type": "markdown",
      "source": [
        "we have a Olymipic dataset where we have records pertaining to different athletes, their country which they are representing, year of participation, their age during the participation year, sports in which they are participation and the number of medals won in that year.\n",
        "\n",
        "The data consists for the years 7 years of olympics that is 2000,2002,2004,2006,2008,2010,2012.\n",
        "\n",
        "we need to analyse the data and give meaningful solutions for the below probelm statements:\n",
        "1. Please do the basic exploration of the data. Remember the dataset contains information from different years. So whatever steps you perform should make logical sense.\n",
        "2. Deal with missing values appropriately. You can either remove them or fill them, but a proper justification is required.\n",
        "3. Duplicates in the dataset introduces bias in the study. Please check and perform appropriate steps.\n",
        "4. Please remove special characters from the name column.\n",
        "5. Perform data visualization techniques to appropriate columns and explain them.  \n",
        "6. Please check if the age dataset is skewed or symmetric. Based on the results perform the transformation.\n",
        "7. Please perform appropriate numerical measures on each column and report them accordingly.\n",
        "8. Please list the top 10 countries with the gold medal, then the top10 countries with the silver medal, then the bronze medal and the total medal.\n",
        "\n",
        "we are going to use pandas, numpy libraries for sloving the queires and seaborn and pyplot for visualization."
      ],
      "metadata": {
        "id": "b34o8hr5zQTh"
      }
    },
    {
      "cell_type": "markdown",
      "source": [
        "let us import the required libraries for solving the scenario"
      ],
      "metadata": {
        "id": "AmpT3FT502rj"
      }
    },
    {
      "cell_type": "code",
      "execution_count": 2,
      "metadata": {
        "id": "kkA7K71Jwa_-"
      },
      "outputs": [],
      "source": [
        "import pandas as pd\n",
        "import numpy as np"
      ]
    },
    {
      "cell_type": "markdown",
      "source": [
        "we need to import the dataset to colab. the file is in csv format. Hence we need to import as csv"
      ],
      "metadata": {
        "id": "RpWu0JvgCD3K"
      }
    },
    {
      "cell_type": "code",
      "source": [
        "df=pd.read_csv('olympix_data_organized_with_header.csv') #importing and assgining the csv file to dataframe df"
      ],
      "metadata": {
        "id": "guo3lAjVwnV0"
      },
      "execution_count": 3,
      "outputs": []
    },
    {
      "cell_type": "code",
      "source": [
        "df #displaying dataframe"
      ],
      "metadata": {
        "colab": {
          "base_uri": "https://localhost:8080/",
          "height": 424
        },
        "id": "-AM_OImJw-OU",
        "outputId": "1eb03c0b-67b5-4b26-9d5d-cd04aa6e2a38"
      },
      "execution_count": null,
      "outputs": [
        {
          "output_type": "execute_result",
          "data": {
            "text/plain": [
              "                      name   age        country  year  Date_Given      sports  \\\n",
              "0           Michael Phelps  23.0  United States  2008   8/24/2008    Swimming   \n",
              "1           Michael Phelps  19.0  United States  2004   8/29/2004    Swimming   \n",
              "2           Michael Phelps  27.0  United States  2012  08-12-2012    Swimming   \n",
              "3         Natalie Coughlin  25.0  United States  2008   8/24/2008    Swimming   \n",
              "4            Aleksey Nemov  24.0         Russia  2000  10-01-2000  Gymnastics   \n",
              "...                    ...   ...            ...   ...         ...         ...   \n",
              "8613      Olena Sadovnycha  32.0        Ukraine  2000  10-01-2000     Archery   \n",
              "8614      Kateryna Serdiuk  17.0        Ukraine  2000  10-01-2000     Archery   \n",
              "8615      Wietse van Alten  21.0    Netherlands  2000  10-01-2000     Archery   \n",
              "8616  Sandra Wagner-Sachse  31.0        Germany  2000  10-01-2000     Archery   \n",
              "8617             Rod White  23.0  United States  2000  10-01-2000     Archery   \n",
              "\n",
              "      gold_medal  silver_medal  brone_medal  total_medal  \n",
              "0              8             0            0            8  \n",
              "1              6             0            2            8  \n",
              "2              4             2            0            6  \n",
              "3              1             2            3            6  \n",
              "4              2             1            3            6  \n",
              "...          ...           ...          ...          ...  \n",
              "8613           0             1            0            1  \n",
              "8614           0             1            0            1  \n",
              "8615           0             0            1            1  \n",
              "8616           0             0            1            1  \n",
              "8617           0             0            1            1  \n",
              "\n",
              "[8618 rows x 10 columns]"
            ],
            "text/html": [
              "\n",
              "  <div id=\"df-fe06392a-365f-4389-826d-a19d34078d3a\">\n",
              "    <div class=\"colab-df-container\">\n",
              "      <div>\n",
              "<style scoped>\n",
              "    .dataframe tbody tr th:only-of-type {\n",
              "        vertical-align: middle;\n",
              "    }\n",
              "\n",
              "    .dataframe tbody tr th {\n",
              "        vertical-align: top;\n",
              "    }\n",
              "\n",
              "    .dataframe thead th {\n",
              "        text-align: right;\n",
              "    }\n",
              "</style>\n",
              "<table border=\"1\" class=\"dataframe\">\n",
              "  <thead>\n",
              "    <tr style=\"text-align: right;\">\n",
              "      <th></th>\n",
              "      <th>name</th>\n",
              "      <th>age</th>\n",
              "      <th>country</th>\n",
              "      <th>year</th>\n",
              "      <th>Date_Given</th>\n",
              "      <th>sports</th>\n",
              "      <th>gold_medal</th>\n",
              "      <th>silver_medal</th>\n",
              "      <th>brone_medal</th>\n",
              "      <th>total_medal</th>\n",
              "    </tr>\n",
              "  </thead>\n",
              "  <tbody>\n",
              "    <tr>\n",
              "      <th>0</th>\n",
              "      <td>Michael Phelps</td>\n",
              "      <td>23.0</td>\n",
              "      <td>United States</td>\n",
              "      <td>2008</td>\n",
              "      <td>8/24/2008</td>\n",
              "      <td>Swimming</td>\n",
              "      <td>8</td>\n",
              "      <td>0</td>\n",
              "      <td>0</td>\n",
              "      <td>8</td>\n",
              "    </tr>\n",
              "    <tr>\n",
              "      <th>1</th>\n",
              "      <td>Michael Phelps</td>\n",
              "      <td>19.0</td>\n",
              "      <td>United States</td>\n",
              "      <td>2004</td>\n",
              "      <td>8/29/2004</td>\n",
              "      <td>Swimming</td>\n",
              "      <td>6</td>\n",
              "      <td>0</td>\n",
              "      <td>2</td>\n",
              "      <td>8</td>\n",
              "    </tr>\n",
              "    <tr>\n",
              "      <th>2</th>\n",
              "      <td>Michael Phelps</td>\n",
              "      <td>27.0</td>\n",
              "      <td>United States</td>\n",
              "      <td>2012</td>\n",
              "      <td>08-12-2012</td>\n",
              "      <td>Swimming</td>\n",
              "      <td>4</td>\n",
              "      <td>2</td>\n",
              "      <td>0</td>\n",
              "      <td>6</td>\n",
              "    </tr>\n",
              "    <tr>\n",
              "      <th>3</th>\n",
              "      <td>Natalie Coughlin</td>\n",
              "      <td>25.0</td>\n",
              "      <td>United States</td>\n",
              "      <td>2008</td>\n",
              "      <td>8/24/2008</td>\n",
              "      <td>Swimming</td>\n",
              "      <td>1</td>\n",
              "      <td>2</td>\n",
              "      <td>3</td>\n",
              "      <td>6</td>\n",
              "    </tr>\n",
              "    <tr>\n",
              "      <th>4</th>\n",
              "      <td>Aleksey Nemov</td>\n",
              "      <td>24.0</td>\n",
              "      <td>Russia</td>\n",
              "      <td>2000</td>\n",
              "      <td>10-01-2000</td>\n",
              "      <td>Gymnastics</td>\n",
              "      <td>2</td>\n",
              "      <td>1</td>\n",
              "      <td>3</td>\n",
              "      <td>6</td>\n",
              "    </tr>\n",
              "    <tr>\n",
              "      <th>...</th>\n",
              "      <td>...</td>\n",
              "      <td>...</td>\n",
              "      <td>...</td>\n",
              "      <td>...</td>\n",
              "      <td>...</td>\n",
              "      <td>...</td>\n",
              "      <td>...</td>\n",
              "      <td>...</td>\n",
              "      <td>...</td>\n",
              "      <td>...</td>\n",
              "    </tr>\n",
              "    <tr>\n",
              "      <th>8613</th>\n",
              "      <td>Olena Sadovnycha</td>\n",
              "      <td>32.0</td>\n",
              "      <td>Ukraine</td>\n",
              "      <td>2000</td>\n",
              "      <td>10-01-2000</td>\n",
              "      <td>Archery</td>\n",
              "      <td>0</td>\n",
              "      <td>1</td>\n",
              "      <td>0</td>\n",
              "      <td>1</td>\n",
              "    </tr>\n",
              "    <tr>\n",
              "      <th>8614</th>\n",
              "      <td>Kateryna Serdiuk</td>\n",
              "      <td>17.0</td>\n",
              "      <td>Ukraine</td>\n",
              "      <td>2000</td>\n",
              "      <td>10-01-2000</td>\n",
              "      <td>Archery</td>\n",
              "      <td>0</td>\n",
              "      <td>1</td>\n",
              "      <td>0</td>\n",
              "      <td>1</td>\n",
              "    </tr>\n",
              "    <tr>\n",
              "      <th>8615</th>\n",
              "      <td>Wietse van Alten</td>\n",
              "      <td>21.0</td>\n",
              "      <td>Netherlands</td>\n",
              "      <td>2000</td>\n",
              "      <td>10-01-2000</td>\n",
              "      <td>Archery</td>\n",
              "      <td>0</td>\n",
              "      <td>0</td>\n",
              "      <td>1</td>\n",
              "      <td>1</td>\n",
              "    </tr>\n",
              "    <tr>\n",
              "      <th>8616</th>\n",
              "      <td>Sandra Wagner-Sachse</td>\n",
              "      <td>31.0</td>\n",
              "      <td>Germany</td>\n",
              "      <td>2000</td>\n",
              "      <td>10-01-2000</td>\n",
              "      <td>Archery</td>\n",
              "      <td>0</td>\n",
              "      <td>0</td>\n",
              "      <td>1</td>\n",
              "      <td>1</td>\n",
              "    </tr>\n",
              "    <tr>\n",
              "      <th>8617</th>\n",
              "      <td>Rod White</td>\n",
              "      <td>23.0</td>\n",
              "      <td>United States</td>\n",
              "      <td>2000</td>\n",
              "      <td>10-01-2000</td>\n",
              "      <td>Archery</td>\n",
              "      <td>0</td>\n",
              "      <td>0</td>\n",
              "      <td>1</td>\n",
              "      <td>1</td>\n",
              "    </tr>\n",
              "  </tbody>\n",
              "</table>\n",
              "<p>8618 rows × 10 columns</p>\n",
              "</div>\n",
              "      <button class=\"colab-df-convert\" onclick=\"convertToInteractive('df-fe06392a-365f-4389-826d-a19d34078d3a')\"\n",
              "              title=\"Convert this dataframe to an interactive table.\"\n",
              "              style=\"display:none;\">\n",
              "        \n",
              "  <svg xmlns=\"http://www.w3.org/2000/svg\" height=\"24px\"viewBox=\"0 0 24 24\"\n",
              "       width=\"24px\">\n",
              "    <path d=\"M0 0h24v24H0V0z\" fill=\"none\"/>\n",
              "    <path d=\"M18.56 5.44l.94 2.06.94-2.06 2.06-.94-2.06-.94-.94-2.06-.94 2.06-2.06.94zm-11 1L8.5 8.5l.94-2.06 2.06-.94-2.06-.94L8.5 2.5l-.94 2.06-2.06.94zm10 10l.94 2.06.94-2.06 2.06-.94-2.06-.94-.94-2.06-.94 2.06-2.06.94z\"/><path d=\"M17.41 7.96l-1.37-1.37c-.4-.4-.92-.59-1.43-.59-.52 0-1.04.2-1.43.59L10.3 9.45l-7.72 7.72c-.78.78-.78 2.05 0 2.83L4 21.41c.39.39.9.59 1.41.59.51 0 1.02-.2 1.41-.59l7.78-7.78 2.81-2.81c.8-.78.8-2.07 0-2.86zM5.41 20L4 18.59l7.72-7.72 1.47 1.35L5.41 20z\"/>\n",
              "  </svg>\n",
              "      </button>\n",
              "      \n",
              "  <style>\n",
              "    .colab-df-container {\n",
              "      display:flex;\n",
              "      flex-wrap:wrap;\n",
              "      gap: 12px;\n",
              "    }\n",
              "\n",
              "    .colab-df-convert {\n",
              "      background-color: #E8F0FE;\n",
              "      border: none;\n",
              "      border-radius: 50%;\n",
              "      cursor: pointer;\n",
              "      display: none;\n",
              "      fill: #1967D2;\n",
              "      height: 32px;\n",
              "      padding: 0 0 0 0;\n",
              "      width: 32px;\n",
              "    }\n",
              "\n",
              "    .colab-df-convert:hover {\n",
              "      background-color: #E2EBFA;\n",
              "      box-shadow: 0px 1px 2px rgba(60, 64, 67, 0.3), 0px 1px 3px 1px rgba(60, 64, 67, 0.15);\n",
              "      fill: #174EA6;\n",
              "    }\n",
              "\n",
              "    [theme=dark] .colab-df-convert {\n",
              "      background-color: #3B4455;\n",
              "      fill: #D2E3FC;\n",
              "    }\n",
              "\n",
              "    [theme=dark] .colab-df-convert:hover {\n",
              "      background-color: #434B5C;\n",
              "      box-shadow: 0px 1px 3px 1px rgba(0, 0, 0, 0.15);\n",
              "      filter: drop-shadow(0px 1px 2px rgba(0, 0, 0, 0.3));\n",
              "      fill: #FFFFFF;\n",
              "    }\n",
              "  </style>\n",
              "\n",
              "      <script>\n",
              "        const buttonEl =\n",
              "          document.querySelector('#df-fe06392a-365f-4389-826d-a19d34078d3a button.colab-df-convert');\n",
              "        buttonEl.style.display =\n",
              "          google.colab.kernel.accessAllowed ? 'block' : 'none';\n",
              "\n",
              "        async function convertToInteractive(key) {\n",
              "          const element = document.querySelector('#df-fe06392a-365f-4389-826d-a19d34078d3a');\n",
              "          const dataTable =\n",
              "            await google.colab.kernel.invokeFunction('convertToInteractive',\n",
              "                                                     [key], {});\n",
              "          if (!dataTable) return;\n",
              "\n",
              "          const docLinkHtml = 'Like what you see? Visit the ' +\n",
              "            '<a target=\"_blank\" href=https://colab.research.google.com/notebooks/data_table.ipynb>data table notebook</a>'\n",
              "            + ' to learn more about interactive tables.';\n",
              "          element.innerHTML = '';\n",
              "          dataTable['output_type'] = 'display_data';\n",
              "          await google.colab.output.renderOutput(dataTable, element);\n",
              "          const docLink = document.createElement('div');\n",
              "          docLink.innerHTML = docLinkHtml;\n",
              "          element.appendChild(docLink);\n",
              "        }\n",
              "      </script>\n",
              "    </div>\n",
              "  </div>\n",
              "  "
            ]
          },
          "metadata": {},
          "execution_count": 3
        }
      ]
    },
    {
      "cell_type": "markdown",
      "source": [
        "the datframe may consist of null values, blanks and nan values. so let us check the values."
      ],
      "metadata": {
        "id": "6EwDkearCaGl"
      }
    },
    {
      "cell_type": "code",
      "source": [
        "df.isnull().sum() "
      ],
      "metadata": {
        "colab": {
          "base_uri": "https://localhost:8080/"
        },
        "id": "8t_k8iedxJqv",
        "outputId": "c4b6fd75-2e73-420d-ff18-7ab03f4905f2"
      },
      "execution_count": null,
      "outputs": [
        {
          "output_type": "execute_result",
          "data": {
            "text/plain": [
              "name            5\n",
              "age             5\n",
              "country         0\n",
              "year            0\n",
              "Date_Given      0\n",
              "sports          0\n",
              "gold_medal      0\n",
              "silver_medal    0\n",
              "brone_medal     0\n",
              "total_medal     0\n",
              "dtype: int64"
            ]
          },
          "metadata": {},
          "execution_count": 13
        }
      ]
    },
    {
      "cell_type": "markdown",
      "source": [
        "we have 5 records where name and age are null. we can either drop the records or we can keep them since the null values are less. since the null values are pertaining to name and age, there is no need of the records, since the primary keys details are only not available."
      ],
      "metadata": {
        "id": "YHcT8KTsF4wJ"
      }
    },
    {
      "cell_type": "code",
      "source": [
        "df.replace('',np.nan) #replacing null with NaN\n",
        "df.dropna(axis=0) #droping the na values"
      ],
      "metadata": {
        "colab": {
          "base_uri": "https://localhost:8080/",
          "height": 424
        },
        "id": "0AGk6jg-EtNH",
        "outputId": "d96b4116-05dd-4f50-9390-0b31919d8365"
      },
      "execution_count": 9,
      "outputs": [
        {
          "output_type": "execute_result",
          "data": {
            "text/plain": [
              "                      name   age        country  year  Date_Given      sports  \\\n",
              "0           Michael Phelps  23.0  United States  2008   8/24/2008    Swimming   \n",
              "1           Michael Phelps  19.0  United States  2004   8/29/2004    Swimming   \n",
              "2           Michael Phelps  27.0  United States  2012  08-12-2012    Swimming   \n",
              "3         Natalie Coughlin  25.0  United States  2008   8/24/2008    Swimming   \n",
              "4            Aleksey Nemov  24.0         Russia  2000  10-01-2000  Gymnastics   \n",
              "...                    ...   ...            ...   ...         ...         ...   \n",
              "8613      Olena Sadovnycha  32.0        Ukraine  2000  10-01-2000     Archery   \n",
              "8614      Kateryna Serdiuk  17.0        Ukraine  2000  10-01-2000     Archery   \n",
              "8615      Wietse van Alten  21.0    Netherlands  2000  10-01-2000     Archery   \n",
              "8616  Sandra Wagner-Sachse  31.0        Germany  2000  10-01-2000     Archery   \n",
              "8617             Rod White  23.0  United States  2000  10-01-2000     Archery   \n",
              "\n",
              "      gold_medal  silver_medal  brone_medal  total_medal  \n",
              "0              8             0            0            8  \n",
              "1              6             0            2            8  \n",
              "2              4             2            0            6  \n",
              "3              1             2            3            6  \n",
              "4              2             1            3            6  \n",
              "...          ...           ...          ...          ...  \n",
              "8613           0             1            0            1  \n",
              "8614           0             1            0            1  \n",
              "8615           0             0            1            1  \n",
              "8616           0             0            1            1  \n",
              "8617           0             0            1            1  \n",
              "\n",
              "[8613 rows x 10 columns]"
            ],
            "text/html": [
              "\n",
              "  <div id=\"df-3ade1fb5-4841-4bdb-9093-23b6d3f06abd\">\n",
              "    <div class=\"colab-df-container\">\n",
              "      <div>\n",
              "<style scoped>\n",
              "    .dataframe tbody tr th:only-of-type {\n",
              "        vertical-align: middle;\n",
              "    }\n",
              "\n",
              "    .dataframe tbody tr th {\n",
              "        vertical-align: top;\n",
              "    }\n",
              "\n",
              "    .dataframe thead th {\n",
              "        text-align: right;\n",
              "    }\n",
              "</style>\n",
              "<table border=\"1\" class=\"dataframe\">\n",
              "  <thead>\n",
              "    <tr style=\"text-align: right;\">\n",
              "      <th></th>\n",
              "      <th>name</th>\n",
              "      <th>age</th>\n",
              "      <th>country</th>\n",
              "      <th>year</th>\n",
              "      <th>Date_Given</th>\n",
              "      <th>sports</th>\n",
              "      <th>gold_medal</th>\n",
              "      <th>silver_medal</th>\n",
              "      <th>brone_medal</th>\n",
              "      <th>total_medal</th>\n",
              "    </tr>\n",
              "  </thead>\n",
              "  <tbody>\n",
              "    <tr>\n",
              "      <th>0</th>\n",
              "      <td>Michael Phelps</td>\n",
              "      <td>23.0</td>\n",
              "      <td>United States</td>\n",
              "      <td>2008</td>\n",
              "      <td>8/24/2008</td>\n",
              "      <td>Swimming</td>\n",
              "      <td>8</td>\n",
              "      <td>0</td>\n",
              "      <td>0</td>\n",
              "      <td>8</td>\n",
              "    </tr>\n",
              "    <tr>\n",
              "      <th>1</th>\n",
              "      <td>Michael Phelps</td>\n",
              "      <td>19.0</td>\n",
              "      <td>United States</td>\n",
              "      <td>2004</td>\n",
              "      <td>8/29/2004</td>\n",
              "      <td>Swimming</td>\n",
              "      <td>6</td>\n",
              "      <td>0</td>\n",
              "      <td>2</td>\n",
              "      <td>8</td>\n",
              "    </tr>\n",
              "    <tr>\n",
              "      <th>2</th>\n",
              "      <td>Michael Phelps</td>\n",
              "      <td>27.0</td>\n",
              "      <td>United States</td>\n",
              "      <td>2012</td>\n",
              "      <td>08-12-2012</td>\n",
              "      <td>Swimming</td>\n",
              "      <td>4</td>\n",
              "      <td>2</td>\n",
              "      <td>0</td>\n",
              "      <td>6</td>\n",
              "    </tr>\n",
              "    <tr>\n",
              "      <th>3</th>\n",
              "      <td>Natalie Coughlin</td>\n",
              "      <td>25.0</td>\n",
              "      <td>United States</td>\n",
              "      <td>2008</td>\n",
              "      <td>8/24/2008</td>\n",
              "      <td>Swimming</td>\n",
              "      <td>1</td>\n",
              "      <td>2</td>\n",
              "      <td>3</td>\n",
              "      <td>6</td>\n",
              "    </tr>\n",
              "    <tr>\n",
              "      <th>4</th>\n",
              "      <td>Aleksey Nemov</td>\n",
              "      <td>24.0</td>\n",
              "      <td>Russia</td>\n",
              "      <td>2000</td>\n",
              "      <td>10-01-2000</td>\n",
              "      <td>Gymnastics</td>\n",
              "      <td>2</td>\n",
              "      <td>1</td>\n",
              "      <td>3</td>\n",
              "      <td>6</td>\n",
              "    </tr>\n",
              "    <tr>\n",
              "      <th>...</th>\n",
              "      <td>...</td>\n",
              "      <td>...</td>\n",
              "      <td>...</td>\n",
              "      <td>...</td>\n",
              "      <td>...</td>\n",
              "      <td>...</td>\n",
              "      <td>...</td>\n",
              "      <td>...</td>\n",
              "      <td>...</td>\n",
              "      <td>...</td>\n",
              "    </tr>\n",
              "    <tr>\n",
              "      <th>8613</th>\n",
              "      <td>Olena Sadovnycha</td>\n",
              "      <td>32.0</td>\n",
              "      <td>Ukraine</td>\n",
              "      <td>2000</td>\n",
              "      <td>10-01-2000</td>\n",
              "      <td>Archery</td>\n",
              "      <td>0</td>\n",
              "      <td>1</td>\n",
              "      <td>0</td>\n",
              "      <td>1</td>\n",
              "    </tr>\n",
              "    <tr>\n",
              "      <th>8614</th>\n",
              "      <td>Kateryna Serdiuk</td>\n",
              "      <td>17.0</td>\n",
              "      <td>Ukraine</td>\n",
              "      <td>2000</td>\n",
              "      <td>10-01-2000</td>\n",
              "      <td>Archery</td>\n",
              "      <td>0</td>\n",
              "      <td>1</td>\n",
              "      <td>0</td>\n",
              "      <td>1</td>\n",
              "    </tr>\n",
              "    <tr>\n",
              "      <th>8615</th>\n",
              "      <td>Wietse van Alten</td>\n",
              "      <td>21.0</td>\n",
              "      <td>Netherlands</td>\n",
              "      <td>2000</td>\n",
              "      <td>10-01-2000</td>\n",
              "      <td>Archery</td>\n",
              "      <td>0</td>\n",
              "      <td>0</td>\n",
              "      <td>1</td>\n",
              "      <td>1</td>\n",
              "    </tr>\n",
              "    <tr>\n",
              "      <th>8616</th>\n",
              "      <td>Sandra Wagner-Sachse</td>\n",
              "      <td>31.0</td>\n",
              "      <td>Germany</td>\n",
              "      <td>2000</td>\n",
              "      <td>10-01-2000</td>\n",
              "      <td>Archery</td>\n",
              "      <td>0</td>\n",
              "      <td>0</td>\n",
              "      <td>1</td>\n",
              "      <td>1</td>\n",
              "    </tr>\n",
              "    <tr>\n",
              "      <th>8617</th>\n",
              "      <td>Rod White</td>\n",
              "      <td>23.0</td>\n",
              "      <td>United States</td>\n",
              "      <td>2000</td>\n",
              "      <td>10-01-2000</td>\n",
              "      <td>Archery</td>\n",
              "      <td>0</td>\n",
              "      <td>0</td>\n",
              "      <td>1</td>\n",
              "      <td>1</td>\n",
              "    </tr>\n",
              "  </tbody>\n",
              "</table>\n",
              "<p>8613 rows × 10 columns</p>\n",
              "</div>\n",
              "      <button class=\"colab-df-convert\" onclick=\"convertToInteractive('df-3ade1fb5-4841-4bdb-9093-23b6d3f06abd')\"\n",
              "              title=\"Convert this dataframe to an interactive table.\"\n",
              "              style=\"display:none;\">\n",
              "        \n",
              "  <svg xmlns=\"http://www.w3.org/2000/svg\" height=\"24px\"viewBox=\"0 0 24 24\"\n",
              "       width=\"24px\">\n",
              "    <path d=\"M0 0h24v24H0V0z\" fill=\"none\"/>\n",
              "    <path d=\"M18.56 5.44l.94 2.06.94-2.06 2.06-.94-2.06-.94-.94-2.06-.94 2.06-2.06.94zm-11 1L8.5 8.5l.94-2.06 2.06-.94-2.06-.94L8.5 2.5l-.94 2.06-2.06.94zm10 10l.94 2.06.94-2.06 2.06-.94-2.06-.94-.94-2.06-.94 2.06-2.06.94z\"/><path d=\"M17.41 7.96l-1.37-1.37c-.4-.4-.92-.59-1.43-.59-.52 0-1.04.2-1.43.59L10.3 9.45l-7.72 7.72c-.78.78-.78 2.05 0 2.83L4 21.41c.39.39.9.59 1.41.59.51 0 1.02-.2 1.41-.59l7.78-7.78 2.81-2.81c.8-.78.8-2.07 0-2.86zM5.41 20L4 18.59l7.72-7.72 1.47 1.35L5.41 20z\"/>\n",
              "  </svg>\n",
              "      </button>\n",
              "      \n",
              "  <style>\n",
              "    .colab-df-container {\n",
              "      display:flex;\n",
              "      flex-wrap:wrap;\n",
              "      gap: 12px;\n",
              "    }\n",
              "\n",
              "    .colab-df-convert {\n",
              "      background-color: #E8F0FE;\n",
              "      border: none;\n",
              "      border-radius: 50%;\n",
              "      cursor: pointer;\n",
              "      display: none;\n",
              "      fill: #1967D2;\n",
              "      height: 32px;\n",
              "      padding: 0 0 0 0;\n",
              "      width: 32px;\n",
              "    }\n",
              "\n",
              "    .colab-df-convert:hover {\n",
              "      background-color: #E2EBFA;\n",
              "      box-shadow: 0px 1px 2px rgba(60, 64, 67, 0.3), 0px 1px 3px 1px rgba(60, 64, 67, 0.15);\n",
              "      fill: #174EA6;\n",
              "    }\n",
              "\n",
              "    [theme=dark] .colab-df-convert {\n",
              "      background-color: #3B4455;\n",
              "      fill: #D2E3FC;\n",
              "    }\n",
              "\n",
              "    [theme=dark] .colab-df-convert:hover {\n",
              "      background-color: #434B5C;\n",
              "      box-shadow: 0px 1px 3px 1px rgba(0, 0, 0, 0.15);\n",
              "      filter: drop-shadow(0px 1px 2px rgba(0, 0, 0, 0.3));\n",
              "      fill: #FFFFFF;\n",
              "    }\n",
              "  </style>\n",
              "\n",
              "      <script>\n",
              "        const buttonEl =\n",
              "          document.querySelector('#df-3ade1fb5-4841-4bdb-9093-23b6d3f06abd button.colab-df-convert');\n",
              "        buttonEl.style.display =\n",
              "          google.colab.kernel.accessAllowed ? 'block' : 'none';\n",
              "\n",
              "        async function convertToInteractive(key) {\n",
              "          const element = document.querySelector('#df-3ade1fb5-4841-4bdb-9093-23b6d3f06abd');\n",
              "          const dataTable =\n",
              "            await google.colab.kernel.invokeFunction('convertToInteractive',\n",
              "                                                     [key], {});\n",
              "          if (!dataTable) return;\n",
              "\n",
              "          const docLinkHtml = 'Like what you see? Visit the ' +\n",
              "            '<a target=\"_blank\" href=https://colab.research.google.com/notebooks/data_table.ipynb>data table notebook</a>'\n",
              "            + ' to learn more about interactive tables.';\n",
              "          element.innerHTML = '';\n",
              "          dataTable['output_type'] = 'display_data';\n",
              "          await google.colab.output.renderOutput(dataTable, element);\n",
              "          const docLink = document.createElement('div');\n",
              "          docLink.innerHTML = docLinkHtml;\n",
              "          element.appendChild(docLink);\n",
              "        }\n",
              "      </script>\n",
              "    </div>\n",
              "  </div>\n",
              "  "
            ]
          },
          "metadata": {},
          "execution_count": 9
        }
      ]
    },
    {
      "cell_type": "markdown",
      "source": [
        "after droping na values, we are left out with 8613 rows. which means, 5 records are droped"
      ],
      "metadata": {
        "id": "qME4ds_sFkOq"
      }
    },
    {
      "cell_type": "markdown",
      "source": [
        "let us see the data types of all the columns as below"
      ],
      "metadata": {
        "id": "hHi-zXIBGv2U"
      }
    },
    {
      "cell_type": "code",
      "source": [
        "df.info()"
      ],
      "metadata": {
        "colab": {
          "base_uri": "https://localhost:8080/"
        },
        "id": "cT6JWYc8xc_g",
        "outputId": "49282df6-0f45-4d4e-a113-64cdb9c3c5d6"
      },
      "execution_count": 10,
      "outputs": [
        {
          "output_type": "stream",
          "name": "stdout",
          "text": [
            "<class 'pandas.core.frame.DataFrame'>\n",
            "RangeIndex: 8618 entries, 0 to 8617\n",
            "Data columns (total 10 columns):\n",
            " #   Column        Non-Null Count  Dtype  \n",
            "---  ------        --------------  -----  \n",
            " 0   name          8613 non-null   object \n",
            " 1   age           8613 non-null   float64\n",
            " 2   country       8618 non-null   object \n",
            " 3   year          8618 non-null   int64  \n",
            " 4   Date_Given    8618 non-null   object \n",
            " 5   sports        8618 non-null   object \n",
            " 6   gold_medal    8618 non-null   int64  \n",
            " 7   silver_medal  8618 non-null   int64  \n",
            " 8   brone_medal   8618 non-null   int64  \n",
            " 9   total_medal   8618 non-null   int64  \n",
            "dtypes: float64(1), int64(5), object(4)\n",
            "memory usage: 673.4+ KB\n"
          ]
        }
      ]
    },
    {
      "cell_type": "markdown",
      "source": [
        "from the above output, we can see that, date_given column has dates which are in string type. so let us convert it into date time format so that it will be helpful for us in further interpretations."
      ],
      "metadata": {
        "id": "5DWAnXexG2Nm"
      }
    },
    {
      "cell_type": "code",
      "source": [
        "# importing library datetime\n",
        "import datetime"
      ],
      "metadata": {
        "id": "jmrz0Zyw0jGe"
      },
      "execution_count": null,
      "outputs": []
    },
    {
      "cell_type": "code",
      "source": [
        "df['Date_Given']=pd.to_datetime(df['Date_Given']) #converting the date_given column to datetime format"
      ],
      "metadata": {
        "id": "TGEZlBmB0nMV"
      },
      "execution_count": null,
      "outputs": []
    },
    {
      "cell_type": "markdown",
      "source": [
        "in below output, we can see that the column is converted to right format. rest all columns seems to be in right format so there is no need to have any further changes."
      ],
      "metadata": {
        "id": "ml5NnQm1HaLG"
      }
    },
    {
      "cell_type": "code",
      "source": [
        "df.info()"
      ],
      "metadata": {
        "colab": {
          "base_uri": "https://localhost:8080/"
        },
        "id": "vGmEEly81IMW",
        "outputId": "ffce69da-55a8-43d7-f274-f5c731052f77"
      },
      "execution_count": null,
      "outputs": [
        {
          "output_type": "stream",
          "name": "stdout",
          "text": [
            "<class 'pandas.core.frame.DataFrame'>\n",
            "RangeIndex: 8618 entries, 0 to 8617\n",
            "Data columns (total 10 columns):\n",
            " #   Column        Non-Null Count  Dtype         \n",
            "---  ------        --------------  -----         \n",
            " 0   name          8613 non-null   object        \n",
            " 1   age           8613 non-null   float64       \n",
            " 2   country       8618 non-null   object        \n",
            " 3   year          8618 non-null   int64         \n",
            " 4   Date_Given    8618 non-null   datetime64[ns]\n",
            " 5   sports        8618 non-null   object        \n",
            " 6   gold_medal    8618 non-null   int64         \n",
            " 7   silver_medal  8618 non-null   int64         \n",
            " 8   brone_medal   8618 non-null   int64         \n",
            " 9   total_medal   8618 non-null   int64         \n",
            "dtypes: datetime64[ns](1), float64(1), int64(5), object(3)\n",
            "memory usage: 673.4+ KB\n"
          ]
        }
      ]
    },
    {
      "cell_type": "markdown",
      "source": [
        "**Duplicates in the dataset introduces bias in the study. Please check and perform appropriate steps.**"
      ],
      "metadata": {
        "id": "DCCkTmrtHPqO"
      }
    },
    {
      "cell_type": "markdown",
      "source": [
        "The data may contain duplicate rows. so we need to see the duplicates in the table as below "
      ],
      "metadata": {
        "id": "YQHrXGBDQXdx"
      }
    },
    {
      "cell_type": "code",
      "source": [
        "df[df.duplicated()]"
      ],
      "metadata": {
        "colab": {
          "base_uri": "https://localhost:8080/",
          "height": 143
        },
        "id": "1S4OMgAXP1Dj",
        "outputId": "e7a9fb2f-cc17-47f2-b64d-713ced8508d0"
      },
      "execution_count": 5,
      "outputs": [
        {
          "output_type": "execute_result",
          "data": {
            "text/plain": [
              "     name  age    country  year  Date_Given      sports  gold_medal  \\\n",
              "1429  NaN  NaN     Brazil  2012  08-12-2012  Volleyball           0   \n",
              "1430  NaN  NaN     Brazil  2012  08-12-2012  Volleyball           0   \n",
              "4486  NaN  NaN  Argentina  2012  08-12-2012      Hockey           0   \n",
              "\n",
              "      silver_medal  brone_medal  total_medal  \n",
              "1429             1            0            1  \n",
              "1430             1            0            1  \n",
              "4486             1            0            1  "
            ],
            "text/html": [
              "\n",
              "  <div id=\"df-ebad5436-e148-4186-a8a2-5abbbbd2671c\">\n",
              "    <div class=\"colab-df-container\">\n",
              "      <div>\n",
              "<style scoped>\n",
              "    .dataframe tbody tr th:only-of-type {\n",
              "        vertical-align: middle;\n",
              "    }\n",
              "\n",
              "    .dataframe tbody tr th {\n",
              "        vertical-align: top;\n",
              "    }\n",
              "\n",
              "    .dataframe thead th {\n",
              "        text-align: right;\n",
              "    }\n",
              "</style>\n",
              "<table border=\"1\" class=\"dataframe\">\n",
              "  <thead>\n",
              "    <tr style=\"text-align: right;\">\n",
              "      <th></th>\n",
              "      <th>name</th>\n",
              "      <th>age</th>\n",
              "      <th>country</th>\n",
              "      <th>year</th>\n",
              "      <th>Date_Given</th>\n",
              "      <th>sports</th>\n",
              "      <th>gold_medal</th>\n",
              "      <th>silver_medal</th>\n",
              "      <th>brone_medal</th>\n",
              "      <th>total_medal</th>\n",
              "    </tr>\n",
              "  </thead>\n",
              "  <tbody>\n",
              "    <tr>\n",
              "      <th>1429</th>\n",
              "      <td>NaN</td>\n",
              "      <td>NaN</td>\n",
              "      <td>Brazil</td>\n",
              "      <td>2012</td>\n",
              "      <td>08-12-2012</td>\n",
              "      <td>Volleyball</td>\n",
              "      <td>0</td>\n",
              "      <td>1</td>\n",
              "      <td>0</td>\n",
              "      <td>1</td>\n",
              "    </tr>\n",
              "    <tr>\n",
              "      <th>1430</th>\n",
              "      <td>NaN</td>\n",
              "      <td>NaN</td>\n",
              "      <td>Brazil</td>\n",
              "      <td>2012</td>\n",
              "      <td>08-12-2012</td>\n",
              "      <td>Volleyball</td>\n",
              "      <td>0</td>\n",
              "      <td>1</td>\n",
              "      <td>0</td>\n",
              "      <td>1</td>\n",
              "    </tr>\n",
              "    <tr>\n",
              "      <th>4486</th>\n",
              "      <td>NaN</td>\n",
              "      <td>NaN</td>\n",
              "      <td>Argentina</td>\n",
              "      <td>2012</td>\n",
              "      <td>08-12-2012</td>\n",
              "      <td>Hockey</td>\n",
              "      <td>0</td>\n",
              "      <td>1</td>\n",
              "      <td>0</td>\n",
              "      <td>1</td>\n",
              "    </tr>\n",
              "  </tbody>\n",
              "</table>\n",
              "</div>\n",
              "      <button class=\"colab-df-convert\" onclick=\"convertToInteractive('df-ebad5436-e148-4186-a8a2-5abbbbd2671c')\"\n",
              "              title=\"Convert this dataframe to an interactive table.\"\n",
              "              style=\"display:none;\">\n",
              "        \n",
              "  <svg xmlns=\"http://www.w3.org/2000/svg\" height=\"24px\"viewBox=\"0 0 24 24\"\n",
              "       width=\"24px\">\n",
              "    <path d=\"M0 0h24v24H0V0z\" fill=\"none\"/>\n",
              "    <path d=\"M18.56 5.44l.94 2.06.94-2.06 2.06-.94-2.06-.94-.94-2.06-.94 2.06-2.06.94zm-11 1L8.5 8.5l.94-2.06 2.06-.94-2.06-.94L8.5 2.5l-.94 2.06-2.06.94zm10 10l.94 2.06.94-2.06 2.06-.94-2.06-.94-.94-2.06-.94 2.06-2.06.94z\"/><path d=\"M17.41 7.96l-1.37-1.37c-.4-.4-.92-.59-1.43-.59-.52 0-1.04.2-1.43.59L10.3 9.45l-7.72 7.72c-.78.78-.78 2.05 0 2.83L4 21.41c.39.39.9.59 1.41.59.51 0 1.02-.2 1.41-.59l7.78-7.78 2.81-2.81c.8-.78.8-2.07 0-2.86zM5.41 20L4 18.59l7.72-7.72 1.47 1.35L5.41 20z\"/>\n",
              "  </svg>\n",
              "      </button>\n",
              "      \n",
              "  <style>\n",
              "    .colab-df-container {\n",
              "      display:flex;\n",
              "      flex-wrap:wrap;\n",
              "      gap: 12px;\n",
              "    }\n",
              "\n",
              "    .colab-df-convert {\n",
              "      background-color: #E8F0FE;\n",
              "      border: none;\n",
              "      border-radius: 50%;\n",
              "      cursor: pointer;\n",
              "      display: none;\n",
              "      fill: #1967D2;\n",
              "      height: 32px;\n",
              "      padding: 0 0 0 0;\n",
              "      width: 32px;\n",
              "    }\n",
              "\n",
              "    .colab-df-convert:hover {\n",
              "      background-color: #E2EBFA;\n",
              "      box-shadow: 0px 1px 2px rgba(60, 64, 67, 0.3), 0px 1px 3px 1px rgba(60, 64, 67, 0.15);\n",
              "      fill: #174EA6;\n",
              "    }\n",
              "\n",
              "    [theme=dark] .colab-df-convert {\n",
              "      background-color: #3B4455;\n",
              "      fill: #D2E3FC;\n",
              "    }\n",
              "\n",
              "    [theme=dark] .colab-df-convert:hover {\n",
              "      background-color: #434B5C;\n",
              "      box-shadow: 0px 1px 3px 1px rgba(0, 0, 0, 0.15);\n",
              "      filter: drop-shadow(0px 1px 2px rgba(0, 0, 0, 0.3));\n",
              "      fill: #FFFFFF;\n",
              "    }\n",
              "  </style>\n",
              "\n",
              "      <script>\n",
              "        const buttonEl =\n",
              "          document.querySelector('#df-ebad5436-e148-4186-a8a2-5abbbbd2671c button.colab-df-convert');\n",
              "        buttonEl.style.display =\n",
              "          google.colab.kernel.accessAllowed ? 'block' : 'none';\n",
              "\n",
              "        async function convertToInteractive(key) {\n",
              "          const element = document.querySelector('#df-ebad5436-e148-4186-a8a2-5abbbbd2671c');\n",
              "          const dataTable =\n",
              "            await google.colab.kernel.invokeFunction('convertToInteractive',\n",
              "                                                     [key], {});\n",
              "          if (!dataTable) return;\n",
              "\n",
              "          const docLinkHtml = 'Like what you see? Visit the ' +\n",
              "            '<a target=\"_blank\" href=https://colab.research.google.com/notebooks/data_table.ipynb>data table notebook</a>'\n",
              "            + ' to learn more about interactive tables.';\n",
              "          element.innerHTML = '';\n",
              "          dataTable['output_type'] = 'display_data';\n",
              "          await google.colab.output.renderOutput(dataTable, element);\n",
              "          const docLink = document.createElement('div');\n",
              "          docLink.innerHTML = docLinkHtml;\n",
              "          element.appendChild(docLink);\n",
              "        }\n",
              "      </script>\n",
              "    </div>\n",
              "  </div>\n",
              "  "
            ]
          },
          "metadata": {},
          "execution_count": 5
        }
      ]
    },
    {
      "cell_type": "markdown",
      "source": [
        "from the above output, only 3 records are duplicates. since the duplicate records are less, we can just ignore these instead of dropping."
      ],
      "metadata": {
        "id": "yfKzaS8rRNZ6"
      }
    },
    {
      "cell_type": "markdown",
      "source": [
        "**Please remove special characters from the name column.**"
      ],
      "metadata": {
        "id": "H6THcd4iHZmZ"
      }
    },
    {
      "cell_type": "markdown",
      "source": [
        "As per the observations in the name column, we have names which are wrongly types or there are special characters incuded which are irrelevent. so we need to remove the special character in the name column. we can remove the special characters using regular expression method."
      ],
      "metadata": {
        "id": "zhmiTQHEOOOE"
      }
    },
    {
      "cell_type": "code",
      "source": [
        "import re #importing regular expression library   "
      ],
      "metadata": {
        "id": "JOWceAK7IYfD"
      },
      "execution_count": null,
      "outputs": []
    },
    {
      "cell_type": "markdown",
      "source": [
        "we need to define a function that removes the special character from the input and return a string with alpha only. this function, we can apply to the name column in the dataframe to get the required output."
      ],
      "metadata": {
        "id": "dhC9SGrJ6Sgn"
      }
    },
    {
      "cell_type": "code",
      "source": [
        "#defining the function to remove the special character\n",
        "def remove_spl(str1):\n",
        "  pattern = r'[^A-Za-z\\s]' #re for extracting all the characters except alphabet\n",
        "  sample_str = re.sub(pattern, '', str(str1)) #substituing the special characters\n",
        "  return sample_str"
      ],
      "metadata": {
        "id": "ZDgz42PGId6s"
      },
      "execution_count": null,
      "outputs": []
    },
    {
      "cell_type": "code",
      "source": [
        "df['name']=df['name'].apply(remove_spl) #applying the function on the name column"
      ],
      "metadata": {
        "id": "p2WM_EjWMX1L"
      },
      "execution_count": null,
      "outputs": []
    },
    {
      "cell_type": "markdown",
      "source": [
        "below we got a dataframe with name without special characters"
      ],
      "metadata": {
        "id": "TMJMfe3w9s7q"
      }
    },
    {
      "cell_type": "code",
      "source": [
        "df"
      ],
      "metadata": {
        "colab": {
          "base_uri": "https://localhost:8080/",
          "height": 424
        },
        "id": "I7JE73ydNabv",
        "outputId": "302abe1e-eb2b-4e7f-a725-e8b32cf7c67e"
      },
      "execution_count": null,
      "outputs": [
        {
          "output_type": "execute_result",
          "data": {
            "text/plain": [
              "                    name   age        country  year Date_Given      sports  \\\n",
              "0          MichaelPhelps  23.0  United States  2008 2008-08-24    Swimming   \n",
              "1          MichaelPhelps  19.0  United States  2004 2004-08-29    Swimming   \n",
              "2          MichaelPhelps  27.0  United States  2012 2012-08-12    Swimming   \n",
              "3        NatalieCoughlin  25.0  United States  2008 2008-08-24    Swimming   \n",
              "4           AlekseyNemov  24.0         Russia  2000 2000-10-01  Gymnastics   \n",
              "...                  ...   ...            ...   ...        ...         ...   \n",
              "8613     OlenaSadovnycha  32.0        Ukraine  2000 2000-10-01     Archery   \n",
              "8614     KaterynaSerdiuk  17.0        Ukraine  2000 2000-10-01     Archery   \n",
              "8615      WietsevanAlten  21.0    Netherlands  2000 2000-10-01     Archery   \n",
              "8616  SandraWagnerSachse  31.0        Germany  2000 2000-10-01     Archery   \n",
              "8617            RodWhite  23.0  United States  2000 2000-10-01     Archery   \n",
              "\n",
              "      gold_medal  silver_medal  brone_medal  total_medal  \n",
              "0              8             0            0            8  \n",
              "1              6             0            2            8  \n",
              "2              4             2            0            6  \n",
              "3              1             2            3            6  \n",
              "4              2             1            3            6  \n",
              "...          ...           ...          ...          ...  \n",
              "8613           0             1            0            1  \n",
              "8614           0             1            0            1  \n",
              "8615           0             0            1            1  \n",
              "8616           0             0            1            1  \n",
              "8617           0             0            1            1  \n",
              "\n",
              "[8618 rows x 10 columns]"
            ],
            "text/html": [
              "\n",
              "  <div id=\"df-c1a4848a-368d-4a51-a4bb-6bd9b33ad86e\">\n",
              "    <div class=\"colab-df-container\">\n",
              "      <div>\n",
              "<style scoped>\n",
              "    .dataframe tbody tr th:only-of-type {\n",
              "        vertical-align: middle;\n",
              "    }\n",
              "\n",
              "    .dataframe tbody tr th {\n",
              "        vertical-align: top;\n",
              "    }\n",
              "\n",
              "    .dataframe thead th {\n",
              "        text-align: right;\n",
              "    }\n",
              "</style>\n",
              "<table border=\"1\" class=\"dataframe\">\n",
              "  <thead>\n",
              "    <tr style=\"text-align: right;\">\n",
              "      <th></th>\n",
              "      <th>name</th>\n",
              "      <th>age</th>\n",
              "      <th>country</th>\n",
              "      <th>year</th>\n",
              "      <th>Date_Given</th>\n",
              "      <th>sports</th>\n",
              "      <th>gold_medal</th>\n",
              "      <th>silver_medal</th>\n",
              "      <th>brone_medal</th>\n",
              "      <th>total_medal</th>\n",
              "    </tr>\n",
              "  </thead>\n",
              "  <tbody>\n",
              "    <tr>\n",
              "      <th>0</th>\n",
              "      <td>MichaelPhelps</td>\n",
              "      <td>23.0</td>\n",
              "      <td>United States</td>\n",
              "      <td>2008</td>\n",
              "      <td>2008-08-24</td>\n",
              "      <td>Swimming</td>\n",
              "      <td>8</td>\n",
              "      <td>0</td>\n",
              "      <td>0</td>\n",
              "      <td>8</td>\n",
              "    </tr>\n",
              "    <tr>\n",
              "      <th>1</th>\n",
              "      <td>MichaelPhelps</td>\n",
              "      <td>19.0</td>\n",
              "      <td>United States</td>\n",
              "      <td>2004</td>\n",
              "      <td>2004-08-29</td>\n",
              "      <td>Swimming</td>\n",
              "      <td>6</td>\n",
              "      <td>0</td>\n",
              "      <td>2</td>\n",
              "      <td>8</td>\n",
              "    </tr>\n",
              "    <tr>\n",
              "      <th>2</th>\n",
              "      <td>MichaelPhelps</td>\n",
              "      <td>27.0</td>\n",
              "      <td>United States</td>\n",
              "      <td>2012</td>\n",
              "      <td>2012-08-12</td>\n",
              "      <td>Swimming</td>\n",
              "      <td>4</td>\n",
              "      <td>2</td>\n",
              "      <td>0</td>\n",
              "      <td>6</td>\n",
              "    </tr>\n",
              "    <tr>\n",
              "      <th>3</th>\n",
              "      <td>NatalieCoughlin</td>\n",
              "      <td>25.0</td>\n",
              "      <td>United States</td>\n",
              "      <td>2008</td>\n",
              "      <td>2008-08-24</td>\n",
              "      <td>Swimming</td>\n",
              "      <td>1</td>\n",
              "      <td>2</td>\n",
              "      <td>3</td>\n",
              "      <td>6</td>\n",
              "    </tr>\n",
              "    <tr>\n",
              "      <th>4</th>\n",
              "      <td>AlekseyNemov</td>\n",
              "      <td>24.0</td>\n",
              "      <td>Russia</td>\n",
              "      <td>2000</td>\n",
              "      <td>2000-10-01</td>\n",
              "      <td>Gymnastics</td>\n",
              "      <td>2</td>\n",
              "      <td>1</td>\n",
              "      <td>3</td>\n",
              "      <td>6</td>\n",
              "    </tr>\n",
              "    <tr>\n",
              "      <th>...</th>\n",
              "      <td>...</td>\n",
              "      <td>...</td>\n",
              "      <td>...</td>\n",
              "      <td>...</td>\n",
              "      <td>...</td>\n",
              "      <td>...</td>\n",
              "      <td>...</td>\n",
              "      <td>...</td>\n",
              "      <td>...</td>\n",
              "      <td>...</td>\n",
              "    </tr>\n",
              "    <tr>\n",
              "      <th>8613</th>\n",
              "      <td>OlenaSadovnycha</td>\n",
              "      <td>32.0</td>\n",
              "      <td>Ukraine</td>\n",
              "      <td>2000</td>\n",
              "      <td>2000-10-01</td>\n",
              "      <td>Archery</td>\n",
              "      <td>0</td>\n",
              "      <td>1</td>\n",
              "      <td>0</td>\n",
              "      <td>1</td>\n",
              "    </tr>\n",
              "    <tr>\n",
              "      <th>8614</th>\n",
              "      <td>KaterynaSerdiuk</td>\n",
              "      <td>17.0</td>\n",
              "      <td>Ukraine</td>\n",
              "      <td>2000</td>\n",
              "      <td>2000-10-01</td>\n",
              "      <td>Archery</td>\n",
              "      <td>0</td>\n",
              "      <td>1</td>\n",
              "      <td>0</td>\n",
              "      <td>1</td>\n",
              "    </tr>\n",
              "    <tr>\n",
              "      <th>8615</th>\n",
              "      <td>WietsevanAlten</td>\n",
              "      <td>21.0</td>\n",
              "      <td>Netherlands</td>\n",
              "      <td>2000</td>\n",
              "      <td>2000-10-01</td>\n",
              "      <td>Archery</td>\n",
              "      <td>0</td>\n",
              "      <td>0</td>\n",
              "      <td>1</td>\n",
              "      <td>1</td>\n",
              "    </tr>\n",
              "    <tr>\n",
              "      <th>8616</th>\n",
              "      <td>SandraWagnerSachse</td>\n",
              "      <td>31.0</td>\n",
              "      <td>Germany</td>\n",
              "      <td>2000</td>\n",
              "      <td>2000-10-01</td>\n",
              "      <td>Archery</td>\n",
              "      <td>0</td>\n",
              "      <td>0</td>\n",
              "      <td>1</td>\n",
              "      <td>1</td>\n",
              "    </tr>\n",
              "    <tr>\n",
              "      <th>8617</th>\n",
              "      <td>RodWhite</td>\n",
              "      <td>23.0</td>\n",
              "      <td>United States</td>\n",
              "      <td>2000</td>\n",
              "      <td>2000-10-01</td>\n",
              "      <td>Archery</td>\n",
              "      <td>0</td>\n",
              "      <td>0</td>\n",
              "      <td>1</td>\n",
              "      <td>1</td>\n",
              "    </tr>\n",
              "  </tbody>\n",
              "</table>\n",
              "<p>8618 rows × 10 columns</p>\n",
              "</div>\n",
              "      <button class=\"colab-df-convert\" onclick=\"convertToInteractive('df-c1a4848a-368d-4a51-a4bb-6bd9b33ad86e')\"\n",
              "              title=\"Convert this dataframe to an interactive table.\"\n",
              "              style=\"display:none;\">\n",
              "        \n",
              "  <svg xmlns=\"http://www.w3.org/2000/svg\" height=\"24px\"viewBox=\"0 0 24 24\"\n",
              "       width=\"24px\">\n",
              "    <path d=\"M0 0h24v24H0V0z\" fill=\"none\"/>\n",
              "    <path d=\"M18.56 5.44l.94 2.06.94-2.06 2.06-.94-2.06-.94-.94-2.06-.94 2.06-2.06.94zm-11 1L8.5 8.5l.94-2.06 2.06-.94-2.06-.94L8.5 2.5l-.94 2.06-2.06.94zm10 10l.94 2.06.94-2.06 2.06-.94-2.06-.94-.94-2.06-.94 2.06-2.06.94z\"/><path d=\"M17.41 7.96l-1.37-1.37c-.4-.4-.92-.59-1.43-.59-.52 0-1.04.2-1.43.59L10.3 9.45l-7.72 7.72c-.78.78-.78 2.05 0 2.83L4 21.41c.39.39.9.59 1.41.59.51 0 1.02-.2 1.41-.59l7.78-7.78 2.81-2.81c.8-.78.8-2.07 0-2.86zM5.41 20L4 18.59l7.72-7.72 1.47 1.35L5.41 20z\"/>\n",
              "  </svg>\n",
              "      </button>\n",
              "      \n",
              "  <style>\n",
              "    .colab-df-container {\n",
              "      display:flex;\n",
              "      flex-wrap:wrap;\n",
              "      gap: 12px;\n",
              "    }\n",
              "\n",
              "    .colab-df-convert {\n",
              "      background-color: #E8F0FE;\n",
              "      border: none;\n",
              "      border-radius: 50%;\n",
              "      cursor: pointer;\n",
              "      display: none;\n",
              "      fill: #1967D2;\n",
              "      height: 32px;\n",
              "      padding: 0 0 0 0;\n",
              "      width: 32px;\n",
              "    }\n",
              "\n",
              "    .colab-df-convert:hover {\n",
              "      background-color: #E2EBFA;\n",
              "      box-shadow: 0px 1px 2px rgba(60, 64, 67, 0.3), 0px 1px 3px 1px rgba(60, 64, 67, 0.15);\n",
              "      fill: #174EA6;\n",
              "    }\n",
              "\n",
              "    [theme=dark] .colab-df-convert {\n",
              "      background-color: #3B4455;\n",
              "      fill: #D2E3FC;\n",
              "    }\n",
              "\n",
              "    [theme=dark] .colab-df-convert:hover {\n",
              "      background-color: #434B5C;\n",
              "      box-shadow: 0px 1px 3px 1px rgba(0, 0, 0, 0.15);\n",
              "      filter: drop-shadow(0px 1px 2px rgba(0, 0, 0, 0.3));\n",
              "      fill: #FFFFFF;\n",
              "    }\n",
              "  </style>\n",
              "\n",
              "      <script>\n",
              "        const buttonEl =\n",
              "          document.querySelector('#df-c1a4848a-368d-4a51-a4bb-6bd9b33ad86e button.colab-df-convert');\n",
              "        buttonEl.style.display =\n",
              "          google.colab.kernel.accessAllowed ? 'block' : 'none';\n",
              "\n",
              "        async function convertToInteractive(key) {\n",
              "          const element = document.querySelector('#df-c1a4848a-368d-4a51-a4bb-6bd9b33ad86e');\n",
              "          const dataTable =\n",
              "            await google.colab.kernel.invokeFunction('convertToInteractive',\n",
              "                                                     [key], {});\n",
              "          if (!dataTable) return;\n",
              "\n",
              "          const docLinkHtml = 'Like what you see? Visit the ' +\n",
              "            '<a target=\"_blank\" href=https://colab.research.google.com/notebooks/data_table.ipynb>data table notebook</a>'\n",
              "            + ' to learn more about interactive tables.';\n",
              "          element.innerHTML = '';\n",
              "          dataTable['output_type'] = 'display_data';\n",
              "          await google.colab.output.renderOutput(dataTable, element);\n",
              "          const docLink = document.createElement('div');\n",
              "          docLink.innerHTML = docLinkHtml;\n",
              "          element.appendChild(docLink);\n",
              "        }\n",
              "      </script>\n",
              "    </div>\n",
              "  </div>\n",
              "  "
            ]
          },
          "metadata": {},
          "execution_count": 75
        }
      ]
    },
    {
      "cell_type": "markdown",
      "source": [
        "we can see from the above displayed dataframe that all the special characters from the name columns are removed"
      ],
      "metadata": {
        "id": "DpTIfrM5PG3x"
      }
    },
    {
      "cell_type": "markdown",
      "source": [
        "**Perform data visualization techniques to appropriate columns and explain them.**"
      ],
      "metadata": {
        "id": "MLKejJ_rRb_l"
      }
    },
    {
      "cell_type": "markdown",
      "source": [
        "to visualize the data, we will make use of 2 libraries. matplotlib.pyplot and seaborn"
      ],
      "metadata": {
        "id": "-IsLrc4G-BXw"
      }
    },
    {
      "cell_type": "code",
      "source": [
        "import matplotlib.pyplot as plt\n",
        "import seaborn as sns\n",
        "\n"
      ],
      "metadata": {
        "id": "AxouXuSyRfg6"
      },
      "execution_count": null,
      "outputs": []
    },
    {
      "cell_type": "markdown",
      "source": [
        "we can get a distribution plot as below which will show the distribution of age groups participating in the olympics. here we can see that more athletes participating olympics belong to the age group between 20 to 30 years. it is quiet surprising that, we have participants who aged more that 40years also."
      ],
      "metadata": {
        "id": "oitUp9Lj-OF6"
      }
    },
    {
      "cell_type": "code",
      "source": [
        "sns.distplot(df['age']) #distribution plot for age"
      ],
      "metadata": {
        "colab": {
          "base_uri": "https://localhost:8080/",
          "height": 351
        },
        "id": "QVv3WA2s06k1",
        "outputId": "5acc50b2-6a1e-492d-f74c-546f312827fe"
      },
      "execution_count": null,
      "outputs": [
        {
          "output_type": "stream",
          "name": "stderr",
          "text": [
            "/usr/local/lib/python3.7/dist-packages/seaborn/distributions.py:2619: FutureWarning: `distplot` is a deprecated function and will be removed in a future version. Please adapt your code to use either `displot` (a figure-level function with similar flexibility) or `histplot` (an axes-level function for histograms).\n",
            "  warnings.warn(msg, FutureWarning)\n"
          ]
        },
        {
          "output_type": "execute_result",
          "data": {
            "text/plain": [
              "<matplotlib.axes._subplots.AxesSubplot at 0x7f146290e2d0>"
            ]
          },
          "metadata": {},
          "execution_count": 20
        },
        {
          "output_type": "display_data",
          "data": {
            "text/plain": [
              "<Figure size 432x288 with 1 Axes>"
            ],
            "image/png": "[encoded data removed]"
          },
          "metadata": {
            "needs_background": "light"
          }
        }
      ]
    },
    {
      "cell_type": "markdown",
      "source": [
        "we can get details of sports catergory in which no. of participations are higher in volume using count plot as below."
      ],
      "metadata": {
        "id": "FwZ1nxBJpz8G"
      }
    },
    {
      "cell_type": "code",
      "source": [
        "plt.figure(figsize=(10,4))\n",
        "plt.title('total participants for each sports')\n",
        "plt.xticks(rotation=90)\n",
        "plt.xlabel('sport name')\n",
        "plt.ylabel('total participants')\n",
        "sns.countplot('sports',data=df)"
      ],
      "metadata": {
        "colab": {
          "base_uri": "https://localhost:8080/",
          "height": 488
        },
        "id": "yxr5WqwkoERW",
        "outputId": "3e51e39c-8046-475f-a899-24ee95dfd495"
      },
      "execution_count": null,
      "outputs": [
        {
          "output_type": "stream",
          "name": "stderr",
          "text": [
            "/usr/local/lib/python3.7/dist-packages/seaborn/_decorators.py:43: FutureWarning: Pass the following variable as a keyword arg: x. From version 0.12, the only valid positional argument will be `data`, and passing other arguments without an explicit keyword will result in an error or misinterpretation.\n",
            "  FutureWarning\n"
          ]
        },
        {
          "output_type": "execute_result",
          "data": {
            "text/plain": [
              "<matplotlib.axes._subplots.AxesSubplot at 0x7f8f0a4e2510>"
            ]
          },
          "metadata": {},
          "execution_count": 9
        },
        {
          "output_type": "display_data",
          "data": {
            "text/plain": [
              "<Figure size 720x288 with 1 Axes>"
            ],
            "image/png": "[encoded data removed]"
          },
          "metadata": {
            "needs_background": "light"
          }
        }
      ]
    },
    {
      "cell_type": "markdown",
      "source": [
        "from the above graph, we can see that in athletics catergory, we have highest participants and in skeleton catergory, we have least participants."
      ],
      "metadata": {
        "id": "eIlPpy9xqDIy"
      }
    },
    {
      "cell_type": "markdown",
      "source": [
        "we can also visualize age vs gold medals won which will tell us which age catergory is winning highest gold in olympics."
      ],
      "metadata": {
        "id": "Utxye70SqnIj"
      }
    },
    {
      "cell_type": "code",
      "source": [
        "plt.figure(figsize=(15,4))\n",
        "x=df['age']\n",
        "y=df['gold_medal']\n",
        "plt.title('age v/s total gold won')\n",
        "plt.xlabel('age')\n",
        "plt.ylabel('total gold won')\n",
        "plt.bar(x,y)"
      ],
      "metadata": {
        "colab": {
          "base_uri": "https://localhost:8080/",
          "height": 312
        },
        "id": "7nFhs-ENvw-o",
        "outputId": "a65e38f7-5c67-464e-8d8f-4ae55979e66d"
      },
      "execution_count": null,
      "outputs": [
        {
          "output_type": "execute_result",
          "data": {
            "text/plain": [
              "<BarContainer object of 8618 artists>"
            ]
          },
          "metadata": {},
          "execution_count": 14
        },
        {
          "output_type": "display_data",
          "data": {
            "text/plain": [
              "<Figure size 1080x288 with 1 Axes>"
            ],
            "image/png": "[encoded data removed]"
          },
          "metadata": {
            "needs_background": "light"
          }
        }
      ]
    },
    {
      "cell_type": "markdown",
      "source": [
        "we can also have plots of no. of medals each country has bagged in a year. which will show the top oplympic winners of each year. let us see for how many years we have data of olympics so that we can have dataframes filtered based on years."
      ],
      "metadata": {
        "id": "SzLJmgrjBDSY"
      }
    },
    {
      "cell_type": "code",
      "source": [
        "df['year'].unique() #to get unique values in year column"
      ],
      "metadata": {
        "colab": {
          "base_uri": "https://localhost:8080/"
        },
        "id": "qd_YcoWzgG6d",
        "outputId": "02287fc3-f882-4044-afeb-07b313f9748d"
      },
      "execution_count": null,
      "outputs": [
        {
          "output_type": "execute_result",
          "data": {
            "text/plain": [
              "array([2008, 2004, 2012, 2000, 2006, 2010, 2002])"
            ]
          },
          "metadata": {},
          "execution_count": 95
        }
      ]
    },
    {
      "cell_type": "markdown",
      "source": [
        "we can see that we have data for the years 2000,2002,2004,2006,2008,2010,2012. using this we can filter the data frame and get the plots country v/s total_medal for each year"
      ],
      "metadata": {
        "id": "eUaGEuLKCSIM"
      }
    },
    {
      "cell_type": "code",
      "source": [
        "df_2000=df[df['year']==2000] #filtering the dataframe and ploting\n",
        "plt.figure(figsize=(15,6))\n",
        "plt.title('total medals won by countries in 2000')\n",
        "plt.xlabel('country')\n",
        "plt.ylabel('Total medal won')\n",
        "plt.xticks(rotation=90)\n",
        "plt.bar(x=df_2000['country'],height=df_2000['total_medal'])"
      ],
      "metadata": {
        "colab": {
          "base_uri": "https://localhost:8080/",
          "height": 528
        },
        "id": "pKGaKwVvkNuK",
        "outputId": "58609d66-0b4f-460b-9e73-626f4a7d7146"
      },
      "execution_count": null,
      "outputs": [
        {
          "output_type": "execute_result",
          "data": {
            "text/plain": [
              "<BarContainer object of 1840 artists>"
            ]
          },
          "metadata": {},
          "execution_count": 8
        },
        {
          "output_type": "display_data",
          "data": {
            "text/plain": [
              "<Figure size 1080x432 with 1 Axes>"
            ],
            "image/png": "[encoded data removed]"
          },
          "metadata": {
            "needs_background": "light"
          }
        }
      ]
    },
    {
      "cell_type": "code",
      "source": [
        "df_2002=df[df['year']==2002]\n",
        "plt.figure(figsize=(10,6))\n",
        "plt.title('total medals won by countries in 2002')\n",
        "plt.xlabel('country')\n",
        "plt.ylabel('Total medal won')\n",
        "plt.xticks(rotation=90)\n",
        "plt.bar(x=df_2002['country'],height=df_2002['total_medal'])"
      ],
      "metadata": {
        "colab": {
          "base_uri": "https://localhost:8080/",
          "height": 487
        },
        "id": "57w7pmRjlUVx",
        "outputId": "c9021bf1-07a9-444a-855a-c870a4683b21"
      },
      "execution_count": null,
      "outputs": [
        {
          "output_type": "execute_result",
          "data": {
            "text/plain": [
              "<BarContainer object of 407 artists>"
            ]
          },
          "metadata": {},
          "execution_count": 9
        },
        {
          "output_type": "display_data",
          "data": {
            "text/plain": [
              "<Figure size 720x432 with 1 Axes>"
            ],
            "image/png": "[encoded data removed]"
          },
          "metadata": {
            "needs_background": "light"
          }
        }
      ]
    },
    {
      "cell_type": "code",
      "source": [
        "df_2004=df[df['year']==2004]\n",
        "plt.figure(figsize=(15,6))\n",
        "plt.title('total medals won by countries in 2004')\n",
        "plt.xlabel('country')\n",
        "plt.ylabel('Total medal won')\n",
        "plt.xticks(rotation=90)\n",
        "plt.bar(x=df_2004['country'],height=df_2004['total_medal'])"
      ],
      "metadata": {
        "colab": {
          "base_uri": "https://localhost:8080/",
          "height": 528
        },
        "id": "Fy9ZGTrqluYL",
        "outputId": "1613b26b-aa37-41eb-eede-ce3addb5aa7b"
      },
      "execution_count": null,
      "outputs": [
        {
          "output_type": "execute_result",
          "data": {
            "text/plain": [
              "<BarContainer object of 1839 artists>"
            ]
          },
          "metadata": {},
          "execution_count": 10
        },
        {
          "output_type": "display_data",
          "data": {
            "text/plain": [
              "<Figure size 1080x432 with 1 Axes>"
            ],
            "image/png": "[encoded data removed]"
          },
          "metadata": {
            "needs_background": "light"
          }
        }
      ]
    },
    {
      "cell_type": "code",
      "source": [
        "df_2006=df[df['year']==2006]\n",
        "plt.figure(figsize=(15,6))\n",
        "plt.title('total medals won by countries in 2006')\n",
        "plt.xlabel('country')\n",
        "plt.ylabel('Total medal won')\n",
        "plt.xticks(rotation=90)\n",
        "plt.bar(x=df_2006['country'],height=df_2006['total_medal'])"
      ],
      "metadata": {
        "colab": {
          "base_uri": "https://localhost:8080/",
          "height": 487
        },
        "id": "0WqICZCQmJDU",
        "outputId": "08d82238-fbbf-4833-f56b-b4dd97ed2dee"
      },
      "execution_count": null,
      "outputs": [
        {
          "output_type": "execute_result",
          "data": {
            "text/plain": [
              "<BarContainer object of 443 artists>"
            ]
          },
          "metadata": {},
          "execution_count": 11
        },
        {
          "output_type": "display_data",
          "data": {
            "text/plain": [
              "<Figure size 1080x432 with 1 Axes>"
            ],
            "image/png": "[encoded data removed]"
          },
          "metadata": {
            "needs_background": "light"
          }
        }
      ]
    },
    {
      "cell_type": "code",
      "source": [
        "df_2008=df[df['year']==2008]\n",
        "plt.figure(figsize=(15,6))\n",
        "plt.title('total medals won by countries in 2008')\n",
        "plt.xlabel('country')\n",
        "plt.ylabel('Total medal won')\n",
        "plt.xticks(rotation=90)\n",
        "plt.bar(x=df_2008['country'],height=df_2008['total_medal'])"
      ],
      "metadata": {
        "colab": {
          "base_uri": "https://localhost:8080/",
          "height": 511
        },
        "id": "9cqH7IcKmR09",
        "outputId": "e85859d7-c777-4105-a544-369609a94de1"
      },
      "execution_count": null,
      "outputs": [
        {
          "output_type": "execute_result",
          "data": {
            "text/plain": [
              "<BarContainer object of 1872 artists>"
            ]
          },
          "metadata": {},
          "execution_count": 12
        },
        {
          "output_type": "display_data",
          "data": {
            "text/plain": [
              "<Figure size 1080x432 with 1 Axes>"
            ],
            "image/png": "[encoded data removed]"
          },
          "metadata": {
            "needs_background": "light"
          }
        }
      ]
    },
    {
      "cell_type": "code",
      "source": [
        "df_2010=df[df['year']==2010]\n",
        "plt.figure(figsize=(15,6))\n",
        "plt.title('total medals won by countries in 2010')\n",
        "plt.xlabel('country')\n",
        "plt.ylabel('Total medal won')\n",
        "plt.xticks(rotation=90)\n",
        "plt.bar(x=df_2010['country'],height=df_2010['total_medal'])"
      ],
      "metadata": {
        "colab": {
          "base_uri": "https://localhost:8080/",
          "height": 487
        },
        "id": "Ta6Q4vfhot7U",
        "outputId": "82ce451f-742d-46ff-fa95-5cea77ad145d"
      },
      "execution_count": null,
      "outputs": [
        {
          "output_type": "execute_result",
          "data": {
            "text/plain": [
              "<BarContainer object of 441 artists>"
            ]
          },
          "metadata": {},
          "execution_count": 13
        },
        {
          "output_type": "display_data",
          "data": {
            "text/plain": [
              "<Figure size 1080x432 with 1 Axes>"
            ],
            "image/png": "[encoded data removed]"
          },
          "metadata": {
            "needs_background": "light"
          }
        }
      ]
    },
    {
      "cell_type": "code",
      "source": [
        "df_2012=df[df['year']==2012]\n",
        "plt.figure(figsize=(15,6))\n",
        "plt.title('total medals won by countries in 2012')\n",
        "plt.xlabel('country')\n",
        "plt.ylabel('Total medal won')\n",
        "plt.xticks(rotation=90)\n",
        "plt.bar(x=df_2012['country'],height=df_2012['total_medal'])"
      ],
      "metadata": {
        "colab": {
          "base_uri": "https://localhost:8080/",
          "height": 511
        },
        "id": "F63_QqTOo64T",
        "outputId": "c15bb7b0-f8f4-4836-f2e6-827e6443a623"
      },
      "execution_count": null,
      "outputs": [
        {
          "output_type": "execute_result",
          "data": {
            "text/plain": [
              "<BarContainer object of 1776 artists>"
            ]
          },
          "metadata": {},
          "execution_count": 14
        },
        {
          "output_type": "display_data",
          "data": {
            "text/plain": [
              "<Figure size 1080x432 with 1 Axes>"
            ],
            "image/png": "[encoded data removed]"
          },
          "metadata": {
            "needs_background": "light"
          }
        }
      ]
    },
    {
      "cell_type": "markdown",
      "source": [
        "with the above plots we got the top performing countires in each year of olympics conducted."
      ],
      "metadata": {
        "id": "bRIw06goDE44"
      }
    },
    {
      "cell_type": "markdown",
      "source": [
        "**Please check if the age dataset is skewed or symmetric. Based on the results perform the transformation.**"
      ],
      "metadata": {
        "id": "s0FHGEZp7IZd"
      }
    },
    {
      "cell_type": "markdown",
      "source": [
        "to check the summetry of the age data, we have to use histogram which will give us the distribution of the ages."
      ],
      "metadata": {
        "id": "A4WvlZEkDURm"
      }
    },
    {
      "cell_type": "code",
      "source": [
        "sns.histplot(x='age',data=df,bins=60)"
      ],
      "metadata": {
        "colab": {
          "base_uri": "https://localhost:8080/",
          "height": 296
        },
        "id": "xG1ub75C7Kd9",
        "outputId": "93d198ed-d192-48cc-ed72-627ef1397f2f"
      },
      "execution_count": null,
      "outputs": [
        {
          "output_type": "execute_result",
          "data": {
            "text/plain": [
              "<matplotlib.axes._subplots.AxesSubplot at 0x7fe1a4d02650>"
            ]
          },
          "metadata": {},
          "execution_count": 7
        },
        {
          "output_type": "display_data",
          "data": {
            "text/plain": [
              "<Figure size 432x288 with 1 Axes>"
            ],
            "image/png": "[encoded data removed]"
          },
          "metadata": {
            "needs_background": "light"
          }
        }
      ]
    },
    {
      "cell_type": "code",
      "source": [
        "round(df['age'].skew(),2)"
      ],
      "metadata": {
        "colab": {
          "base_uri": "https://localhost:8080/"
        },
        "id": "V2o4IMJp9xFb",
        "outputId": "4eb58c7e-28a5-4d48-db4a-fb31f5679977"
      },
      "execution_count": null,
      "outputs": [
        {
          "output_type": "execute_result",
          "data": {
            "text/plain": [
              "0.8590070668484233"
            ]
          },
          "metadata": {},
          "execution_count": 22
        }
      ]
    },
    {
      "cell_type": "markdown",
      "source": [
        "from the graph, we can see that, the data is slightly skewed towards right. the skewness is 0.86. we can transform the data to normal distribution using square root method. In square root method, we have to simply find the square roots of each row in age column and plot the graph which will be normally distributed. In oder to do so, we have to find square root of age column and asign it to a new column so that the orignal data is not lost."
      ],
      "metadata": {
        "id": "wPxk2gzCDj9a"
      }
    },
    {
      "cell_type": "code",
      "source": [
        "df['sqrt_age']=np.sqrt(df['age']) #creating a new column with square roots of age"
      ],
      "metadata": {
        "id": "XjprRDhq92oz"
      },
      "execution_count": null,
      "outputs": []
    },
    {
      "cell_type": "code",
      "source": [
        "sns.distplot(x='sqrt_age',data=df,bins=60)"
      ],
      "metadata": {
        "colab": {
          "base_uri": "https://localhost:8080/",
          "height": 297
        },
        "id": "myX9AwQ8-I8h",
        "outputId": "e7ba01ef-9b13-4183-d8ea-c004f487b410"
      },
      "execution_count": null,
      "outputs": [
        {
          "output_type": "execute_result",
          "data": {
            "text/plain": [
              "<matplotlib.axes._subplots.AxesSubplot at 0x7f14627f0210>"
            ]
          },
          "metadata": {},
          "execution_count": 24
        },
        {
          "output_type": "display_data",
          "data": {
            "text/plain": [
              "<Figure size 432x288 with 1 Axes>"
            ],
            "image/png": "[encoded data removed]"
          },
          "metadata": {
            "needs_background": "light"
          }
        }
      ]
    },
    {
      "cell_type": "code",
      "source": [
        "round(df['sqrt_age'].skew(),2)"
      ],
      "metadata": {
        "colab": {
          "base_uri": "https://localhost:8080/"
        },
        "id": "oPX7g1Jx-OHb",
        "outputId": "dac2236f-7531-430a-dc69-79d28b4634a1"
      },
      "execution_count": null,
      "outputs": [
        {
          "output_type": "execute_result",
          "data": {
            "text/plain": [
              "0.49"
            ]
          },
          "metadata": {},
          "execution_count": 19
        }
      ]
    },
    {
      "cell_type": "markdown",
      "source": [
        "above have tranformed the data to normal form using square root method. and we can see that the skewness is 0.49."
      ],
      "metadata": {
        "id": "5dQKOsGMq2RN"
      }
    },
    {
      "cell_type": "markdown",
      "source": [
        "**Please perform appropriate numerical measures on each column and report them accordingly.**"
      ],
      "metadata": {
        "id": "AClEFcT08LQR"
      }
    },
    {
      "cell_type": "markdown",
      "source": [
        "we can get all the required numerical measures using describe functions."
      ],
      "metadata": {
        "id": "ZsrenfFGKqt0"
      }
    },
    {
      "cell_type": "code",
      "source": [
        "df.describe() "
      ],
      "metadata": {
        "colab": {
          "base_uri": "https://localhost:8080/",
          "height": 300
        },
        "id": "0dzOowyU8NM_",
        "outputId": "8a7e0132-c036-41f2-bdd6-0a5a1c709470"
      },
      "execution_count": null,
      "outputs": [
        {
          "output_type": "execute_result",
          "data": {
            "text/plain": [
              "               age         year   gold_medal  silver_medal  brone_medal  \\\n",
              "count  8613.000000  8618.000000  8618.000000   8618.000000  8618.000000   \n",
              "mean     26.405434  2005.978881     0.364702      0.363309     0.377698   \n",
              "std       5.102118     4.289946     0.545349      0.511613     0.505005   \n",
              "min      15.000000  2000.000000     0.000000      0.000000     0.000000   \n",
              "25%      23.000000  2002.000000     0.000000      0.000000     0.000000   \n",
              "50%      26.000000  2006.000000     0.000000      0.000000     0.000000   \n",
              "75%      29.000000  2010.000000     1.000000      1.000000     1.000000   \n",
              "max      61.000000  2012.000000     8.000000      3.000000     3.000000   \n",
              "\n",
              "       total_medal  \n",
              "count  8618.000000  \n",
              "mean      1.105709  \n",
              "std       0.408892  \n",
              "min       1.000000  \n",
              "25%       1.000000  \n",
              "50%       1.000000  \n",
              "75%       1.000000  \n",
              "max       8.000000  "
            ],
            "text/html": [
              "\n",
              "  <div id=\"df-575e9e52-f9f4-4fa0-9072-919a812636a3\">\n",
              "    <div class=\"colab-df-container\">\n",
              "      <div>\n",
              "<style scoped>\n",
              "    .dataframe tbody tr th:only-of-type {\n",
              "        vertical-align: middle;\n",
              "    }\n",
              "\n",
              "    .dataframe tbody tr th {\n",
              "        vertical-align: top;\n",
              "    }\n",
              "\n",
              "    .dataframe thead th {\n",
              "        text-align: right;\n",
              "    }\n",
              "</style>\n",
              "<table border=\"1\" class=\"dataframe\">\n",
              "  <thead>\n",
              "    <tr style=\"text-align: right;\">\n",
              "      <th></th>\n",
              "      <th>age</th>\n",
              "      <th>year</th>\n",
              "      <th>gold_medal</th>\n",
              "      <th>silver_medal</th>\n",
              "      <th>brone_medal</th>\n",
              "      <th>total_medal</th>\n",
              "    </tr>\n",
              "  </thead>\n",
              "  <tbody>\n",
              "    <tr>\n",
              "      <th>count</th>\n",
              "      <td>8613.000000</td>\n",
              "      <td>8618.000000</td>\n",
              "      <td>8618.000000</td>\n",
              "      <td>8618.000000</td>\n",
              "      <td>8618.000000</td>\n",
              "      <td>8618.000000</td>\n",
              "    </tr>\n",
              "    <tr>\n",
              "      <th>mean</th>\n",
              "      <td>26.405434</td>\n",
              "      <td>2005.978881</td>\n",
              "      <td>0.364702</td>\n",
              "      <td>0.363309</td>\n",
              "      <td>0.377698</td>\n",
              "      <td>1.105709</td>\n",
              "    </tr>\n",
              "    <tr>\n",
              "      <th>std</th>\n",
              "      <td>5.102118</td>\n",
              "      <td>4.289946</td>\n",
              "      <td>0.545349</td>\n",
              "      <td>0.511613</td>\n",
              "      <td>0.505005</td>\n",
              "      <td>0.408892</td>\n",
              "    </tr>\n",
              "    <tr>\n",
              "      <th>min</th>\n",
              "      <td>15.000000</td>\n",
              "      <td>2000.000000</td>\n",
              "      <td>0.000000</td>\n",
              "      <td>0.000000</td>\n",
              "      <td>0.000000</td>\n",
              "      <td>1.000000</td>\n",
              "    </tr>\n",
              "    <tr>\n",
              "      <th>25%</th>\n",
              "      <td>23.000000</td>\n",
              "      <td>2002.000000</td>\n",
              "      <td>0.000000</td>\n",
              "      <td>0.000000</td>\n",
              "      <td>0.000000</td>\n",
              "      <td>1.000000</td>\n",
              "    </tr>\n",
              "    <tr>\n",
              "      <th>50%</th>\n",
              "      <td>26.000000</td>\n",
              "      <td>2006.000000</td>\n",
              "      <td>0.000000</td>\n",
              "      <td>0.000000</td>\n",
              "      <td>0.000000</td>\n",
              "      <td>1.000000</td>\n",
              "    </tr>\n",
              "    <tr>\n",
              "      <th>75%</th>\n",
              "      <td>29.000000</td>\n",
              "      <td>2010.000000</td>\n",
              "      <td>1.000000</td>\n",
              "      <td>1.000000</td>\n",
              "      <td>1.000000</td>\n",
              "      <td>1.000000</td>\n",
              "    </tr>\n",
              "    <tr>\n",
              "      <th>max</th>\n",
              "      <td>61.000000</td>\n",
              "      <td>2012.000000</td>\n",
              "      <td>8.000000</td>\n",
              "      <td>3.000000</td>\n",
              "      <td>3.000000</td>\n",
              "      <td>8.000000</td>\n",
              "    </tr>\n",
              "  </tbody>\n",
              "</table>\n",
              "</div>\n",
              "      <button class=\"colab-df-convert\" onclick=\"convertToInteractive('df-575e9e52-f9f4-4fa0-9072-919a812636a3')\"\n",
              "              title=\"Convert this dataframe to an interactive table.\"\n",
              "              style=\"display:none;\">\n",
              "        \n",
              "  <svg xmlns=\"http://www.w3.org/2000/svg\" height=\"24px\"viewBox=\"0 0 24 24\"\n",
              "       width=\"24px\">\n",
              "    <path d=\"M0 0h24v24H0V0z\" fill=\"none\"/>\n",
              "    <path d=\"M18.56 5.44l.94 2.06.94-2.06 2.06-.94-2.06-.94-.94-2.06-.94 2.06-2.06.94zm-11 1L8.5 8.5l.94-2.06 2.06-.94-2.06-.94L8.5 2.5l-.94 2.06-2.06.94zm10 10l.94 2.06.94-2.06 2.06-.94-2.06-.94-.94-2.06-.94 2.06-2.06.94z\"/><path d=\"M17.41 7.96l-1.37-1.37c-.4-.4-.92-.59-1.43-.59-.52 0-1.04.2-1.43.59L10.3 9.45l-7.72 7.72c-.78.78-.78 2.05 0 2.83L4 21.41c.39.39.9.59 1.41.59.51 0 1.02-.2 1.41-.59l7.78-7.78 2.81-2.81c.8-.78.8-2.07 0-2.86zM5.41 20L4 18.59l7.72-7.72 1.47 1.35L5.41 20z\"/>\n",
              "  </svg>\n",
              "      </button>\n",
              "      \n",
              "  <style>\n",
              "    .colab-df-container {\n",
              "      display:flex;\n",
              "      flex-wrap:wrap;\n",
              "      gap: 12px;\n",
              "    }\n",
              "\n",
              "    .colab-df-convert {\n",
              "      background-color: #E8F0FE;\n",
              "      border: none;\n",
              "      border-radius: 50%;\n",
              "      cursor: pointer;\n",
              "      display: none;\n",
              "      fill: #1967D2;\n",
              "      height: 32px;\n",
              "      padding: 0 0 0 0;\n",
              "      width: 32px;\n",
              "    }\n",
              "\n",
              "    .colab-df-convert:hover {\n",
              "      background-color: #E2EBFA;\n",
              "      box-shadow: 0px 1px 2px rgba(60, 64, 67, 0.3), 0px 1px 3px 1px rgba(60, 64, 67, 0.15);\n",
              "      fill: #174EA6;\n",
              "    }\n",
              "\n",
              "    [theme=dark] .colab-df-convert {\n",
              "      background-color: #3B4455;\n",
              "      fill: #D2E3FC;\n",
              "    }\n",
              "\n",
              "    [theme=dark] .colab-df-convert:hover {\n",
              "      background-color: #434B5C;\n",
              "      box-shadow: 0px 1px 3px 1px rgba(0, 0, 0, 0.15);\n",
              "      filter: drop-shadow(0px 1px 2px rgba(0, 0, 0, 0.3));\n",
              "      fill: #FFFFFF;\n",
              "    }\n",
              "  </style>\n",
              "\n",
              "      <script>\n",
              "        const buttonEl =\n",
              "          document.querySelector('#df-575e9e52-f9f4-4fa0-9072-919a812636a3 button.colab-df-convert');\n",
              "        buttonEl.style.display =\n",
              "          google.colab.kernel.accessAllowed ? 'block' : 'none';\n",
              "\n",
              "        async function convertToInteractive(key) {\n",
              "          const element = document.querySelector('#df-575e9e52-f9f4-4fa0-9072-919a812636a3');\n",
              "          const dataTable =\n",
              "            await google.colab.kernel.invokeFunction('convertToInteractive',\n",
              "                                                     [key], {});\n",
              "          if (!dataTable) return;\n",
              "\n",
              "          const docLinkHtml = 'Like what you see? Visit the ' +\n",
              "            '<a target=\"_blank\" href=https://colab.research.google.com/notebooks/data_table.ipynb>data table notebook</a>'\n",
              "            + ' to learn more about interactive tables.';\n",
              "          element.innerHTML = '';\n",
              "          dataTable['output_type'] = 'display_data';\n",
              "          await google.colab.output.renderOutput(dataTable, element);\n",
              "          const docLink = document.createElement('div');\n",
              "          docLink.innerHTML = docLinkHtml;\n",
              "          element.appendChild(docLink);\n",
              "        }\n",
              "      </script>\n",
              "    </div>\n",
              "  </div>\n",
              "  "
            ]
          },
          "metadata": {},
          "execution_count": 158
        }
      ]
    },
    {
      "cell_type": "markdown",
      "source": [
        "from the age column, we can see that oldest participant is of age 61. highest number of gold medals won by an athlete is 8. average age of participants is 26 years.\n"
      ],
      "metadata": {
        "id": "eEL6KEzSK3tL"
      }
    },
    {
      "cell_type": "markdown",
      "source": [
        "**Please list the top 10 countries with the gold medal, then the top10 countries with the silver medal, then the bronze medal and the total medal.**"
      ],
      "metadata": {
        "id": "bu6O1BGIvoAo"
      }
    },
    {
      "cell_type": "markdown",
      "source": [
        "we can get to know which countries have bagged gold,silver, bronze and total medals using groupby function. "
      ],
      "metadata": {
        "id": "f1o3jIU0rWq-"
      }
    },
    {
      "cell_type": "code",
      "source": [
        "#top 10 countries who won highest gold medals\n",
        "df_top_gold=df.groupby('country')['gold_medal'].sum().sort_values(ascending=False)\n",
        "df_top_gold.head(10)"
      ],
      "metadata": {
        "colab": {
          "base_uri": "https://localhost:8080/"
        },
        "id": "1RnlhJ_4Mf4b",
        "outputId": "4b763444-0168-4950-a5de-14d49b7107fa"
      },
      "execution_count": null,
      "outputs": [
        {
          "output_type": "execute_result",
          "data": {
            "text/plain": [
              "country\n",
              "United States    552\n",
              "Russia           234\n",
              "China            234\n",
              "Germany          223\n",
              "Canada           168\n",
              "Australia        163\n",
              "Great Britain    124\n",
              "South Korea      110\n",
              "France           108\n",
              "Netherlands      101\n",
              "Name: gold_medal, dtype: int64"
            ]
          },
          "metadata": {},
          "execution_count": 5
        }
      ]
    },
    {
      "cell_type": "code",
      "source": [
        "#top 10 countries who won highest silver medals\n",
        "df_top_silver=df.groupby('country')['silver_medal'].sum().sort_values(ascending=False)\n",
        "df_top_silver.head(10)"
      ],
      "metadata": {
        "colab": {
          "base_uri": "https://localhost:8080/"
        },
        "id": "h5LWPkU6MqXr",
        "outputId": "9495f8be-2970-47b5-a962-b9c18a0323df"
      },
      "execution_count": null,
      "outputs": [
        {
          "output_type": "execute_result",
          "data": {
            "text/plain": [
              "country\n",
              "United States    440\n",
              "Australia        226\n",
              "Russia           221\n",
              "Germany          183\n",
              "China            156\n",
              "Netherlands      135\n",
              "Spain            116\n",
              "Japan            112\n",
              "France           107\n",
              "Italy            103\n",
              "Name: silver_medal, dtype: int64"
            ]
          },
          "metadata": {},
          "execution_count": 6
        }
      ]
    },
    {
      "cell_type": "code",
      "source": [
        "#top 10 countries who won highest bronze medals\n",
        "df_top_bronze=df.groupby('country')['brone_medal'].sum().sort_values(ascending=False)\n",
        "df_top_bronze.head(10)"
      ],
      "metadata": {
        "colab": {
          "base_uri": "https://localhost:8080/"
        },
        "id": "rgmzdZHOMyWL",
        "outputId": "0a614d8e-3ece-4c1a-bad9-a17a51a48525"
      },
      "execution_count": null,
      "outputs": [
        {
          "output_type": "execute_result",
          "data": {
            "text/plain": [
              "country\n",
              "United States    320\n",
              "Russia           313\n",
              "Germany          223\n",
              "Australia        220\n",
              "Italy            142\n",
              "China            140\n",
              "Japan            113\n",
              "South Korea      105\n",
              "Canada           104\n",
              "France           103\n",
              "Name: brone_medal, dtype: int64"
            ]
          },
          "metadata": {},
          "execution_count": 7
        }
      ]
    },
    {
      "cell_type": "code",
      "source": [
        "#top 10 countries who won highest total medals\n",
        "df_top_medal=df.groupby('country')['total_medal'].sum().sort_values(ascending=False)\n",
        "df_top_medal.head(10)"
      ],
      "metadata": {
        "colab": {
          "base_uri": "https://localhost:8080/"
        },
        "id": "x-_5KD0Nvnle",
        "outputId": "46b54f30-6135-4e2a-aabd-1005c247d8ce"
      },
      "execution_count": null,
      "outputs": [
        {
          "output_type": "execute_result",
          "data": {
            "text/plain": [
              "country\n",
              "United States    1312\n",
              "Russia            768\n",
              "Germany           629\n",
              "Australia         609\n",
              "China             530\n",
              "Canada            370\n",
              "Italy             331\n",
              "Great Britain     322\n",
              "France            318\n",
              "Netherlands       318\n",
              "Name: total_medal, dtype: int64"
            ]
          },
          "metadata": {},
          "execution_count": 4
        }
      ]
    },
    {
      "cell_type": "markdown",
      "source": [
        "from the above sorted data, we can see that united states has bagged the highest number of medals followed by russia between years 2000 t0 2012.\n"
      ],
      "metadata": {
        "id": "_R8l-NqkyOP3"
      }
    },
    {
      "cell_type": "markdown",
      "source": [
        "# **PYSPARK**"
      ],
      "metadata": {
        "id": "AsKGP1wB4EvI"
      }
    },
    {
      "cell_type": "markdown",
      "source": [
        "The above data can also be analysed in pyspark which is easier to work with and more efficient. so let us start working on pyspark to get the analysis on below statements: \n",
        "1. Write PySpark code to read the olympix_data.csv file\n",
        "2. Write PySpark code to print the Olympic Sports/games in the dataset.\n",
        "3. Write PySpark code to plot the total number of medals in  each Olympic Sport/game\n",
        "4. Sort the result based on the total number of medals.\n",
        "5. Find the total number of medals won by each country in swimming.\n",
        "6. Find the total number of medals won by each country in Skeleton.\n",
        "7. Find the number of medals that the US won yearly.\n",
        "8. Find the total number of medals won by each country.\n",
        "9. Who was the oldest athlete in the olympics? \n",
        "10. Which country was he/she from?\n",
        "\n",
        "to work on pyspark, first we need to install pyspark package"
      ],
      "metadata": {
        "id": "lz8f_c8I4NCd"
      }
    },
    {
      "cell_type": "code",
      "source": [
        "pip install pyspark"
      ],
      "metadata": {
        "colab": {
          "base_uri": "https://localhost:8080/"
        },
        "id": "6YLaeFGENf3e",
        "outputId": "ab3b36f9-7b9a-4ad1-bf05-9c824deb7cb7"
      },
      "execution_count": null,
      "outputs": [
        {
          "output_type": "stream",
          "name": "stdout",
          "text": [
            "Looking in indexes: https://pypi.org/simple, https://us-python.pkg.dev/colab-wheels/public/simple/\n",
            "Collecting pyspark\n",
            "  Downloading pyspark-3.3.0.tar.gz (281.3 MB)\n",
            "\u001b[K     |████████████████████████████████| 281.3 MB 45 kB/s \n",
            "\u001b[?25hCollecting py4j==0.10.9.5\n",
            "  Downloading py4j-0.10.9.5-py2.py3-none-any.whl (199 kB)\n",
            "\u001b[K     |████████████████████████████████| 199 kB 65.3 MB/s \n",
            "\u001b[?25hBuilding wheels for collected packages: pyspark\n",
            "  Building wheel for pyspark (setup.py) ... \u001b[?25l\u001b[?25hdone\n",
            "  Created wheel for pyspark: filename=pyspark-3.3.0-py2.py3-none-any.whl size=281764026 sha256=5b0c0ff8d2a8e7cff2a7136bbb79db3bb747831c798e5a0b02cc6910fe73d8d6\n",
            "  Stored in directory: /root/.cache/pip/wheels/7a/8e/1b/f73a52650d2e5f337708d9f6a1750d451a7349a867f928b885\n",
            "Successfully built pyspark\n",
            "Installing collected packages: py4j, pyspark\n",
            "Successfully installed py4j-0.10.9.5 pyspark-3.3.0\n"
          ]
        }
      ]
    },
    {
      "cell_type": "code",
      "source": [
        "#initializing \n",
        "from pyspark import SparkConf, SparkContext\n",
        "from pyspark.sql import SQLContext, SparkSession\n",
        "conf=SparkConf().setAppName('samleName')\n",
        "sc=SparkContext(conf=conf)"
      ],
      "metadata": {
        "id": "aPx9vP6MNSA4"
      },
      "execution_count": null,
      "outputs": []
    },
    {
      "cell_type": "code",
      "source": [
        "spark=SparkSession.builder.appName('app_name').getOrCreate()\n",
        "sqlContext=SQLContext(sc)"
      ],
      "metadata": {
        "colab": {
          "base_uri": "https://localhost:8080/"
        },
        "id": "FeyNJnrsOUL2",
        "outputId": "d3977312-f244-40b6-c661-52d1ca6ff3b4"
      },
      "execution_count": null,
      "outputs": [
        {
          "output_type": "stream",
          "name": "stderr",
          "text": [
            "/usr/local/lib/python3.7/dist-packages/pyspark/sql/context.py:114: FutureWarning: Deprecated in 3.0.0. Use SparkSession.builder.getOrCreate() instead.\n",
            "  FutureWarning,\n"
          ]
        }
      ]
    },
    {
      "cell_type": "markdown",
      "source": [
        "**Write PySpark code to read the olympix_data.csv file**"
      ],
      "metadata": {
        "id": "U73uouQMshy7"
      }
    },
    {
      "cell_type": "markdown",
      "source": [
        "first we need to read the data set to spark. so we need to load as below"
      ],
      "metadata": {
        "id": "4al3wtfms55M"
      }
    },
    {
      "cell_type": "code",
      "source": [
        "df_spark= spark.read.format(\"csv\").option('header','true').option('inferSchema','true').load('/content/olympix_data_organized_with_header.csv')"
      ],
      "metadata": {
        "id": "c2lISIbfO1gF"
      },
      "execution_count": null,
      "outputs": []
    },
    {
      "cell_type": "code",
      "source": [
        "df_spark.show() #displaying the data frame"
      ],
      "metadata": {
        "colab": {
          "base_uri": "https://localhost:8080/"
        },
        "id": "mwH9aEA_PEkK",
        "outputId": "fb3f21cc-e349-4a17-d204-8cff4b6b005d"
      },
      "execution_count": null,
      "outputs": [
        {
          "output_type": "stream",
          "name": "stdout",
          "text": [
            "+--------------------+---+-------------+----+----------+--------------------+----------+------------+-----------+-----------+\n",
            "|                name|age|      country|year|Date_Given|              sports|gold_medal|silver_medal|brone_medal|total_medal|\n",
            "+--------------------+---+-------------+----+----------+--------------------+----------+------------+-----------+-----------+\n",
            "|      Michael Phelps| 23|United States|2008| 8/24/2008|            Swimming|         8|           0|          0|          8|\n",
            "|      Michael Phelps| 19|United States|2004| 8/29/2004|            Swimming|         6|           0|          2|          8|\n",
            "|      Michael Phelps| 27|United States|2012|08-12-2012|            Swimming|         4|           2|          0|          6|\n",
            "|    Natalie Coughlin| 25|United States|2008| 8/24/2008|            Swimming|         1|           2|          3|          6|\n",
            "|       Aleksey Nemov| 24|       Russia|2000|10-01-2000|          Gymnastics|         2|           1|          3|          6|\n",
            "|       Alicia Coutts| 24|    Australia|2012|08-12-2012|            Swimming|         1|           3|          1|          5|\n",
            "|      Missy Franklin| 17|United States|2012|08-12-2012|            Swimming|         4|           0|          1|          5|\n",
            "|         Ryan Lochte| 27|United States|2012|08-12-2012|            Swimming|         2|           2|          1|          5|\n",
            "|     Allison Schmitt| 22|United States|2012|08-12-2012|            Swimming|         3|           1|          1|          5|\n",
            "|    Natalie Coughlin| 21|United States|2004| 8/29/2004|            Swimming|         2|           2|          1|          5|\n",
            "|          Ian Thorpe| 17|    Australia|2000|10-01-2000|            Swimming|         3|           2|          0|          5|\n",
            "|         Dara Torres| 33|United States|2000|10-01-2000|            Swimming|         2|           0|          3|          5|\n",
            "|       Cindy Klassen| 26|       Canada|2006| 2/26/2006|       Speed Skating|         1|           2|          2|          5|\n",
            "|       Nastia Liukin| 18|United States|2008| 8/24/2008|          Gymnastics|         1|           3|          1|          5|\n",
            "|       Marit Bjørgen| 29|       Norway|2010| 2/28/2010|Cross Country Skiing|         3|           1|          1|          5|\n",
            "|            Sun Yang| 20|        China|2012|08-12-2012|            Swimming|         2|           1|          1|          4|\n",
            "|     Kirsty Coventry| 24|     Zimbabwe|2008| 8/24/2008|            Swimming|         1|           3|          0|          4|\n",
            "|Libby Lenton-Tric...| 23|    Australia|2008| 8/24/2008|            Swimming|         2|           1|          1|          4|\n",
            "|         Ryan Lochte| 24|United States|2008| 8/24/2008|            Swimming|         2|           0|          2|          4|\n",
            "|      Inge de Bruijn| 30|  Netherlands|2004| 8/29/2004|            Swimming|         1|           1|          2|          4|\n",
            "+--------------------+---+-------------+----+----------+--------------------+----------+------------+-----------+-----------+\n",
            "only showing top 20 rows\n",
            "\n"
          ]
        }
      ]
    },
    {
      "cell_type": "markdown",
      "source": [
        "**Write PySpark code to print the Olympic Sports/games in the dataset.**"
      ],
      "metadata": {
        "id": "eEmczuMKR6oa"
      }
    },
    {
      "cell_type": "markdown",
      "source": [
        "here we need to select distinct values from the sport column which will give us different sports which are being participated in."
      ],
      "metadata": {
        "id": "SOfGr0-atQF8"
      }
    },
    {
      "cell_type": "code",
      "source": [
        "df_spark.select('sports').distinct().show(200) #code to extract distinct sports from sport column"
      ],
      "metadata": {
        "colab": {
          "base_uri": "https://localhost:8080/"
        },
        "id": "4Ez1fofzQ-Ig",
        "outputId": "3faa4cbc-0152-46a2-c9c6-676e17395ab0"
      },
      "execution_count": null,
      "outputs": [
        {
          "output_type": "stream",
          "name": "stdout",
          "text": [
            "+--------------------+\n",
            "|              sports|\n",
            "+--------------------+\n",
            "|          Gymnastics|\n",
            "|              Tennis|\n",
            "|              Boxing|\n",
            "|Short-Track Speed...|\n",
            "|          Ice Hockey|\n",
            "|              Rowing|\n",
            "|                Judo|\n",
            "|            Softball|\n",
            "|             Sailing|\n",
            "|            Swimming|\n",
            "|       Alpine Skiing|\n",
            "|          Basketball|\n",
            "|            Handball|\n",
            "| Rhythmic Gymnastics|\n",
            "|            Biathlon|\n",
            "|           Triathlon|\n",
            "|           Badminton|\n",
            "|           Athletics|\n",
            "|      Figure Skating|\n",
            "|    Beach Volleyball|\n",
            "|          Equestrian|\n",
            "|            Shooting|\n",
            "|              Diving|\n",
            "|            Skeleton|\n",
            "|         Ski Jumping|\n",
            "|     Nordic Combined|\n",
            "|           Wrestling|\n",
            "|       Speed Skating|\n",
            "|        Table Tennis|\n",
            "|           Taekwondo|\n",
            "|            Canoeing|\n",
            "|       Weightlifting|\n",
            "|           Waterpolo|\n",
            "|            Baseball|\n",
            "|   Modern Pentathlon|\n",
            "|        Snowboarding|\n",
            "|           Bobsleigh|\n",
            "|             Cycling|\n",
            "|Cross Country Skiing|\n",
            "|          Volleyball|\n",
            "|             Archery|\n",
            "|Synchronized Swim...|\n",
            "|             Curling|\n",
            "|             Fencing|\n",
            "|              Hockey|\n",
            "|    Freestyle Skiing|\n",
            "|            Football|\n",
            "|                Luge|\n",
            "|          Trampoline|\n",
            "+--------------------+\n",
            "\n"
          ]
        }
      ]
    },
    {
      "cell_type": "markdown",
      "source": [
        "**Write PySpark code to plot the total number of medals in  each Olympic Sport/game**"
      ],
      "metadata": {
        "id": "xUQIq6VYR9Ms"
      }
    },
    {
      "cell_type": "markdown",
      "source": [
        "to plot total number of medals won in each sport, first we need to get a table where sports is grouped by sum of total medals. "
      ],
      "metadata": {
        "id": "0jnIml7Wtgq7"
      }
    },
    {
      "cell_type": "code",
      "source": [
        "get_sport_medal=df_spark.groupBy('sports').sum('total_medal') #grouping sports with sum of total medals"
      ],
      "metadata": {
        "id": "4RzrNyrQQ9-F"
      },
      "execution_count": null,
      "outputs": []
    },
    {
      "cell_type": "markdown",
      "source": [
        "below we got the table where we have different sports and sum of total medals won in each sports."
      ],
      "metadata": {
        "id": "wTN00n_bt5iU"
      }
    },
    {
      "cell_type": "code",
      "source": [
        "get_sport_medal.show()"
      ],
      "metadata": {
        "colab": {
          "base_uri": "https://localhost:8080/"
        },
        "id": "gv7zWAn7URLB",
        "outputId": "becacb1c-1a74-4f51-f5e5-0a683339e513"
      },
      "execution_count": null,
      "outputs": [
        {
          "output_type": "stream",
          "name": "stdout",
          "text": [
            "+--------------------+----------------+\n",
            "|              sports|sum(total_medal)|\n",
            "+--------------------+----------------+\n",
            "|          Gymnastics|             282|\n",
            "|              Tennis|              78|\n",
            "|              Boxing|             188|\n",
            "|Short-Track Speed...|             138|\n",
            "|          Ice Hockey|             384|\n",
            "|              Rowing|             576|\n",
            "|                Judo|             224|\n",
            "|            Softball|             134|\n",
            "|             Sailing|             210|\n",
            "|            Swimming|             765|\n",
            "|       Alpine Skiing|              90|\n",
            "|          Basketball|             287|\n",
            "|            Handball|             351|\n",
            "| Rhythmic Gymnastics|              84|\n",
            "|            Biathlon|             138|\n",
            "|           Triathlon|              24|\n",
            "|           Badminton|              96|\n",
            "|           Athletics|             753|\n",
            "|      Figure Skating|              54|\n",
            "|    Beach Volleyball|              48|\n",
            "+--------------------+----------------+\n",
            "only showing top 20 rows\n",
            "\n"
          ]
        }
      ]
    },
    {
      "cell_type": "markdown",
      "source": [
        "with the above data, we can plot bar plot using pyplot. for that, we need to convert the above dataframe to pandas and we have to perform visualization"
      ],
      "metadata": {
        "id": "IjeJnBPquD04"
      }
    },
    {
      "cell_type": "code",
      "source": [
        "df_medal_spark=get_sport_medal.toPandas() #converting the dataframe to pandas"
      ],
      "metadata": {
        "id": "67Z2xA7JSMTh"
      },
      "execution_count": null,
      "outputs": []
    },
    {
      "cell_type": "code",
      "source": [
        "#visualizing the data using pyplot\n",
        "plt.figure(figsize=(12,4))\n",
        "plt.title('total medals won for each sport')\n",
        "plt.xlabel('sports')\n",
        "plt.ylabel('total medals')\n",
        "plt.xticks(rotation=90)\n",
        "plt.bar('sports','sum(total_medal)',data=df_medal_spark)"
      ],
      "metadata": {
        "colab": {
          "base_uri": "https://localhost:8080/",
          "height": 433
        },
        "id": "TMf3HTkVS6hF",
        "outputId": "80922dbb-486d-4ac6-f37c-3b9dc50f2fe7"
      },
      "execution_count": null,
      "outputs": [
        {
          "output_type": "execute_result",
          "data": {
            "text/plain": [
              "<BarContainer object of 49 artists>"
            ]
          },
          "metadata": {},
          "execution_count": 34
        },
        {
          "output_type": "display_data",
          "data": {
            "text/plain": [
              "<Figure size 864x288 with 1 Axes>"
            ],
            "image/png": "[encoded data removed]"
          },
          "metadata": {
            "needs_background": "light"
          }
        }
      ]
    },
    {
      "cell_type": "markdown",
      "source": [
        "**Sort the result based on the total number of medals.**"
      ],
      "metadata": {
        "id": "KF0RfCDUUd2X"
      }
    },
    {
      "cell_type": "markdown",
      "source": [
        "to sort the above table, we need to use order by which is availabe in pyspark.sql.functions library. so we need to import the library to get the desired result."
      ],
      "metadata": {
        "id": "6Ycm5lW4usb3"
      }
    },
    {
      "cell_type": "code",
      "source": [
        "# importing sql library\n",
        "import pyspark.sql.functions as f"
      ],
      "metadata": {
        "id": "z6Sz8xh9VEj4"
      },
      "execution_count": null,
      "outputs": []
    },
    {
      "cell_type": "code",
      "source": [
        "get_sport_medal.orderBy(f.desc('sum(total_medal)')).show() #table is ordered based on total medals won from highest to lowest."
      ],
      "metadata": {
        "colab": {
          "base_uri": "https://localhost:8080/"
        },
        "id": "WhW48g0XUppM",
        "outputId": "858be139-1329-49d9-99fc-2a1cdf9339d9"
      },
      "execution_count": null,
      "outputs": [
        {
          "output_type": "stream",
          "name": "stdout",
          "text": [
            "+----------+----------------+\n",
            "|    sports|sum(total_medal)|\n",
            "+----------+----------------+\n",
            "|  Swimming|             765|\n",
            "| Athletics|             753|\n",
            "|    Rowing|             576|\n",
            "|  Football|             407|\n",
            "|    Hockey|             388|\n",
            "|Ice Hockey|             384|\n",
            "|  Handball|             351|\n",
            "|  Canoeing|             333|\n",
            "| Waterpolo|             306|\n",
            "|   Cycling|             306|\n",
            "|Basketball|             287|\n",
            "|Gymnastics|             282|\n",
            "|Volleyball|             281|\n",
            "|   Fencing|             256|\n",
            "| Wrestling|             245|\n",
            "|      Judo|             224|\n",
            "|  Baseball|             216|\n",
            "|   Sailing|             210|\n",
            "|  Shooting|             192|\n",
            "|    Boxing|             188|\n",
            "+----------+----------------+\n",
            "only showing top 20 rows\n",
            "\n"
          ]
        }
      ]
    },
    {
      "cell_type": "markdown",
      "source": [
        "**Find the total number of medals won by each country in swimming.**"
      ],
      "metadata": {
        "id": "xmrb-tZ4VdmU"
      }
    },
    {
      "cell_type": "markdown",
      "source": [
        "we need to first filter the table with sport as swimming and we can groupby country with sum of total medals. so that we can get total medals won by each country in swimming"
      ],
      "metadata": {
        "id": "8R7RZhrtvmqA"
      }
    },
    {
      "cell_type": "code",
      "source": [
        "df_swim= df_spark.filter(df_spark.sports=='Swimming') #filtering the table with sport as swimming only.\n",
        "\n",
        "df_swim.groupBy('country').sum('total_medal').show() # extracting the total number of medals won by countries in swimming so far"
      ],
      "metadata": {
        "colab": {
          "base_uri": "https://localhost:8080/"
        },
        "id": "SQvunQXFVc53",
        "outputId": "e0e3be30-f425-43f3-9621-efd8b8f84ad9"
      },
      "execution_count": null,
      "outputs": [
        {
          "output_type": "stream",
          "name": "stdout",
          "text": [
            "+-------------+----------------+\n",
            "|      country|sum(total_medal)|\n",
            "+-------------+----------------+\n",
            "|       Russia|              20|\n",
            "|       Sweden|               9|\n",
            "|      Germany|              32|\n",
            "|       France|              39|\n",
            "|     Slovakia|               2|\n",
            "|    Argentina|               1|\n",
            "|Great Britain|              11|\n",
            "|United States|             267|\n",
            "|        China|              35|\n",
            "|      Belarus|               2|\n",
            "|      Croatia|               1|\n",
            "|        Italy|              16|\n",
            "|    Lithuania|               1|\n",
            "|       Norway|               2|\n",
            "|        Spain|               3|\n",
            "|      Denmark|               1|\n",
            "|      Ukraine|               7|\n",
            "|  South Korea|               4|\n",
            "|     Zimbabwe|               7|\n",
            "|      Tunisia|               3|\n",
            "+-------------+----------------+\n",
            "only showing top 20 rows\n",
            "\n"
          ]
        }
      ]
    },
    {
      "cell_type": "markdown",
      "source": [
        "**Find the total number of medals won by each country in Skeleton.**"
      ],
      "metadata": {
        "id": "tD2HCTBBflEW"
      }
    },
    {
      "cell_type": "markdown",
      "source": [
        "to find to total medals won by countries in skeleton, we need to first filter the data for skeleton sport. once we got the table with details pertaining to skeleton, we can group countries based and sum of total medals"
      ],
      "metadata": {
        "id": "X-MpiJbGw2oz"
      }
    },
    {
      "cell_type": "code",
      "source": [
        "df_skel= df_spark.filter(df_spark.sports=='Skeleton')\n",
        "\n",
        "df_skel.groupBy('country').sum('total_medal').show()"
      ],
      "metadata": {
        "colab": {
          "base_uri": "https://localhost:8080/"
        },
        "id": "Vfyad_nWfnO0",
        "outputId": "85ee85f9-a855-4091-a7e8-6dba4bc93db3"
      },
      "execution_count": null,
      "outputs": [
        {
          "output_type": "stream",
          "name": "stdout",
          "text": [
            "+-------------+----------------+\n",
            "|      country|sum(total_medal)|\n",
            "+-------------+----------------+\n",
            "|       Russia|               1|\n",
            "|      Germany|               2|\n",
            "|Great Britain|               3|\n",
            "|United States|               3|\n",
            "|  Switzerland|               3|\n",
            "|       Latvia|               1|\n",
            "|       Canada|               4|\n",
            "|      Austria|               1|\n",
            "+-------------+----------------+\n",
            "\n"
          ]
        }
      ]
    },
    {
      "cell_type": "markdown",
      "source": [
        "**Find the number of medals that the US won yearly.**"
      ],
      "metadata": {
        "id": "tWS2uWFkgK54"
      }
    },
    {
      "cell_type": "markdown",
      "source": [
        "here let us extract a table with years and total medals won by US in that year. for that, first we need to filter and get the table with details for country US only. once we get this table, we can group the year and sum of total medals won in that year."
      ],
      "metadata": {
        "id": "h8nQZHhIxa1I"
      }
    },
    {
      "cell_type": "code",
      "source": [
        "get_us_medal=df_spark.filter(df_spark.country=='United States') #filtering the table for details of country US\n",
        "\n",
        "us_medal=get_us_medal.groupBy('year').sum('total_medal') #grouping year and sum of total medals \n",
        "\n",
        "us_medal=us_medal.withColumnRenamed('sum(total_medal)','Total medals') #renaming the coumn name\n",
        "\n",
        "us_medal.orderBy(f.asc('year')).show()"
      ],
      "metadata": {
        "colab": {
          "base_uri": "https://localhost:8080/"
        },
        "id": "LWk1PYBugMxb",
        "outputId": "8b458209-866d-4ee8-da99-def011ad40da"
      },
      "execution_count": null,
      "outputs": [
        {
          "output_type": "stream",
          "name": "stdout",
          "text": [
            "+----+------------+\n",
            "|year|Total medals|\n",
            "+----+------------+\n",
            "|2000|         243|\n",
            "|2002|          84|\n",
            "|2004|         265|\n",
            "|2006|          52|\n",
            "|2008|         317|\n",
            "|2010|          97|\n",
            "|2012|         254|\n",
            "+----+------------+\n",
            "\n"
          ]
        }
      ]
    },
    {
      "cell_type": "markdown",
      "source": [
        "**Find the total number of medals won by each country.**"
      ],
      "metadata": {
        "id": "TKgDZYCkipXk"
      }
    },
    {
      "cell_type": "markdown",
      "source": [
        "to get the total medals won by each country, we need to use group by function and we can order it according to total medals."
      ],
      "metadata": {
        "id": "WOpqSyJczMiz"
      }
    },
    {
      "cell_type": "code",
      "source": [
        "get_tot_ctry=df_spark.groupBy('country').sum('total_medal') #grouping countries and sum of total medals\n",
        "get_tot_ctry.orderBy(f.desc('sum(total_medal)')).show()"
      ],
      "metadata": {
        "colab": {
          "base_uri": "https://localhost:8080/"
        },
        "id": "NTFkQJ-LirT3",
        "outputId": "9f182c1e-52f8-494c-c629-f89299a8d370"
      },
      "execution_count": null,
      "outputs": [
        {
          "output_type": "stream",
          "name": "stdout",
          "text": [
            "+-------------+----------------+\n",
            "|      country|sum(total_medal)|\n",
            "+-------------+----------------+\n",
            "|United States|            1312|\n",
            "|       Russia|             768|\n",
            "|      Germany|             629|\n",
            "|    Australia|             609|\n",
            "|        China|             530|\n",
            "|       Canada|             370|\n",
            "|        Italy|             331|\n",
            "|Great Britain|             322|\n",
            "|       France|             318|\n",
            "|  Netherlands|             318|\n",
            "|  South Korea|             308|\n",
            "|        Japan|             282|\n",
            "|       Brazil|             221|\n",
            "|        Spain|             205|\n",
            "|       Norway|             192|\n",
            "|         Cuba|             188|\n",
            "|       Sweden|             181|\n",
            "|      Hungary|             145|\n",
            "|      Ukraine|             143|\n",
            "|    Argentina|             141|\n",
            "+-------------+----------------+\n",
            "only showing top 20 rows\n",
            "\n"
          ]
        }
      ]
    },
    {
      "cell_type": "markdown",
      "source": [
        "***Who was the oldest athlete in the olympics? ***"
      ],
      "metadata": {
        "id": "l_dhHr3ejDSe"
      }
    },
    {
      "cell_type": "markdown",
      "source": [
        "to get the oldest athlete in the olympics, we can use aggregate function to get maximum column and we can filter the data for that age"
      ],
      "metadata": {
        "id": "OFFo9GeK1Tby"
      }
    },
    {
      "cell_type": "code",
      "source": [
        "df_spark.agg({'age':'max'}).show()\n",
        "\n"
      ],
      "metadata": {
        "colab": {
          "base_uri": "https://localhost:8080/"
        },
        "id": "bOYOQ3GOjHuw",
        "outputId": "7bc2944f-b839-4e9f-b0e8-681f0f7e8333"
      },
      "execution_count": null,
      "outputs": [
        {
          "output_type": "stream",
          "name": "stdout",
          "text": [
            "+--------+\n",
            "|max(age)|\n",
            "+--------+\n",
            "|      61|\n",
            "+--------+\n",
            "\n"
          ]
        }
      ]
    },
    {
      "cell_type": "markdown",
      "source": [
        "we can see that oldest athlete participated in olympics is of age 61. to get the name of the athlete, we can filter the table with age as 61."
      ],
      "metadata": {
        "id": "dnLm4rxG11j-"
      }
    },
    {
      "cell_type": "code",
      "source": [
        "df_spark.filter(df_spark.age==61).show()"
      ],
      "metadata": {
        "colab": {
          "base_uri": "https://localhost:8080/"
        },
        "id": "NNtqecqX1zx6",
        "outputId": "6d1741dc-faaa-43b7-97f3-9e0dacac3548"
      },
      "execution_count": null,
      "outputs": [
        {
          "output_type": "stream",
          "name": "stdout",
          "text": [
            "+----------+---+-------+----+----------+----------+----------+------------+-----------+-----------+\n",
            "|      name|age|country|year|Date_Given|    sports|gold_medal|silver_medal|brone_medal|total_medal|\n",
            "+----------+---+-------+----+----------+----------+----------+------------+-----------+-----------+\n",
            "|Ian Millar| 61| Canada|2008| 8/24/2008|Equestrian|         0|           1|          0|          1|\n",
            "+----------+---+-------+----+----------+----------+----------+------------+-----------+-----------+\n",
            "\n"
          ]
        }
      ]
    },
    {
      "cell_type": "markdown",
      "source": [
        "the oldest athlete is of age 61 and his name is Ian Millar."
      ],
      "metadata": {
        "id": "Jm0_ZFWe2VUs"
      }
    },
    {
      "cell_type": "markdown",
      "source": [
        "**Which country was he/she from?**"
      ],
      "metadata": {
        "id": "a2MomBYn3Qi1"
      }
    },
    {
      "cell_type": "code",
      "source": [
        "df_spark.filter(df_spark.age==61).show()"
      ],
      "metadata": {
        "colab": {
          "base_uri": "https://localhost:8080/"
        },
        "id": "sXgYSxVW3TOy",
        "outputId": "098c2c3e-80a6-421a-9942-4e6490d7cb17"
      },
      "execution_count": null,
      "outputs": [
        {
          "output_type": "stream",
          "name": "stdout",
          "text": [
            "+----------+---+-------+----+----------+----------+----------+------------+-----------+-----------+\n",
            "|      name|age|country|year|Date_Given|    sports|gold_medal|silver_medal|brone_medal|total_medal|\n",
            "+----------+---+-------+----+----------+----------+----------+------------+-----------+-----------+\n",
            "|Ian Millar| 61| Canada|2008| 8/24/2008|Equestrian|         0|           1|          0|          1|\n",
            "+----------+---+-------+----+----------+----------+----------+------------+-----------+-----------+\n",
            "\n"
          ]
        }
      ]
    },
    {
      "cell_type": "markdown",
      "source": [
        "from the above output, we can see that, the oldest athelete Ian Millar belong to country Canada."
      ],
      "metadata": {
        "id": "l75u33ut3WNR"
      }
    }
  ]
}