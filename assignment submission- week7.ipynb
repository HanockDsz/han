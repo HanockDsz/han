{
  "cells": [
    {
      "cell_type": "markdown",
      "metadata": {
        "nbgrader": {
          "grade": false,
          "grade_id": "cell-0a1cd97d29171e27",
          "locked": true,
          "schema_version": 3,
          "solution": false,
          "task": false
        },
        "id": "oVdjdKzOfOwD"
      },
      "source": [
        "# Rules:\n",
        "    1. Follow the given instructions strictly as the assignment will be automatically rejected if not done so.\n",
        "    2. After you are done answering the questions, save the notebook in .ipynb format and rename it as so;\n",
        "        \n",
        "        <<Your name as visible on 'My Courses' page as shown below>>_PW2-A1.ipynb\n",
        "        \n",
        "    3. After renaming the file as above submit onto the platform."
      ]
    },
    {
      "cell_type": "markdown",
      "metadata": {
        "nbgrader": {
          "grade": false,
          "grade_id": "cell-39806162dd625703",
          "locked": true,
          "schema_version": 3,
          "solution": false,
          "task": false
        },
        "id": "buKFILD9fOwH"
      },
      "source": [
        "# Python W2 - Assignment 01"
      ]
    },
    {
      "cell_type": "markdown",
      "metadata": {
        "nbgrader": {
          "grade": false,
          "grade_id": "Q1",
          "locked": true,
          "schema_version": 3,
          "solution": false,
          "task": false
        },
        "id": "JNRqhSblfOwI"
      },
      "source": [
        "### 1. String Manipulation\n",
        "\n",
        "Match the following string methods with the respective output in the below options\n",
        "\n",
        "Here,\n",
        " `string= \"this is old python course\"`"
      ]
    },
    {
      "cell_type": "markdown",
      "metadata": {
        "id": "8TevCX5MfOwI"
      },
      "source": [
        "| Statement | Output |\n",
        "| --- | --- |\n",
        "| (a) string.count(\"is\") | (1) True |\n",
        "| (b) string.replace(\"old\", \"new\") | (2) 12 |\n",
        "| (c) string.index(\"python\") | (3) 'this is new python course' |\n",
        "| (d) string.startswith(\"this\") | (4) 2 |\n",
        "| (e) string.isalnum() | (5) False |\n",
        "| (g) string.strip(\"this is old\") | (6) 'python course' |"
      ]
    },
    {
      "cell_type": "markdown",
      "metadata": {
        "nbgrader": {
          "grade": true,
          "grade_id": "A1",
          "locked": false,
          "points": 2,
          "schema_version": 3,
          "solution": true,
          "task": false
        },
        "id": "mT-rBqoZfOwJ"
      },
      "source": [
        "#YOUR ANSWER HERE"
      ]
    },
    {
      "cell_type": "code",
      "execution_count": null,
      "metadata": {
        "nbgrader": {
          "grade": false,
          "grade_id": "cell-bdbb11386adf6c13",
          "locked": true,
          "schema_version": 3,
          "solution": false,
          "task": false
        },
        "id": "AO_tj4bsfOwJ"
      },
      "outputs": [],
      "source": [
        "#(a). string.count(\"is\")=> 2\n",
        "#(b). string.replace(\"old\",\"new\")=> 'this is new python course'\n",
        "#(c). string.index(\"python\")=> 12\n",
        "#(d). string.startswith(\"this\")=> True\n",
        "#(e). string.isalnum() => False\n",
        "#(e). string.strip(\"this is old\")=> 'python course'\n",
        "\n",
        "\n"
      ]
    },
    {
      "cell_type": "markdown",
      "metadata": {
        "nbgrader": {
          "grade": false,
          "grade_id": "cell-a13189a026c3771d",
          "locked": true,
          "schema_version": 3,
          "solution": false,
          "task": false
        },
        "id": "6MoYrZuufOwL"
      },
      "source": [
        "### 2. Nested Conditions\n",
        "\n",
        "\n"
      ]
    },
    {
      "cell_type": "code",
      "execution_count": null,
      "metadata": {
        "id": "w2QwDGOAfOwM"
      },
      "outputs": [],
      "source": [
        "x = int(input())\n",
        "y = int(input())\n",
        "z = int(input())\n",
        "\n",
        "#Block-1 Start\n",
        "\n",
        "if x > 0 or y> 0 or z > 0:\n",
        "    if (x > 0 and y> 0) or (y> 0 and z> 0) or (z> 0 and x > 0):\n",
        "        if x > 0 and y> 0 and z > 0:\n",
        "            print('P3')\n",
        "        else:\n",
        "            print('P2')\n",
        "    else:\n",
        "        print('P1')\n",
        "\n",
        "#Block-1 End\n",
        "\n",
        "\n",
        "# Block-2 Start\n",
        "\n",
        "if x <0 or y<0 or z < 0:\n",
        "    if (x < 0 and y< 0) or (y< 0 and z< 0) or (z< 0 and x < 0):\n",
        "            if x < 0 and y< 0 and z < 0:\n",
        "                print('N3')\n",
        "            else:\n",
        "                print('N2')\n",
        "    else:\n",
        "        print('N1')\n",
        "\n",
        "\n",
        "#Block-2 End"
      ]
    },
    {
      "cell_type": "markdown",
      "metadata": {
        "id": "QLjAjhjufOwM"
      },
      "source": [
        "What will be the output for the below input of x,y and z?\n",
        "\n",
        "x= -1\n",
        "y= 4\n",
        "z= 1"
      ]
    },
    {
      "cell_type": "markdown",
      "metadata": {
        "nbgrader": {
          "grade": true,
          "grade_id": "cell-5b0ec5b5f53b7705",
          "locked": false,
          "points": 2,
          "schema_version": 3,
          "solution": true,
          "task": false
        },
        "id": "tfXPnzK1fOwN"
      },
      "source": [
        "P2 and N1"
      ]
    },
    {
      "cell_type": "markdown",
      "metadata": {
        "nbgrader": {
          "grade": false,
          "grade_id": "Q2",
          "locked": true,
          "schema_version": 3,
          "solution": false,
          "task": false
        },
        "id": "75Eh6pUpfOwO"
      },
      "source": [
        "### 3. String slicing\n"
      ]
    },
    {
      "cell_type": "code",
      "execution_count": null,
      "metadata": {
        "id": "b0FJZscafOwO"
      },
      "outputs": [],
      "source": [
        "a = int(input())\n",
        "\n",
        "b= int(input())\n",
        "\n",
        "c= int(input())\n",
        "\n",
        "d = int(input())\n",
        "\n",
        "e = int(input())\n",
        "\n",
        "print(s[-a:-len(s):-3])\n",
        "\n",
        "print (s[::-b])\n",
        "\n",
        "print (s[c:0:-3])\n",
        "\n",
        "print (s[len(s): - d:-3])\n",
        "\n",
        "print (s[:e:-3])"
      ]
    },
    {
      "cell_type": "markdown",
      "metadata": {
        "nbgrader": {
          "grade": true,
          "grade_id": "A2",
          "locked": false,
          "points": 2,
          "schema_version": 3,
          "solution": true,
          "task": false
        },
        "id": "BhEYvNG4fOwP"
      },
      "source": [
        "Consider that the string `s='abcdefghijklmnopqrstuvwxyz'`\\\n",
        "For what user input of a, b, c, d and e (where 0 <= a,b,c,d,e< len(s) ) does the above code-snippet print following output?\\\n",
        "It is a Numerical Answer Type (NAT) question. Enter your input value separated by, without any space like: 7,15,0,4,0\n",
        "\n",
        "`zwtqnkheb`\n",
        "\n",
        "`zwtqnkheb`\n",
        "\n",
        "`zwtqnkheb`\n",
        "\n",
        "`zwtqnkheb`\n",
        "\n",
        "`zwtqnkheb`"
      ]
    },
    {
      "cell_type": "code",
      "execution_count": null,
      "metadata": {
        "nbgrader": {
          "grade": false,
          "grade_id": "cell-c583dcd635f03dab",
          "locked": true,
          "schema_version": 3,
          "solution": false,
          "task": false
        },
        "id": "tuAxd21DfOwP"
      },
      "outputs": [],
      "source": [
        "#  1,3,25,0,25"
      ]
    },
    {
      "cell_type": "markdown",
      "metadata": {
        "nbgrader": {
          "grade": false,
          "grade_id": "Q3",
          "locked": true,
          "schema_version": 3,
          "solution": false,
          "task": false
        },
        "id": "M-q5mF6ifOwP"
      },
      "source": [
        "### 4. Code Brackets\n",
        "\n",
        "Consider the program in the code cell below;"
      ]
    },
    {
      "cell_type": "code",
      "execution_count": null,
      "metadata": {
        "id": "W2lpAXnmfOwQ"
      },
      "outputs": [],
      "source": [
        "match= False\n",
        "if s.count('(') == s.count(')'):\n",
        "    if s.count('{') == s.count('}'):\n",
        "        if s.count('[') == s.count(']'):\n",
        "            match = True"
      ]
    },
    {
      "cell_type": "markdown",
      "metadata": {
        "nbgrader": {
          "grade": true,
          "grade_id": "A3",
          "locked": false,
          "points": 2,
          "schema_version": 3,
          "solution": true,
          "task": false
        },
        "id": "d6ZxggLlfOwQ"
      },
      "source": [
        "If s = \"abcd(efgh(ijkl}{{}))\" what will be the value of match at the end of execution and justification?\n",
        "\n",
        "1. False, the number of opening and closing brackets are only considered\n",
        "2. False, the position of opening and closing brackets are not considered.\n",
        "3. True, the number of opening and closing brackets are only considered\n",
        "4. True, the number and position of opening and closing brackets are considered.\n"
      ]
    },
    {
      "cell_type": "code",
      "execution_count": null,
      "metadata": {
        "nbgrader": {
          "grade": false,
          "grade_id": "cell-f0e0b9c35862e705",
          "locked": true,
          "schema_version": 3,
          "solution": false,
          "task": false
        },
        "id": "iKyvLlBOfOwQ"
      },
      "outputs": [],
      "source": [
        "# 3.True, the number of opening and closing brackets are only considered "
      ]
    },
    {
      "cell_type": "markdown",
      "metadata": {
        "id": "1g9gQHd3fOwQ"
      },
      "source": [
        "### 5. Code Error\n",
        "\n",
        "The following code accepts three sides of a triangle as input from the user and determines if the triangle is equilateral, isosceles or scalene. Assume that all three sides of the triangle are integers. Is something wrong with the code? If so, explain what’s wrong along with the correct code."
      ]
    },
    {
      "cell_type": "code",
      "execution_count": null,
      "metadata": {
        "id": "uI9kr4iBfOwR"
      },
      "outputs": [],
      "source": [
        "x, y, z = int(input()), int(input()), int(input())\n",
        "\n",
        "if x == y and y == z:\n",
        "    print('Equilateral')\n",
        "elif x == y and x != z:\n",
        "    print('Isosceles')\n",
        "elif x == z and x != y:\n",
        "    print('Isosceles')\n",
        "else:\n",
        "    print('Scalene')\n"
      ]
    },
    {
      "cell_type": "markdown",
      "metadata": {
        "id": "zKLQhxCwfOwR"
      },
      "source": [
        "in the code, for isosceles triangle, there is a chance that y==z and x!=y. this case also is possible and \n",
        "satisfies isoceles triangle. the code will be:\n",
        "\n",
        "x, y, z = int(input()), int(input()), int(input())\n",
        "\n",
        "if x == y and y == z:\n",
        "    print('Equilateral')\n",
        "elif x == y and x != z:\n",
        "    print('Isosceles')\n",
        "elif x == z and x != y:\n",
        "    print('Isosceles')\n",
        "elif y==z and x!=y:\n",
        "    print('isosceles')\n",
        "else:\n",
        "    print('Scalene')"
      ]
    },
    {
      "cell_type": "markdown",
      "metadata": {
        "id": "LRTe-vf-fOwR"
      },
      "source": [
        "## Programming Questions\n",
        "\n",
        "Instructions:\n",
        "- Enter your solution in the cell block below only. Double click to edit.\n",
        "- Do not edit anything else apart from 'YOUR ANSWER HERE' for your solution"
      ]
    },
    {
      "cell_type": "markdown",
      "metadata": {
        "id": "UdNAMFbYfOwS"
      },
      "source": [
        "### 6. String Encryption\n",
        "\n",
        "Accept a string from the user and print the encrypted string according to the following conditions\n",
        "\n",
        "* Each letter should be replaced by the letter which is at the same position from reverse in alphabets like `a` is replaced by `z`, `b` is replaced by `y`,  `y` is replaced by `b`, `z` is replaced by `a`\n",
        "\n",
        "* Uppercase letters should be in uppercase and lowercase letters should be in lowercase after conversion.\n",
        "\n",
        "* Each digit should be replaced by a digit which is at the same position from reverse in (0,1,2...9) like, `0` is replaced by `9`, `1` is replaced by `8`, `8` is replaced by `1` and `9` is replaced by `0`.\n",
        "\n",
        "* Blank space should be replaced by underscore: `_` and other types of character remain the same."
      ]
    },
    {
      "cell_type": "code",
      "execution_count": null,
      "metadata": {
        "id": "6RMNkmNnfOwS"
      },
      "outputs": [],
      "source": [
        "st=input(\"enter a string: \")\n",
        "st1= st[::-1]\n",
        "st1=st1.replace(\" \",\"_\")\n",
        "print(st1)"
      ]
    },
    {
      "cell_type": "markdown",
      "metadata": {
        "id": "5ZQOuPwffOwS"
      },
      "source": [
        "### 7. Accept a sentence as input and find the number of words in it. Assume that the sentence has no punctuation marks\n",
        "\n",
        "Example:\n",
        "\n",
        "what a shot - 3 words\n",
        "\n",
        "this is a chair - 4 words"
      ]
    },
    {
      "cell_type": "code",
      "execution_count": null,
      "metadata": {
        "id": "cAP6Jt1YfOwS"
      },
      "outputs": [],
      "source": [
        "string=input(\"enter a sentence= \")\n",
        "st1=string.split(\" \")\n",
        "print(\"no. of words are: \",len(st1))"
      ]
    },
    {
      "cell_type": "markdown",
      "metadata": {
        "id": "WbQDi1PxfOwS"
      },
      "source": [
        "### 8. Sandwich number\n",
        "\n",
        "A three digit number is called a sandwich number if the difference between its first and last digit is equal to its middle digit. Accept a three digit number as input and print “sandwich” if the number is a sandwich number. Print “plain” if the number is not a sandwich number. For example, 123 and 853 are sandwich numbers."
      ]
    },
    {
      "cell_type": "code",
      "execution_count": null,
      "metadata": {
        "id": "NcJSVcXQfOwT"
      },
      "outputs": [],
      "source": [
        "a = input(\"enter a 3 digit number: \")    \n",
        "b=list(map(int, a))\n",
        "if((b[2]-b[0])==b[1]):\n",
        "  print(\"sandwich number\")\n",
        "else:\n",
        "  print(\"not sandwich number\")"
      ]
    },
    {
      "cell_type": "markdown",
      "metadata": {
        "id": "ZHVC9i1sfOwT"
      },
      "source": [
        "### 9. Quadrants\n",
        "\n",
        "Write a Python code to find the quadrant of a point taken as input from the user. The input is given in 2 lines with the first and second lines representing the x coordinate and y coordinate of the point respectively. The possible outputs are I, II, III, IV, X-axis, Y-axis, and origin. Any other output will not be accepted, Take care of the upper and lower cases while printing the output.\n",
        "\n",
        "\n",
        "| Sample Input | Output |\n",
        "| ---- | ---- |\n",
        "| 1,2 | Quadarant I |\n",
        "| 1.8,-1 | Quadrant IV |\n",
        "| 0,0 | Quadrant I |\n",
        " "
      ]
    },
    {
      "cell_type": "code",
      "execution_count": null,
      "metadata": {
        "id": "9Nwe0e_yfOwT"
      },
      "outputs": [],
      "source": [
        "x=int(input(\"enter x conrdinate\"))\n",
        "y=int(input(\"enter y cordinate\"))\n",
        "if(x>0 and y>0):\n",
        "  print(\"Quadrant I\")\n",
        "elif(x>0 and y<0):\n",
        "  print(\"Quadrant II\")\n",
        "elif(x<0 and y<0):\n",
        "  print(\"Quaddrant III\")\n",
        "elif(x<0 and y>0):\n",
        "  print(\"Quadrant IV\")\n",
        "else:\n",
        "  print(\"Origin\")  "
      ]
    },
    {
      "cell_type": "code",
      "execution_count": null,
      "metadata": {
        "id": "YeHJ7Uy6fOwT"
      },
      "outputs": [],
      "source": [
        ""
      ]
    }
  ],
  "metadata": {
    "celltoolbar": "Create Assignment",
    "kernelspec": {
      "display_name": "Python 3 (ipykernel)",
      "language": "python",
      "name": "python3"
    },
    "language_info": {
      "codemirror_mode": {
        "name": "ipython",
        "version": 3
      },
      "file_extension": ".py",
      "mimetype": "text/x-python",
      "name": "python",
      "nbconvert_exporter": "python",
      "pygments_lexer": "ipython3",
      "version": "3.10.2"
    },
    "toc": {
      "base_numbering": 1,
      "nav_menu": {},
      "number_sections": true,
      "sideBar": true,
      "skip_h1_title": false,
      "title_cell": "Table of Contents",
      "title_sidebar": "Contents",
      "toc_cell": false,
      "toc_position": {},
      "toc_section_display": true,
      "toc_window_display": false
    },
    "varInspector": {
      "cols": {
        "lenName": 16,
        "lenType": 16,
        "lenVar": 40
      },
      "kernels_config": {
        "python": {
          "delete_cmd_postfix": "",
          "delete_cmd_prefix": "del ",
          "library": "var_list.py",
          "varRefreshCmd": "print(var_dic_list())"
        },
        "r": {
          "delete_cmd_postfix": ") ",
          "delete_cmd_prefix": "rm(",
          "library": "var_list.r",
          "varRefreshCmd": "cat(var_dic_list()) "
        }
      },
      "types_to_exclude": [
        "module",
        "function",
        "builtin_function_or_method",
        "instance",
        "_Feature"
      ],
      "window_display": false
    },
    "colab": {
      "name": "PW2-A1_neW.ipynb",
      "provenance": [],
      "collapsed_sections": []
    }
  },
  "nbformat": 4,
  "nbformat_minor": 0
}