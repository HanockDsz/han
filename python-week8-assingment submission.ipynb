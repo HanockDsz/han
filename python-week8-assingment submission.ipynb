{
  "cells": [
    {
      "cell_type": "markdown",
      "metadata": {
        "nbgrader": {
          "grade": false,
          "grade_id": "cell-0a1cd97d29171e27",
          "locked": true,
          "schema_version": 3,
          "solution": false,
          "task": false
        },
        "id": "-gYNcPVRjE6e"
      },
      "source": [
        "# Rules:\n",
        "    1. Follow the given instructions strictly as the assignment will be automatically rejected if not done so.\n",
        "    2. After you are done answering the questions, save the notebook in .ipynb format and rename it as so;\n",
        "        \n",
        "        <<Your name as visible on 'My Courses' page as shown below>>_PW3-A1.ipynb\n",
        "        \n",
        "    3. After renaming the file as above submit onto the platform."
      ]
    },
    {
      "cell_type": "markdown",
      "metadata": {
        "nbgrader": {
          "grade": false,
          "grade_id": "cell-39806162dd625703",
          "locked": true,
          "schema_version": 3,
          "solution": false,
          "task": false
        },
        "id": "GIv90UeCjE6h"
      },
      "source": [
        "# Python W3 - Assignment 01"
      ]
    },
    {
      "cell_type": "markdown",
      "metadata": {
        "deletable": false,
        "editable": false,
        "nbgrader": {
          "cell_type": "markdown",
          "checksum": "826356eed441591b2d82f7e2fbed11df",
          "grade": false,
          "grade_id": "Q1",
          "locked": true,
          "schema_version": 3,
          "solution": false,
          "task": false
        },
        "id": "HJMF2GGWjE6i"
      },
      "source": [
        "\n",
        "## 1. Data Collection Types\n",
        "\n",
        "List down the definitions and differences between the different data collection types in python\n",
        "\n",
        "Instructions:\n",
        "- Enter your solution in the cell block below only. Double click to edit.\n",
        "- Do not edit anything else apart from 'YOUR ANSWER HERE' for your solution"
      ]
    },
    {
      "cell_type": "markdown",
      "metadata": {
        "deletable": false,
        "nbgrader": {
          "cell_type": "markdown",
          "checksum": "b1bb0f26c3115f4d7d7f924544ba6de8",
          "grade": true,
          "grade_id": "A1",
          "locked": false,
          "points": 2,
          "schema_version": 3,
          "solution": true,
          "task": false
        },
        "id": "LIzp5e3mjE6i"
      },
      "source": [
        "lists: A list is collection of values which have order, and are mutable. we can do changes in the list like appending, removing, replacing, deleting etc.\n",
        "\n",
        "Tupple: A tupple is a collection of values which have order but they are immutable. we canot do any changes to the values which are in tupple.\n",
        "\n",
        "sets: A set is an unordered collection of data. It is immutable and donot take duplicate values. we can perform operations like intersection, union, difference.\n",
        "\n",
        "Dictionary: A dictionary is an unordered collection of keys and value pair. A dictionary can have number of key and value pairs."
      ]
    },
    {
      "cell_type": "markdown",
      "metadata": {
        "nbgrader": {
          "grade": false,
          "grade_id": "Q1",
          "locked": true,
          "schema_version": 3,
          "solution": false,
          "task": false
        },
        "id": "n5z-uxotjE6i"
      },
      "source": [
        "\n",
        "## 2. What does average represent at the end of the execution ?\n"
      ]
    },
    {
      "cell_type": "code",
      "execution_count": null,
      "metadata": {
        "nbgrader": {
          "grade": false,
          "grade_id": "cell-bdbb11386adf6c13",
          "locked": true,
          "schema_version": 3,
          "solution": false,
          "task": false
        },
        "id": "7dr8indBjE6j"
      },
      "outputs": [],
      "source": [
        "total,count= 0,0\n",
        "\n",
        "for i in range(1000):\n",
        "    if i%2 != 0 and count <= 50:\n",
        "        total = total + i\n",
        "        count = count + 1\n",
        "average = total / count\n",
        "print(average)"
      ]
    },
    {
      "cell_type": "markdown",
      "metadata": {
        "id": "qvJfWANdjE6k"
      },
      "source": [
        "| Options |\n",
        "| --- |\n",
        "| (a) average of 1 to 1000 numbers |\n",
        "| (b) average of first 1000 odd numbers |\n",
        "| (c) average of first 50 odd numbers |\n",
        "| (d) average of first 51 odd numbers |"
      ]
    },
    {
      "cell_type": "markdown",
      "metadata": {
        "nbgrader": {
          "grade": true,
          "grade_id": "A1",
          "locked": false,
          "points": 2,
          "schema_version": 3,
          "solution": true,
          "task": false
        },
        "id": "I1nNGcZ-jE6k"
      },
      "source": [
        "c. average of first 50 odd numbers.\n",
        "\n",
        "in the loop, integer i will enter inside the loop, if i is an odd number and till the value of i is <=50."
      ]
    },
    {
      "cell_type": "markdown",
      "metadata": {
        "nbgrader": {
          "grade": false,
          "grade_id": "cell-a13189a026c3771d",
          "locked": true,
          "schema_version": 3,
          "solution": false,
          "task": false
        },
        "id": "50CZhkKgjE6l"
      },
      "source": [
        "## 3. How many asterisks does the following code print ?"
      ]
    },
    {
      "cell_type": "code",
      "execution_count": null,
      "metadata": {
        "id": "a16PkMdVjE6l"
      },
      "outputs": [],
      "source": [
        "i = -3\n",
        "while (i<=13):\n",
        "    print('**')\n",
        "    print('*')\n",
        "    i = i+1"
      ]
    },
    {
      "cell_type": "markdown",
      "metadata": {
        "id": "mkqpYWJujE6l"
      },
      "source": [
        "| Options |\n",
        "| --- |\n",
        "| (a) 51 |\n",
        "| (b) 25 |\n",
        "| (c) 39 |\n",
        "| (d) 48 |"
      ]
    },
    {
      "cell_type": "markdown",
      "metadata": {
        "nbgrader": {
          "grade": true,
          "grade_id": "cell-5b0ec5b5f53b7705",
          "locked": false,
          "points": 2,
          "schema_version": 3,
          "solution": true,
          "task": false
        },
        "id": "O_ZjjI3ujE6l"
      },
      "source": [
        "A. 51.\n",
        "loop will be repeated up to 17 times. 17x 3 is 51\n"
      ]
    },
    {
      "cell_type": "markdown",
      "metadata": {
        "deletable": false,
        "editable": false,
        "nbgrader": {
          "cell_type": "markdown",
          "checksum": "0b48b77acc592a14a5eab148294322c2",
          "grade": false,
          "grade_id": "Q4",
          "locked": true,
          "schema_version": 3,
          "solution": false,
          "task": false
        },
        "id": "AF00DZLPjE6l"
      },
      "source": [
        "## 4. List Operations\n",
        "\n",
        "Given two lists, write a program to perform the following operations on the lists;\n",
        "- Union\n",
        "- Intersection\n",
        "- Left Difference\n",
        "- Right Difference\n",
        "\n",
        "Instructions:\n",
        "- Enter your solution in the cell block below only.\n",
        "- Do not edit anything else apart from 'YOUR ANSWER HERE' for your solution"
      ]
    },
    {
      "cell_type": "code",
      "execution_count": 10,
      "metadata": {
        "colab": {
          "base_uri": "https://localhost:8080/"
        },
        "id": "N20Qn5UajE6m",
        "outputId": "b903e962-6dff-4f69-b8a2-fd6bea55aee0"
      },
      "outputs": [
        {
          "output_type": "stream",
          "name": "stdout",
          "text": [
            "union:  {'v', 'a', 'r', 'h', 'g', 'w', 'b', 't', 'e'}\n",
            "intersection:  {'a', 'r', 'e'}\n",
            "left difference:  {'g', 'v', 'b'}\n",
            "right difference:  {'t', 'w', 'h'}\n"
          ]
        }
      ],
      "source": [
        "set_a={'a','b','e','v','g','r'}\n",
        "set_b={'a','e','h','t','r','w'}\n",
        "print('union: ' ,set_a.union(set_b))\n",
        "print('intersection: ' , set_a.intersection(set_b))\n",
        "print('left difference: ', set_a-set_b)\n",
        "print('right difference: ', set_b-set_a)"
      ]
    },
    {
      "cell_type": "markdown",
      "metadata": {
        "deletable": false,
        "editable": false,
        "nbgrader": {
          "cell_type": "markdown",
          "checksum": "6a6fd1728aef4c5c13d8703b4fc3b0fd",
          "grade": false,
          "grade_id": "cell-6975b5c3cd3b6be9",
          "locked": true,
          "schema_version": 3,
          "solution": false,
          "task": false
        },
        "id": "RaWDmBBdjE6m"
      },
      "source": [
        "## 5. RegEx\n",
        "\n",
        "Answer the following sub-questions using the following instructions;\n",
        "\n",
        "- Enter your solution in the cell block below only.\n",
        "- Do not edit anything else apart from 'YOUR CODE HERE' for your solution"
      ]
    },
    {
      "cell_type": "code",
      "execution_count": 11,
      "metadata": {
        "ExecuteTime": {
          "end_time": "2021-12-09T11:23:09.823219Z",
          "start_time": "2021-12-09T11:23:09.795975Z"
        },
        "id": "pJm3VIxGjE6m"
      },
      "outputs": [],
      "source": [
        "#Run this code cell before proceeding to answer the questions below\n",
        "import re"
      ]
    },
    {
      "cell_type": "markdown",
      "metadata": {
        "deletable": false,
        "editable": false,
        "nbgrader": {
          "cell_type": "markdown",
          "checksum": "4d96d161ff9b32d74930f8901da912bf",
          "grade": false,
          "grade_id": "cell-ca20f62538f5d9fe",
          "locked": true,
          "schema_version": 3,
          "solution": false,
          "task": false
        },
        "id": "JLSW0qtLjE6m"
      },
      "source": [
        "### Write a regex program that matches a string that has an 'a' followed by two or three 'b'."
      ]
    },
    {
      "cell_type": "code",
      "execution_count": 53,
      "metadata": {
        "deletable": false,
        "nbgrader": {
          "cell_type": "code",
          "checksum": "bd89674e9483548d9a2e18a300cf415e",
          "grade": false,
          "grade_id": "cell-618c4367ee98ea41",
          "locked": false,
          "schema_version": 3,
          "solution": true,
          "task": false
        },
        "colab": {
          "base_uri": "https://localhost:8080/"
        },
        "id": "gAoSE8rwjE6n",
        "outputId": "5826c10b-34ab-4f7f-8973-2dcb70c83373"
      },
      "outputs": [
        {
          "output_type": "stream",
          "name": "stdout",
          "text": [
            "matched\n",
            "Not matched\n",
            "Not matched\n",
            "matched\n"
          ]
        }
      ],
      "source": [
        "def ans4(text):\n",
        "  comp_pattern =re.compile('^[ab]{2,3}$')\n",
        "  res= comp_pattern.match(text)\n",
        "  if res:\n",
        "      print('matched')\n",
        "  else:\n",
        "      print('Not matched')\n",
        "ans4(\"abb\")\n",
        "ans4(\"abbcbbbc\")\n",
        "ans4('abbsolute')\n",
        "ans4('abb')"
      ]
    },
    {
      "cell_type": "code",
      "execution_count": null,
      "metadata": {
        "deletable": false,
        "editable": false,
        "nbgrader": {
          "cell_type": "code",
          "checksum": "242e4677c2da2c46c0ce9073dac0790a",
          "grade": true,
          "grade_id": "cell-6bad3621723a283c",
          "locked": true,
          "points": 1,
          "schema_version": 3,
          "solution": false,
          "task": false
        },
        "id": "vWNeHtJ9jE6n"
      },
      "outputs": [],
      "source": [
        ""
      ]
    },
    {
      "cell_type": "markdown",
      "metadata": {
        "id": "zRBGTt-_jE6n"
      },
      "source": [
        "## 6. Predict Output\n",
        "\n",
        "Consider the following code and try to guess what the output will be."
      ]
    },
    {
      "cell_type": "code",
      "execution_count": null,
      "metadata": {
        "id": "rZ_hBYCmjE6n"
      },
      "outputs": [],
      "source": [
        "s1= {1,2,3,4,4,1,2}\n",
        "s2= {4,3,2,1}\n",
        "l1 = [4,3,2,1]\n",
        "l2= [1,2,3,4,4,1,2]\n",
        "\n",
        "print(list(s1)==l2)\n",
        "print(set(l1)==s2)\n",
        "print(s1==s2)"
      ]
    },
    {
      "cell_type": "code",
      "execution_count": null,
      "metadata": {
        "id": "Fmd8qMPqjE6n"
      },
      "outputs": [],
      "source": [
        "''' print(list(s1)==l2)= False. we can convert only list to set and we canot convert set to list\n",
        "print(set(l1)==s2)= True. set(l1) and s2 have same values\n",
        "print(s1==s2) true. since both are sets and s2 is subset of s1'''"
      ]
    },
    {
      "cell_type": "code",
      "execution_count": null,
      "metadata": {
        "deletable": false,
        "editable": false,
        "nbgrader": {
          "cell_type": "code",
          "checksum": "4dc1f05b349cdc8dce78d5268c39789d",
          "grade": false,
          "grade_id": "cell-a04a45a8ccb6f0e2",
          "locked": true,
          "schema_version": 3,
          "solution": false,
          "task": false
        },
        "id": "mgnmugkCjE6o"
      },
      "outputs": [],
      "source": [
        ""
      ]
    },
    {
      "cell_type": "markdown",
      "metadata": {
        "id": "BIhk4-d9jE6o"
      },
      "source": [
        "## 7. User Score\n",
        "\n",
        "You are a forum admin. You wish to find out the total score of each user using the scoring logic given below. If the user scores more than 50, then the user is given a Leader badge, otherwise a Basic badge is given.\n",
        "\n",
        "Instructions:\n",
        "- Enter your solution in the cell block below only. Double click to edit.\n",
        "- Do not edit anything else apart from 'YOUR ANSWER HERE' for your solution"
      ]
    },
    {
      "cell_type": "markdown",
      "metadata": {
        "id": "-49h6mzpjE6o"
      },
      "source": [
        "| Action | Points |\n",
        "| --- | --- |\n",
        "| read a post | 1 |\n",
        "| replied to a post | 3 |\n",
        "| created a new post | 5 |"
      ]
    },
    {
      "cell_type": "markdown",
      "metadata": {
        "id": "4P2fHoGIjE6p"
      },
      "source": [
        "Implement the body of the function `user_score`. The function accepts 3 integer arguments- `read_count, reply_count, new_post_count`. It calculates the score based on the input counts and returns `Leader` or `Basic`."
      ]
    },
    {
      "cell_type": "code",
      "execution_count": 25,
      "metadata": {
        "colab": {
          "base_uri": "https://localhost:8080/",
          "height": 35
        },
        "id": "avoP1CsKjE6p",
        "outputId": "eb515b49-d19f-4759-cb52-7ab5e0966e7f"
      },
      "outputs": [
        {
          "output_type": "execute_result",
          "data": {
            "text/plain": [
              "'Leader Badge'"
            ],
            "application/vnd.google.colaboratory.intrinsic+json": {
              "type": "string"
            }
          },
          "metadata": {},
          "execution_count": 25
        }
      ],
      "source": [
        "def user_score(read_count, reply_count, new_post_count):\n",
        "  score=read_count*1+reply_count*3+new_post_count*5\n",
        "  if score>50:\n",
        "    return 'Leader Badge'\n",
        "  else:\n",
        "    return 'Basic Badge'\n",
        "user_score(3,5,7)\n",
        "    #Write Function Body\n",
        "    #YOUR ANSWER HERE"
      ]
    }
  ],
  "metadata": {
    "celltoolbar": "Create Assignment",
    "kernelspec": {
      "display_name": "Python 3 (ipykernel)",
      "language": "python",
      "name": "python3"
    },
    "language_info": {
      "codemirror_mode": {
        "name": "ipython",
        "version": 3
      },
      "file_extension": ".py",
      "mimetype": "text/x-python",
      "name": "python",
      "nbconvert_exporter": "python",
      "pygments_lexer": "ipython3",
      "version": "3.9.1"
    },
    "toc": {
      "base_numbering": 1,
      "nav_menu": {},
      "number_sections": true,
      "sideBar": true,
      "skip_h1_title": false,
      "title_cell": "Table of Contents",
      "title_sidebar": "Contents",
      "toc_cell": false,
      "toc_position": {},
      "toc_section_display": true,
      "toc_window_display": false
    },
    "varInspector": {
      "cols": {
        "lenName": 16,
        "lenType": 16,
        "lenVar": 40
      },
      "kernels_config": {
        "python": {
          "delete_cmd_postfix": "",
          "delete_cmd_prefix": "del ",
          "library": "var_list.py",
          "varRefreshCmd": "print(var_dic_list())"
        },
        "r": {
          "delete_cmd_postfix": ") ",
          "delete_cmd_prefix": "rm(",
          "library": "var_list.r",
          "varRefreshCmd": "cat(var_dic_list()) "
        }
      },
      "types_to_exclude": [
        "module",
        "function",
        "builtin_function_or_method",
        "instance",
        "_Feature"
      ],
      "window_display": false
    },
    "colab": {
      "name": "PW3-A1_ds14.ipynb",
      "provenance": [],
      "collapsed_sections": [
        "-gYNcPVRjE6e"
      ]
    }
  },
  "nbformat": 4,
  "nbformat_minor": 0
}